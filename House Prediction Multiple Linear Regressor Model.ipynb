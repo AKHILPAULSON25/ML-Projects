{
 "cells": [
  {
   "cell_type": "markdown",
   "metadata": {},
   "source": [
    "## House Price Prediction uisng Multiple Linear Regressor - Machine Learning Model"
   ]
  },
  {
   "cell_type": "markdown",
   "metadata": {},
   "source": [
    "### Akhil Paulson\n"
   ]
  },
  {
   "cell_type": "code",
   "execution_count": 428,
   "metadata": {},
   "outputs": [],
   "source": [
    "# importing all the necessary libraries\n",
    "import numpy as np\n",
    "import pandas as pd\n",
    "import matplotlib.pyplot as plt\n",
    "import seaborn as sns\n",
    "from sklearn.model_selection import train_test_split\n",
    "from sklearn.metrics import mean_squared_error as MSE\n",
    "from sklearn.metrics import r2_score\n",
    "from scipy.stats import norm\n",
    "from scipy import stats\n",
    "from   statsmodels.formula.api import ols\n",
    "import statsmodels.api         as     sm\n",
    "from sklearn import datasets, linear_model, metrics"
   ]
  },
  {
   "cell_type": "markdown",
   "metadata": {},
   "source": [
    "### Introduction"
   ]
  },
  {
   "cell_type": "markdown",
   "metadata": {},
   "source": [
    "#### We have a dataset from King County which is located in the U.S. state of Washington, containing a whole information about features such as no.of bedrooms,no.of bathrooms,sqft_living,floors,sqft_living,sqft_basement,yr_built etc to predict the price of a house."
   ]
  },
  {
   "cell_type": "markdown",
   "metadata": {},
   "source": [
    "##### Importing the dataset"
   ]
  },
  {
   "cell_type": "code",
   "execution_count": 429,
   "metadata": {},
   "outputs": [
    {
     "data": {
      "text/html": [
       "<div>\n",
       "<style scoped>\n",
       "    .dataframe tbody tr th:only-of-type {\n",
       "        vertical-align: middle;\n",
       "    }\n",
       "\n",
       "    .dataframe tbody tr th {\n",
       "        vertical-align: top;\n",
       "    }\n",
       "\n",
       "    .dataframe thead th {\n",
       "        text-align: right;\n",
       "    }\n",
       "</style>\n",
       "<table border=\"1\" class=\"dataframe\">\n",
       "  <thead>\n",
       "    <tr style=\"text-align: right;\">\n",
       "      <th></th>\n",
       "      <th>id</th>\n",
       "      <th>date</th>\n",
       "      <th>price</th>\n",
       "      <th>bedrooms</th>\n",
       "      <th>bathrooms</th>\n",
       "      <th>sqft_living</th>\n",
       "      <th>sqft_lot</th>\n",
       "      <th>floors</th>\n",
       "      <th>waterfront</th>\n",
       "      <th>view</th>\n",
       "      <th>...</th>\n",
       "      <th>grade</th>\n",
       "      <th>sqft_above</th>\n",
       "      <th>sqft_basement</th>\n",
       "      <th>yr_built</th>\n",
       "      <th>yr_renovated</th>\n",
       "      <th>zipcode</th>\n",
       "      <th>lat</th>\n",
       "      <th>long</th>\n",
       "      <th>sqft_living15</th>\n",
       "      <th>sqft_lot15</th>\n",
       "    </tr>\n",
       "  </thead>\n",
       "  <tbody>\n",
       "    <tr>\n",
       "      <th>0</th>\n",
       "      <td>2487200875</td>\n",
       "      <td>20141209T000000</td>\n",
       "      <td>604000.0</td>\n",
       "      <td>4</td>\n",
       "      <td>3.00</td>\n",
       "      <td>1960</td>\n",
       "      <td>5000</td>\n",
       "      <td>1.0</td>\n",
       "      <td>0</td>\n",
       "      <td>0</td>\n",
       "      <td>...</td>\n",
       "      <td>7</td>\n",
       "      <td>1050</td>\n",
       "      <td>910</td>\n",
       "      <td>1965</td>\n",
       "      <td>0</td>\n",
       "      <td>98136</td>\n",
       "      <td>47.5208</td>\n",
       "      <td>-122.393</td>\n",
       "      <td>1360</td>\n",
       "      <td>5000</td>\n",
       "    </tr>\n",
       "    <tr>\n",
       "      <th>1</th>\n",
       "      <td>7237550310</td>\n",
       "      <td>20140512T000000</td>\n",
       "      <td>1230000.0</td>\n",
       "      <td>4</td>\n",
       "      <td>4.50</td>\n",
       "      <td>5420</td>\n",
       "      <td>101930</td>\n",
       "      <td>1.0</td>\n",
       "      <td>0</td>\n",
       "      <td>0</td>\n",
       "      <td>...</td>\n",
       "      <td>11</td>\n",
       "      <td>3890</td>\n",
       "      <td>1530</td>\n",
       "      <td>2001</td>\n",
       "      <td>0</td>\n",
       "      <td>98053</td>\n",
       "      <td>47.6561</td>\n",
       "      <td>-122.005</td>\n",
       "      <td>4760</td>\n",
       "      <td>101930</td>\n",
       "    </tr>\n",
       "    <tr>\n",
       "      <th>2</th>\n",
       "      <td>9212900260</td>\n",
       "      <td>20140527T000000</td>\n",
       "      <td>468000.0</td>\n",
       "      <td>2</td>\n",
       "      <td>1.00</td>\n",
       "      <td>1160</td>\n",
       "      <td>6000</td>\n",
       "      <td>1.0</td>\n",
       "      <td>0</td>\n",
       "      <td>0</td>\n",
       "      <td>...</td>\n",
       "      <td>7</td>\n",
       "      <td>860</td>\n",
       "      <td>300</td>\n",
       "      <td>1942</td>\n",
       "      <td>0</td>\n",
       "      <td>98115</td>\n",
       "      <td>47.6900</td>\n",
       "      <td>-122.292</td>\n",
       "      <td>1330</td>\n",
       "      <td>6000</td>\n",
       "    </tr>\n",
       "    <tr>\n",
       "      <th>3</th>\n",
       "      <td>114101516</td>\n",
       "      <td>20140528T000000</td>\n",
       "      <td>310000.0</td>\n",
       "      <td>3</td>\n",
       "      <td>1.00</td>\n",
       "      <td>1430</td>\n",
       "      <td>19901</td>\n",
       "      <td>1.5</td>\n",
       "      <td>0</td>\n",
       "      <td>0</td>\n",
       "      <td>...</td>\n",
       "      <td>7</td>\n",
       "      <td>1430</td>\n",
       "      <td>0</td>\n",
       "      <td>1927</td>\n",
       "      <td>0</td>\n",
       "      <td>98028</td>\n",
       "      <td>47.7558</td>\n",
       "      <td>-122.229</td>\n",
       "      <td>1780</td>\n",
       "      <td>12697</td>\n",
       "    </tr>\n",
       "    <tr>\n",
       "      <th>4</th>\n",
       "      <td>6054650070</td>\n",
       "      <td>20141007T000000</td>\n",
       "      <td>400000.0</td>\n",
       "      <td>3</td>\n",
       "      <td>1.75</td>\n",
       "      <td>1370</td>\n",
       "      <td>9680</td>\n",
       "      <td>1.0</td>\n",
       "      <td>0</td>\n",
       "      <td>0</td>\n",
       "      <td>...</td>\n",
       "      <td>7</td>\n",
       "      <td>1370</td>\n",
       "      <td>0</td>\n",
       "      <td>1977</td>\n",
       "      <td>0</td>\n",
       "      <td>98074</td>\n",
       "      <td>47.6127</td>\n",
       "      <td>-122.045</td>\n",
       "      <td>1370</td>\n",
       "      <td>10208</td>\n",
       "    </tr>\n",
       "  </tbody>\n",
       "</table>\n",
       "<p>5 rows × 21 columns</p>\n",
       "</div>"
      ],
      "text/plain": [
       "           id             date      price  bedrooms  bathrooms  sqft_living  \\\n",
       "0  2487200875  20141209T000000   604000.0         4       3.00         1960   \n",
       "1  7237550310  20140512T000000  1230000.0         4       4.50         5420   \n",
       "2  9212900260  20140527T000000   468000.0         2       1.00         1160   \n",
       "3   114101516  20140528T000000   310000.0         3       1.00         1430   \n",
       "4  6054650070  20141007T000000   400000.0         3       1.75         1370   \n",
       "\n",
       "   sqft_lot  floors  waterfront  view  ...  grade  sqft_above  sqft_basement  \\\n",
       "0      5000     1.0           0     0  ...      7        1050            910   \n",
       "1    101930     1.0           0     0  ...     11        3890           1530   \n",
       "2      6000     1.0           0     0  ...      7         860            300   \n",
       "3     19901     1.5           0     0  ...      7        1430              0   \n",
       "4      9680     1.0           0     0  ...      7        1370              0   \n",
       "\n",
       "   yr_built  yr_renovated  zipcode      lat     long  sqft_living15  \\\n",
       "0      1965             0    98136  47.5208 -122.393           1360   \n",
       "1      2001             0    98053  47.6561 -122.005           4760   \n",
       "2      1942             0    98115  47.6900 -122.292           1330   \n",
       "3      1927             0    98028  47.7558 -122.229           1780   \n",
       "4      1977             0    98074  47.6127 -122.045           1370   \n",
       "\n",
       "   sqft_lot15  \n",
       "0        5000  \n",
       "1      101930  \n",
       "2        6000  \n",
       "3       12697  \n",
       "4       10208  \n",
       "\n",
       "[5 rows x 21 columns]"
      ]
     },
     "execution_count": 429,
     "metadata": {},
     "output_type": "execute_result"
    }
   ],
   "source": [
    "data = pd.read_csv(\"C:\\\\Users\\\\91703\\\\Downloads\\\\kc_house_train_data.csv\")\n",
    "data.head()"
   ]
  },
  {
   "cell_type": "code",
   "execution_count": 430,
   "metadata": {},
   "outputs": [
    {
     "data": {
      "text/plain": [
       "(9761, 21)"
      ]
     },
     "execution_count": 430,
     "metadata": {},
     "output_type": "execute_result"
    }
   ],
   "source": [
    "data.shape                   # total no. of rows and columns in our dataset"
   ]
  },
  {
   "cell_type": "code",
   "execution_count": null,
   "metadata": {},
   "outputs": [],
   "source": []
  },
  {
   "cell_type": "markdown",
   "metadata": {},
   "source": [
    "Our dataset consists of '9761' observations and '20' variables"
   ]
  },
  {
   "cell_type": "markdown",
   "metadata": {},
   "source": [
    "##### checking for duplicated observations"
   ]
  },
  {
   "cell_type": "code",
   "execution_count": 431,
   "metadata": {},
   "outputs": [
    {
     "data": {
      "text/html": [
       "<div>\n",
       "<style scoped>\n",
       "    .dataframe tbody tr th:only-of-type {\n",
       "        vertical-align: middle;\n",
       "    }\n",
       "\n",
       "    .dataframe tbody tr th {\n",
       "        vertical-align: top;\n",
       "    }\n",
       "\n",
       "    .dataframe thead th {\n",
       "        text-align: right;\n",
       "    }\n",
       "</style>\n",
       "<table border=\"1\" class=\"dataframe\">\n",
       "  <thead>\n",
       "    <tr style=\"text-align: right;\">\n",
       "      <th></th>\n",
       "      <th>id</th>\n",
       "      <th>date</th>\n",
       "      <th>price</th>\n",
       "      <th>bedrooms</th>\n",
       "      <th>bathrooms</th>\n",
       "      <th>sqft_living</th>\n",
       "      <th>sqft_lot</th>\n",
       "      <th>floors</th>\n",
       "      <th>waterfront</th>\n",
       "      <th>view</th>\n",
       "      <th>...</th>\n",
       "      <th>grade</th>\n",
       "      <th>sqft_above</th>\n",
       "      <th>sqft_basement</th>\n",
       "      <th>yr_built</th>\n",
       "      <th>yr_renovated</th>\n",
       "      <th>zipcode</th>\n",
       "      <th>lat</th>\n",
       "      <th>long</th>\n",
       "      <th>sqft_living15</th>\n",
       "      <th>sqft_lot15</th>\n",
       "    </tr>\n",
       "  </thead>\n",
       "  <tbody>\n",
       "  </tbody>\n",
       "</table>\n",
       "<p>0 rows × 21 columns</p>\n",
       "</div>"
      ],
      "text/plain": [
       "Empty DataFrame\n",
       "Columns: [id, date, price, bedrooms, bathrooms, sqft_living, sqft_lot, floors, waterfront, view, condition, grade, sqft_above, sqft_basement, yr_built, yr_renovated, zipcode, lat, long, sqft_living15, sqft_lot15]\n",
       "Index: []\n",
       "\n",
       "[0 rows x 21 columns]"
      ]
     },
     "execution_count": 431,
     "metadata": {},
     "output_type": "execute_result"
    }
   ],
   "source": [
    "data[data.duplicated()]"
   ]
  },
  {
   "cell_type": "markdown",
   "metadata": {},
   "source": [
    "There are no duplicate observations found in the dataset"
   ]
  },
  {
   "cell_type": "code",
   "execution_count": 432,
   "metadata": {},
   "outputs": [
    {
     "data": {
      "text/plain": [
       "Index(['id', 'date', 'price', 'bedrooms', 'bathrooms', 'sqft_living',\n",
       "       'sqft_lot', 'floors', 'waterfront', 'view', 'condition', 'grade',\n",
       "       'sqft_above', 'sqft_basement', 'yr_built', 'yr_renovated', 'zipcode',\n",
       "       'lat', 'long', 'sqft_living15', 'sqft_lot15'],\n",
       "      dtype='object')"
      ]
     },
     "execution_count": 432,
     "metadata": {},
     "output_type": "execute_result"
    }
   ],
   "source": [
    "data.columns                 # displaying the variable column names"
   ]
  },
  {
   "cell_type": "markdown",
   "metadata": {},
   "source": [
    "#### Independent and Dependent Variables in the dataset"
   ]
  },
  {
   "cell_type": "markdown",
   "metadata": {},
   "source": [
    "id = a number given to each house"
   ]
  },
  {
   "cell_type": "markdown",
   "metadata": {},
   "source": [
    "date = date on which the price of the house is estimated"
   ]
  },
  {
   "cell_type": "markdown",
   "metadata": {},
   "source": [
    "price =  the total price of the house"
   ]
  },
  {
   "cell_type": "markdown",
   "metadata": {},
   "source": [
    "bedrooms = the number of bedrooms available in the house"
   ]
  },
  {
   "cell_type": "markdown",
   "metadata": {},
   "source": [
    "bathrooms =  the number of bathrooms available in the house"
   ]
  },
  {
   "cell_type": "markdown",
   "metadata": {},
   "source": [
    "sqft_living = squarefeet area of the total living area of the house"
   ]
  },
  {
   "cell_type": "markdown",
   "metadata": {},
   "source": [
    "sqft_lot = squarefeet area of the entire plot in which the house is located"
   ]
  },
  {
   "cell_type": "markdown",
   "metadata": {},
   "source": [
    "floors =  the number of floors of the house"
   ]
  },
  {
   "cell_type": "markdown",
   "metadata": {},
   "source": [
    "waterfront =  an indication of whether the house is next to any lake or anyother waterbody"
   ]
  },
  {
   "cell_type": "markdown",
   "metadata": {},
   "source": [
    "view =  an indication of whether the view of the house is available or not"
   ]
  },
  {
   "cell_type": "markdown",
   "metadata": {},
   "source": [
    "condition =  an level indicating, how good the condition of the house is?"
   ]
  },
  {
   "cell_type": "markdown",
   "metadata": {},
   "source": [
    "grade =  an level indicating the grade of the house according to the grading system in Kingston County"
   ]
  },
  {
   "cell_type": "markdown",
   "metadata": {},
   "source": [
    "sqft_above = squarefeet area of the part of the house apart from from the basement"
   ]
  },
  {
   "cell_type": "markdown",
   "metadata": {},
   "source": [
    "sqft_basement = squarefeet area  of the basement of the  house"
   ]
  },
  {
   "cell_type": "markdown",
   "metadata": {},
   "source": [
    "yr_built = year in which the house is built"
   ]
  },
  {
   "cell_type": "markdown",
   "metadata": {},
   "source": [
    "yr_renovated = year when the house was renovated"
   ]
  },
  {
   "cell_type": "markdown",
   "metadata": {},
   "source": [
    "zipcode = zipcode of the area in which the house is located"
   ]
  },
  {
   "cell_type": "markdown",
   "metadata": {},
   "source": [
    "lat = latitude co-ordinate of the area in which the house is located"
   ]
  },
  {
   "cell_type": "markdown",
   "metadata": {},
   "source": [
    "lon = longititude co-ordinate of the area in which the house is located"
   ]
  },
  {
   "cell_type": "markdown",
   "metadata": {},
   "source": [
    "sqft_living15 = squarefeet area of the living space of 15 nearest neighbours"
   ]
  },
  {
   "cell_type": "markdown",
   "metadata": {},
   "source": [
    "sqft_lot15 = squarefeet area of the lot of 15 nearest neighbours"
   ]
  },
  {
   "cell_type": "code",
   "execution_count": 433,
   "metadata": {},
   "outputs": [],
   "source": [
    "data = data.drop('id',axis=1) # we are dropping the column 'id' ,since it is not relevant and it doesnot make any influence on the price of the house"
   ]
  },
  {
   "cell_type": "code",
   "execution_count": 434,
   "metadata": {},
   "outputs": [
    {
     "data": {
      "text/html": [
       "<div>\n",
       "<style scoped>\n",
       "    .dataframe tbody tr th:only-of-type {\n",
       "        vertical-align: middle;\n",
       "    }\n",
       "\n",
       "    .dataframe tbody tr th {\n",
       "        vertical-align: top;\n",
       "    }\n",
       "\n",
       "    .dataframe thead th {\n",
       "        text-align: right;\n",
       "    }\n",
       "</style>\n",
       "<table border=\"1\" class=\"dataframe\">\n",
       "  <thead>\n",
       "    <tr style=\"text-align: right;\">\n",
       "      <th></th>\n",
       "      <th>price</th>\n",
       "      <th>bedrooms</th>\n",
       "      <th>bathrooms</th>\n",
       "      <th>sqft_living</th>\n",
       "      <th>sqft_lot</th>\n",
       "      <th>floors</th>\n",
       "      <th>waterfront</th>\n",
       "      <th>view</th>\n",
       "      <th>condition</th>\n",
       "      <th>grade</th>\n",
       "      <th>sqft_above</th>\n",
       "      <th>sqft_basement</th>\n",
       "      <th>yr_built</th>\n",
       "      <th>yr_renovated</th>\n",
       "      <th>zipcode</th>\n",
       "      <th>lat</th>\n",
       "      <th>long</th>\n",
       "      <th>sqft_living15</th>\n",
       "      <th>sqft_lot15</th>\n",
       "    </tr>\n",
       "  </thead>\n",
       "  <tbody>\n",
       "    <tr>\n",
       "      <th>count</th>\n",
       "      <td>9.761000e+03</td>\n",
       "      <td>9761.000000</td>\n",
       "      <td>9761.000000</td>\n",
       "      <td>9761.000000</td>\n",
       "      <td>9.761000e+03</td>\n",
       "      <td>9761.000000</td>\n",
       "      <td>9761.000000</td>\n",
       "      <td>9761.000000</td>\n",
       "      <td>9761.000000</td>\n",
       "      <td>9761.00000</td>\n",
       "      <td>9761.000000</td>\n",
       "      <td>9761.000000</td>\n",
       "      <td>9761.000000</td>\n",
       "      <td>9761.000000</td>\n",
       "      <td>9761.000000</td>\n",
       "      <td>9761.000000</td>\n",
       "      <td>9761.000000</td>\n",
       "      <td>9761.000000</td>\n",
       "      <td>9761.000000</td>\n",
       "    </tr>\n",
       "    <tr>\n",
       "      <th>mean</th>\n",
       "      <td>5.428336e+05</td>\n",
       "      <td>3.375884</td>\n",
       "      <td>2.117175</td>\n",
       "      <td>2086.734146</td>\n",
       "      <td>1.521526e+04</td>\n",
       "      <td>1.486067</td>\n",
       "      <td>0.008401</td>\n",
       "      <td>0.248028</td>\n",
       "      <td>3.415531</td>\n",
       "      <td>7.66151</td>\n",
       "      <td>1793.291159</td>\n",
       "      <td>293.442987</td>\n",
       "      <td>1970.799508</td>\n",
       "      <td>86.066592</td>\n",
       "      <td>98077.790185</td>\n",
       "      <td>47.560052</td>\n",
       "      <td>-122.214322</td>\n",
       "      <td>1992.359697</td>\n",
       "      <td>12824.785165</td>\n",
       "    </tr>\n",
       "    <tr>\n",
       "      <th>std</th>\n",
       "      <td>3.797779e+05</td>\n",
       "      <td>0.960697</td>\n",
       "      <td>0.773971</td>\n",
       "      <td>927.194303</td>\n",
       "      <td>4.126673e+04</td>\n",
       "      <td>0.532317</td>\n",
       "      <td>0.091275</td>\n",
       "      <td>0.787877</td>\n",
       "      <td>0.650552</td>\n",
       "      <td>1.18268</td>\n",
       "      <td>835.763817</td>\n",
       "      <td>442.612722</td>\n",
       "      <td>29.240009</td>\n",
       "      <td>405.417369</td>\n",
       "      <td>53.203594</td>\n",
       "      <td>0.140236</td>\n",
       "      <td>0.139895</td>\n",
       "      <td>687.322247</td>\n",
       "      <td>26518.337402</td>\n",
       "    </tr>\n",
       "    <tr>\n",
       "      <th>min</th>\n",
       "      <td>8.000000e+04</td>\n",
       "      <td>0.000000</td>\n",
       "      <td>0.000000</td>\n",
       "      <td>290.000000</td>\n",
       "      <td>5.200000e+02</td>\n",
       "      <td>1.000000</td>\n",
       "      <td>0.000000</td>\n",
       "      <td>0.000000</td>\n",
       "      <td>1.000000</td>\n",
       "      <td>1.00000</td>\n",
       "      <td>290.000000</td>\n",
       "      <td>0.000000</td>\n",
       "      <td>1900.000000</td>\n",
       "      <td>0.000000</td>\n",
       "      <td>98001.000000</td>\n",
       "      <td>47.155900</td>\n",
       "      <td>-122.514000</td>\n",
       "      <td>620.000000</td>\n",
       "      <td>660.000000</td>\n",
       "    </tr>\n",
       "    <tr>\n",
       "      <th>25%</th>\n",
       "      <td>3.200000e+05</td>\n",
       "      <td>3.000000</td>\n",
       "      <td>1.750000</td>\n",
       "      <td>1420.000000</td>\n",
       "      <td>5.100000e+03</td>\n",
       "      <td>1.000000</td>\n",
       "      <td>0.000000</td>\n",
       "      <td>0.000000</td>\n",
       "      <td>3.000000</td>\n",
       "      <td>7.00000</td>\n",
       "      <td>1190.000000</td>\n",
       "      <td>0.000000</td>\n",
       "      <td>1951.000000</td>\n",
       "      <td>0.000000</td>\n",
       "      <td>98033.000000</td>\n",
       "      <td>47.467800</td>\n",
       "      <td>-122.327000</td>\n",
       "      <td>1490.000000</td>\n",
       "      <td>5160.000000</td>\n",
       "    </tr>\n",
       "    <tr>\n",
       "      <th>50%</th>\n",
       "      <td>4.500000e+05</td>\n",
       "      <td>3.000000</td>\n",
       "      <td>2.250000</td>\n",
       "      <td>1910.000000</td>\n",
       "      <td>7.642000e+03</td>\n",
       "      <td>1.500000</td>\n",
       "      <td>0.000000</td>\n",
       "      <td>0.000000</td>\n",
       "      <td>3.000000</td>\n",
       "      <td>7.00000</td>\n",
       "      <td>1570.000000</td>\n",
       "      <td>0.000000</td>\n",
       "      <td>1975.000000</td>\n",
       "      <td>0.000000</td>\n",
       "      <td>98065.000000</td>\n",
       "      <td>47.572200</td>\n",
       "      <td>-122.229000</td>\n",
       "      <td>1840.000000</td>\n",
       "      <td>7660.000000</td>\n",
       "    </tr>\n",
       "    <tr>\n",
       "      <th>75%</th>\n",
       "      <td>6.490000e+05</td>\n",
       "      <td>4.000000</td>\n",
       "      <td>2.500000</td>\n",
       "      <td>2570.000000</td>\n",
       "      <td>1.066000e+04</td>\n",
       "      <td>2.000000</td>\n",
       "      <td>0.000000</td>\n",
       "      <td>0.000000</td>\n",
       "      <td>4.000000</td>\n",
       "      <td>8.00000</td>\n",
       "      <td>2230.000000</td>\n",
       "      <td>570.000000</td>\n",
       "      <td>1996.000000</td>\n",
       "      <td>0.000000</td>\n",
       "      <td>98117.000000</td>\n",
       "      <td>47.680400</td>\n",
       "      <td>-122.126000</td>\n",
       "      <td>2370.000000</td>\n",
       "      <td>10113.000000</td>\n",
       "    </tr>\n",
       "    <tr>\n",
       "      <th>max</th>\n",
       "      <td>7.700000e+06</td>\n",
       "      <td>33.000000</td>\n",
       "      <td>8.000000</td>\n",
       "      <td>12050.000000</td>\n",
       "      <td>1.651359e+06</td>\n",
       "      <td>3.500000</td>\n",
       "      <td>1.000000</td>\n",
       "      <td>4.000000</td>\n",
       "      <td>5.000000</td>\n",
       "      <td>13.00000</td>\n",
       "      <td>8860.000000</td>\n",
       "      <td>3480.000000</td>\n",
       "      <td>2015.000000</td>\n",
       "      <td>2015.000000</td>\n",
       "      <td>98199.000000</td>\n",
       "      <td>47.777600</td>\n",
       "      <td>-121.319000</td>\n",
       "      <td>5790.000000</td>\n",
       "      <td>560617.000000</td>\n",
       "    </tr>\n",
       "  </tbody>\n",
       "</table>\n",
       "</div>"
      ],
      "text/plain": [
       "              price     bedrooms    bathrooms   sqft_living      sqft_lot  \\\n",
       "count  9.761000e+03  9761.000000  9761.000000   9761.000000  9.761000e+03   \n",
       "mean   5.428336e+05     3.375884     2.117175   2086.734146  1.521526e+04   \n",
       "std    3.797779e+05     0.960697     0.773971    927.194303  4.126673e+04   \n",
       "min    8.000000e+04     0.000000     0.000000    290.000000  5.200000e+02   \n",
       "25%    3.200000e+05     3.000000     1.750000   1420.000000  5.100000e+03   \n",
       "50%    4.500000e+05     3.000000     2.250000   1910.000000  7.642000e+03   \n",
       "75%    6.490000e+05     4.000000     2.500000   2570.000000  1.066000e+04   \n",
       "max    7.700000e+06    33.000000     8.000000  12050.000000  1.651359e+06   \n",
       "\n",
       "            floors   waterfront         view    condition       grade  \\\n",
       "count  9761.000000  9761.000000  9761.000000  9761.000000  9761.00000   \n",
       "mean      1.486067     0.008401     0.248028     3.415531     7.66151   \n",
       "std       0.532317     0.091275     0.787877     0.650552     1.18268   \n",
       "min       1.000000     0.000000     0.000000     1.000000     1.00000   \n",
       "25%       1.000000     0.000000     0.000000     3.000000     7.00000   \n",
       "50%       1.500000     0.000000     0.000000     3.000000     7.00000   \n",
       "75%       2.000000     0.000000     0.000000     4.000000     8.00000   \n",
       "max       3.500000     1.000000     4.000000     5.000000    13.00000   \n",
       "\n",
       "        sqft_above  sqft_basement     yr_built  yr_renovated       zipcode  \\\n",
       "count  9761.000000    9761.000000  9761.000000   9761.000000   9761.000000   \n",
       "mean   1793.291159     293.442987  1970.799508     86.066592  98077.790185   \n",
       "std     835.763817     442.612722    29.240009    405.417369     53.203594   \n",
       "min     290.000000       0.000000  1900.000000      0.000000  98001.000000   \n",
       "25%    1190.000000       0.000000  1951.000000      0.000000  98033.000000   \n",
       "50%    1570.000000       0.000000  1975.000000      0.000000  98065.000000   \n",
       "75%    2230.000000     570.000000  1996.000000      0.000000  98117.000000   \n",
       "max    8860.000000    3480.000000  2015.000000   2015.000000  98199.000000   \n",
       "\n",
       "               lat         long  sqft_living15     sqft_lot15  \n",
       "count  9761.000000  9761.000000    9761.000000    9761.000000  \n",
       "mean     47.560052  -122.214322    1992.359697   12824.785165  \n",
       "std       0.140236     0.139895     687.322247   26518.337402  \n",
       "min      47.155900  -122.514000     620.000000     660.000000  \n",
       "25%      47.467800  -122.327000    1490.000000    5160.000000  \n",
       "50%      47.572200  -122.229000    1840.000000    7660.000000  \n",
       "75%      47.680400  -122.126000    2370.000000   10113.000000  \n",
       "max      47.777600  -121.319000    5790.000000  560617.000000  "
      ]
     },
     "execution_count": 434,
     "metadata": {},
     "output_type": "execute_result"
    }
   ],
   "source": [
    "data.describe()  # decsribing every column of the dataset in terms of mean,standard deviation,minimum value,maximum value,\n",
    "# quartile values at 25%, 50%, 75%"
   ]
  },
  {
   "cell_type": "code",
   "execution_count": 435,
   "metadata": {},
   "outputs": [],
   "source": [
    "data1 = data.copy()                  # making a copy our dataset"
   ]
  },
  {
   "cell_type": "code",
   "execution_count": 436,
   "metadata": {},
   "outputs": [],
   "source": [
    "data1 = data1.drop(['date'],axis=1)  # dropping the column 'date' from the dataset"
   ]
  },
  {
   "cell_type": "code",
   "execution_count": 437,
   "metadata": {},
   "outputs": [
    {
     "data": {
      "text/html": [
       "<div>\n",
       "<style scoped>\n",
       "    .dataframe tbody tr th:only-of-type {\n",
       "        vertical-align: middle;\n",
       "    }\n",
       "\n",
       "    .dataframe tbody tr th {\n",
       "        vertical-align: top;\n",
       "    }\n",
       "\n",
       "    .dataframe thead th {\n",
       "        text-align: right;\n",
       "    }\n",
       "</style>\n",
       "<table border=\"1\" class=\"dataframe\">\n",
       "  <thead>\n",
       "    <tr style=\"text-align: right;\">\n",
       "      <th></th>\n",
       "      <th>price</th>\n",
       "      <th>bedrooms</th>\n",
       "      <th>bathrooms</th>\n",
       "      <th>sqft_living</th>\n",
       "      <th>sqft_lot</th>\n",
       "      <th>floors</th>\n",
       "      <th>waterfront</th>\n",
       "      <th>view</th>\n",
       "      <th>condition</th>\n",
       "      <th>grade</th>\n",
       "      <th>sqft_above</th>\n",
       "      <th>sqft_basement</th>\n",
       "      <th>yr_built</th>\n",
       "      <th>yr_renovated</th>\n",
       "      <th>zipcode</th>\n",
       "      <th>lat</th>\n",
       "      <th>long</th>\n",
       "      <th>sqft_living15</th>\n",
       "      <th>sqft_lot15</th>\n",
       "    </tr>\n",
       "  </thead>\n",
       "  <tbody>\n",
       "    <tr>\n",
       "      <th>0</th>\n",
       "      <td>604000.0</td>\n",
       "      <td>4</td>\n",
       "      <td>3.00</td>\n",
       "      <td>1960</td>\n",
       "      <td>5000</td>\n",
       "      <td>1.0</td>\n",
       "      <td>0</td>\n",
       "      <td>0</td>\n",
       "      <td>5</td>\n",
       "      <td>7</td>\n",
       "      <td>1050</td>\n",
       "      <td>910</td>\n",
       "      <td>1965</td>\n",
       "      <td>0</td>\n",
       "      <td>98136</td>\n",
       "      <td>47.5208</td>\n",
       "      <td>-122.393</td>\n",
       "      <td>1360</td>\n",
       "      <td>5000</td>\n",
       "    </tr>\n",
       "    <tr>\n",
       "      <th>1</th>\n",
       "      <td>1230000.0</td>\n",
       "      <td>4</td>\n",
       "      <td>4.50</td>\n",
       "      <td>5420</td>\n",
       "      <td>101930</td>\n",
       "      <td>1.0</td>\n",
       "      <td>0</td>\n",
       "      <td>0</td>\n",
       "      <td>3</td>\n",
       "      <td>11</td>\n",
       "      <td>3890</td>\n",
       "      <td>1530</td>\n",
       "      <td>2001</td>\n",
       "      <td>0</td>\n",
       "      <td>98053</td>\n",
       "      <td>47.6561</td>\n",
       "      <td>-122.005</td>\n",
       "      <td>4760</td>\n",
       "      <td>101930</td>\n",
       "    </tr>\n",
       "    <tr>\n",
       "      <th>2</th>\n",
       "      <td>468000.0</td>\n",
       "      <td>2</td>\n",
       "      <td>1.00</td>\n",
       "      <td>1160</td>\n",
       "      <td>6000</td>\n",
       "      <td>1.0</td>\n",
       "      <td>0</td>\n",
       "      <td>0</td>\n",
       "      <td>4</td>\n",
       "      <td>7</td>\n",
       "      <td>860</td>\n",
       "      <td>300</td>\n",
       "      <td>1942</td>\n",
       "      <td>0</td>\n",
       "      <td>98115</td>\n",
       "      <td>47.6900</td>\n",
       "      <td>-122.292</td>\n",
       "      <td>1330</td>\n",
       "      <td>6000</td>\n",
       "    </tr>\n",
       "    <tr>\n",
       "      <th>3</th>\n",
       "      <td>310000.0</td>\n",
       "      <td>3</td>\n",
       "      <td>1.00</td>\n",
       "      <td>1430</td>\n",
       "      <td>19901</td>\n",
       "      <td>1.5</td>\n",
       "      <td>0</td>\n",
       "      <td>0</td>\n",
       "      <td>4</td>\n",
       "      <td>7</td>\n",
       "      <td>1430</td>\n",
       "      <td>0</td>\n",
       "      <td>1927</td>\n",
       "      <td>0</td>\n",
       "      <td>98028</td>\n",
       "      <td>47.7558</td>\n",
       "      <td>-122.229</td>\n",
       "      <td>1780</td>\n",
       "      <td>12697</td>\n",
       "    </tr>\n",
       "    <tr>\n",
       "      <th>4</th>\n",
       "      <td>400000.0</td>\n",
       "      <td>3</td>\n",
       "      <td>1.75</td>\n",
       "      <td>1370</td>\n",
       "      <td>9680</td>\n",
       "      <td>1.0</td>\n",
       "      <td>0</td>\n",
       "      <td>0</td>\n",
       "      <td>4</td>\n",
       "      <td>7</td>\n",
       "      <td>1370</td>\n",
       "      <td>0</td>\n",
       "      <td>1977</td>\n",
       "      <td>0</td>\n",
       "      <td>98074</td>\n",
       "      <td>47.6127</td>\n",
       "      <td>-122.045</td>\n",
       "      <td>1370</td>\n",
       "      <td>10208</td>\n",
       "    </tr>\n",
       "  </tbody>\n",
       "</table>\n",
       "</div>"
      ],
      "text/plain": [
       "       price  bedrooms  bathrooms  sqft_living  sqft_lot  floors  waterfront  \\\n",
       "0   604000.0         4       3.00         1960      5000     1.0           0   \n",
       "1  1230000.0         4       4.50         5420    101930     1.0           0   \n",
       "2   468000.0         2       1.00         1160      6000     1.0           0   \n",
       "3   310000.0         3       1.00         1430     19901     1.5           0   \n",
       "4   400000.0         3       1.75         1370      9680     1.0           0   \n",
       "\n",
       "   view  condition  grade  sqft_above  sqft_basement  yr_built  yr_renovated  \\\n",
       "0     0          5      7        1050            910      1965             0   \n",
       "1     0          3     11        3890           1530      2001             0   \n",
       "2     0          4      7         860            300      1942             0   \n",
       "3     0          4      7        1430              0      1927             0   \n",
       "4     0          4      7        1370              0      1977             0   \n",
       "\n",
       "   zipcode      lat     long  sqft_living15  sqft_lot15  \n",
       "0    98136  47.5208 -122.393           1360        5000  \n",
       "1    98053  47.6561 -122.005           4760      101930  \n",
       "2    98115  47.6900 -122.292           1330        6000  \n",
       "3    98028  47.7558 -122.229           1780       12697  \n",
       "4    98074  47.6127 -122.045           1370       10208  "
      ]
     },
     "execution_count": 437,
     "metadata": {},
     "output_type": "execute_result"
    }
   ],
   "source": [
    "data1.head()"
   ]
  },
  {
   "cell_type": "code",
   "execution_count": 438,
   "metadata": {},
   "outputs": [
    {
     "data": {
      "text/html": [
       "<div>\n",
       "<style scoped>\n",
       "    .dataframe tbody tr th:only-of-type {\n",
       "        vertical-align: middle;\n",
       "    }\n",
       "\n",
       "    .dataframe tbody tr th {\n",
       "        vertical-align: top;\n",
       "    }\n",
       "\n",
       "    .dataframe thead th {\n",
       "        text-align: right;\n",
       "    }\n",
       "</style>\n",
       "<table border=\"1\" class=\"dataframe\">\n",
       "  <thead>\n",
       "    <tr style=\"text-align: right;\">\n",
       "      <th></th>\n",
       "      <th>price</th>\n",
       "      <th>bedrooms</th>\n",
       "      <th>bathrooms</th>\n",
       "      <th>sqft_living</th>\n",
       "      <th>sqft_lot</th>\n",
       "      <th>floors</th>\n",
       "      <th>waterfront</th>\n",
       "      <th>view</th>\n",
       "      <th>condition</th>\n",
       "      <th>grade</th>\n",
       "      <th>sqft_above</th>\n",
       "      <th>sqft_basement</th>\n",
       "      <th>yr_built</th>\n",
       "      <th>yr_renovated</th>\n",
       "      <th>zipcode</th>\n",
       "      <th>lat</th>\n",
       "      <th>long</th>\n",
       "      <th>sqft_living15</th>\n",
       "      <th>sqft_lot15</th>\n",
       "    </tr>\n",
       "  </thead>\n",
       "  <tbody>\n",
       "    <tr>\n",
       "      <th>0</th>\n",
       "      <td>0.161067</td>\n",
       "      <td>0.649683</td>\n",
       "      <td>1.140701</td>\n",
       "      <td>-0.136693</td>\n",
       "      <td>-0.247555</td>\n",
       "      <td>-0.913163</td>\n",
       "      <td>-0.092043</td>\n",
       "      <td>-0.314821</td>\n",
       "      <td>2.435701</td>\n",
       "      <td>-0.559360</td>\n",
       "      <td>-0.889401</td>\n",
       "      <td>1.393066</td>\n",
       "      <td>-0.198352</td>\n",
       "      <td>-0.212302</td>\n",
       "      <td>1.094152</td>\n",
       "      <td>-0.279914</td>\n",
       "      <td>-1.277300</td>\n",
       "      <td>-0.920081</td>\n",
       "      <td>-0.295086</td>\n",
       "    </tr>\n",
       "    <tr>\n",
       "      <th>1</th>\n",
       "      <td>1.809483</td>\n",
       "      <td>0.649683</td>\n",
       "      <td>3.078858</td>\n",
       "      <td>3.595187</td>\n",
       "      <td>2.101431</td>\n",
       "      <td>-0.913163</td>\n",
       "      <td>-0.092043</td>\n",
       "      <td>-0.314821</td>\n",
       "      <td>-0.638769</td>\n",
       "      <td>2.822962</td>\n",
       "      <td>2.508862</td>\n",
       "      <td>2.793911</td>\n",
       "      <td>1.032901</td>\n",
       "      <td>-0.212302</td>\n",
       "      <td>-0.465973</td>\n",
       "      <td>0.684938</td>\n",
       "      <td>1.496360</td>\n",
       "      <td>4.026906</td>\n",
       "      <td>3.360308</td>\n",
       "    </tr>\n",
       "    <tr>\n",
       "      <th>2</th>\n",
       "      <td>-0.197056</td>\n",
       "      <td>-1.432246</td>\n",
       "      <td>-1.443507</td>\n",
       "      <td>-0.999555</td>\n",
       "      <td>-0.223321</td>\n",
       "      <td>-0.913163</td>\n",
       "      <td>-0.092043</td>\n",
       "      <td>-0.314821</td>\n",
       "      <td>0.898466</td>\n",
       "      <td>-0.559360</td>\n",
       "      <td>-1.116750</td>\n",
       "      <td>0.014815</td>\n",
       "      <td>-0.984985</td>\n",
       "      <td>-0.212302</td>\n",
       "      <td>0.699421</td>\n",
       "      <td>0.926686</td>\n",
       "      <td>-0.555290</td>\n",
       "      <td>-0.963731</td>\n",
       "      <td>-0.257374</td>\n",
       "    </tr>\n",
       "    <tr>\n",
       "      <th>3</th>\n",
       "      <td>-0.613110</td>\n",
       "      <td>-0.391281</td>\n",
       "      <td>-1.443507</td>\n",
       "      <td>-0.708339</td>\n",
       "      <td>0.113553</td>\n",
       "      <td>0.026176</td>\n",
       "      <td>-0.092043</td>\n",
       "      <td>-0.314821</td>\n",
       "      <td>0.898466</td>\n",
       "      <td>-0.559360</td>\n",
       "      <td>-0.434704</td>\n",
       "      <td>-0.663013</td>\n",
       "      <td>-1.498007</td>\n",
       "      <td>-0.212302</td>\n",
       "      <td>-0.935890</td>\n",
       "      <td>1.395920</td>\n",
       "      <td>-0.104928</td>\n",
       "      <td>-0.308983</td>\n",
       "      <td>-0.004819</td>\n",
       "    </tr>\n",
       "    <tr>\n",
       "      <th>4</th>\n",
       "      <td>-0.376117</td>\n",
       "      <td>-0.391281</td>\n",
       "      <td>-0.474429</td>\n",
       "      <td>-0.773054</td>\n",
       "      <td>-0.134141</td>\n",
       "      <td>-0.913163</td>\n",
       "      <td>-0.092043</td>\n",
       "      <td>-0.314821</td>\n",
       "      <td>0.898466</td>\n",
       "      <td>-0.559360</td>\n",
       "      <td>-0.506498</td>\n",
       "      <td>-0.663013</td>\n",
       "      <td>0.212066</td>\n",
       "      <td>-0.212302</td>\n",
       "      <td>-0.071243</td>\n",
       "      <td>0.375444</td>\n",
       "      <td>1.210416</td>\n",
       "      <td>-0.905531</td>\n",
       "      <td>-0.098683</td>\n",
       "    </tr>\n",
       "    <tr>\n",
       "      <th>...</th>\n",
       "      <td>...</td>\n",
       "      <td>...</td>\n",
       "      <td>...</td>\n",
       "      <td>...</td>\n",
       "      <td>...</td>\n",
       "      <td>...</td>\n",
       "      <td>...</td>\n",
       "      <td>...</td>\n",
       "      <td>...</td>\n",
       "      <td>...</td>\n",
       "      <td>...</td>\n",
       "      <td>...</td>\n",
       "      <td>...</td>\n",
       "      <td>...</td>\n",
       "      <td>...</td>\n",
       "      <td>...</td>\n",
       "      <td>...</td>\n",
       "      <td>...</td>\n",
       "      <td>...</td>\n",
       "    </tr>\n",
       "    <tr>\n",
       "      <th>9756</th>\n",
       "      <td>-0.299753</td>\n",
       "      <td>-0.391281</td>\n",
       "      <td>-0.151403</td>\n",
       "      <td>-0.643624</td>\n",
       "      <td>-0.341437</td>\n",
       "      <td>2.844191</td>\n",
       "      <td>-0.092043</td>\n",
       "      <td>-0.314821</td>\n",
       "      <td>-0.638769</td>\n",
       "      <td>0.286220</td>\n",
       "      <td>-0.362910</td>\n",
       "      <td>-0.663013</td>\n",
       "      <td>1.477520</td>\n",
       "      <td>-0.212302</td>\n",
       "      <td>1.244525</td>\n",
       "      <td>0.070229</td>\n",
       "      <td>-0.526696</td>\n",
       "      <td>-0.861881</td>\n",
       "      <td>-0.437259</td>\n",
       "    </tr>\n",
       "    <tr>\n",
       "      <th>9757</th>\n",
       "      <td>0.178670</td>\n",
       "      <td>0.649683</td>\n",
       "      <td>0.494649</td>\n",
       "      <td>0.467311</td>\n",
       "      <td>-0.222764</td>\n",
       "      <td>0.965514</td>\n",
       "      <td>-0.092043</td>\n",
       "      <td>-0.314821</td>\n",
       "      <td>-0.638769</td>\n",
       "      <td>1.131801</td>\n",
       "      <td>0.869559</td>\n",
       "      <td>-0.663013</td>\n",
       "      <td>1.477520</td>\n",
       "      <td>-0.212302</td>\n",
       "      <td>-0.409583</td>\n",
       "      <td>-0.330545</td>\n",
       "      <td>0.338286</td>\n",
       "      <td>0.767715</td>\n",
       "      <td>-0.256507</td>\n",
       "    </tr>\n",
       "    <tr>\n",
       "      <th>9758</th>\n",
       "      <td>1.230167</td>\n",
       "      <td>0.649683</td>\n",
       "      <td>1.786754</td>\n",
       "      <td>1.535103</td>\n",
       "      <td>-0.194241</td>\n",
       "      <td>0.965514</td>\n",
       "      <td>-0.092043</td>\n",
       "      <td>-0.314821</td>\n",
       "      <td>-0.638769</td>\n",
       "      <td>1.131801</td>\n",
       "      <td>0.965285</td>\n",
       "      <td>1.393066</td>\n",
       "      <td>1.306513</td>\n",
       "      <td>-0.212302</td>\n",
       "      <td>1.094152</td>\n",
       "      <td>-0.045297</td>\n",
       "      <td>-1.313043</td>\n",
       "      <td>0.083866</td>\n",
       "      <td>-0.249832</td>\n",
       "    </tr>\n",
       "    <tr>\n",
       "      <th>9759</th>\n",
       "      <td>-0.370584</td>\n",
       "      <td>-1.432246</td>\n",
       "      <td>-1.766533</td>\n",
       "      <td>-1.150556</td>\n",
       "      <td>-0.336008</td>\n",
       "      <td>0.965514</td>\n",
       "      <td>-0.092043</td>\n",
       "      <td>-0.314821</td>\n",
       "      <td>-0.638769</td>\n",
       "      <td>-0.559360</td>\n",
       "      <td>-0.925298</td>\n",
       "      <td>-0.663013</td>\n",
       "      <td>1.306513</td>\n",
       "      <td>-0.212302</td>\n",
       "      <td>1.244525</td>\n",
       "      <td>0.244943</td>\n",
       "      <td>-0.605331</td>\n",
       "      <td>-1.414780</td>\n",
       "      <td>-0.407957</td>\n",
       "    </tr>\n",
       "    <tr>\n",
       "      <th>9760</th>\n",
       "      <td>-0.573611</td>\n",
       "      <td>-1.432246</td>\n",
       "      <td>-1.766533</td>\n",
       "      <td>-1.150556</td>\n",
       "      <td>-0.342649</td>\n",
       "      <td>0.965514</td>\n",
       "      <td>-0.092043</td>\n",
       "      <td>-0.314821</td>\n",
       "      <td>-0.638769</td>\n",
       "      <td>-0.559360</td>\n",
       "      <td>-0.925298</td>\n",
       "      <td>-0.663013</td>\n",
       "      <td>1.272311</td>\n",
       "      <td>-0.212302</td>\n",
       "      <td>1.244525</td>\n",
       "      <td>0.242804</td>\n",
       "      <td>-0.605331</td>\n",
       "      <td>-1.414780</td>\n",
       "      <td>-0.432470</td>\n",
       "    </tr>\n",
       "  </tbody>\n",
       "</table>\n",
       "<p>9761 rows × 19 columns</p>\n",
       "</div>"
      ],
      "text/plain": [
       "         price  bedrooms  bathrooms  sqft_living  sqft_lot    floors  \\\n",
       "0     0.161067  0.649683   1.140701    -0.136693 -0.247555 -0.913163   \n",
       "1     1.809483  0.649683   3.078858     3.595187  2.101431 -0.913163   \n",
       "2    -0.197056 -1.432246  -1.443507    -0.999555 -0.223321 -0.913163   \n",
       "3    -0.613110 -0.391281  -1.443507    -0.708339  0.113553  0.026176   \n",
       "4    -0.376117 -0.391281  -0.474429    -0.773054 -0.134141 -0.913163   \n",
       "...        ...       ...        ...          ...       ...       ...   \n",
       "9756 -0.299753 -0.391281  -0.151403    -0.643624 -0.341437  2.844191   \n",
       "9757  0.178670  0.649683   0.494649     0.467311 -0.222764  0.965514   \n",
       "9758  1.230167  0.649683   1.786754     1.535103 -0.194241  0.965514   \n",
       "9759 -0.370584 -1.432246  -1.766533    -1.150556 -0.336008  0.965514   \n",
       "9760 -0.573611 -1.432246  -1.766533    -1.150556 -0.342649  0.965514   \n",
       "\n",
       "      waterfront      view  condition     grade  sqft_above  sqft_basement  \\\n",
       "0      -0.092043 -0.314821   2.435701 -0.559360   -0.889401       1.393066   \n",
       "1      -0.092043 -0.314821  -0.638769  2.822962    2.508862       2.793911   \n",
       "2      -0.092043 -0.314821   0.898466 -0.559360   -1.116750       0.014815   \n",
       "3      -0.092043 -0.314821   0.898466 -0.559360   -0.434704      -0.663013   \n",
       "4      -0.092043 -0.314821   0.898466 -0.559360   -0.506498      -0.663013   \n",
       "...          ...       ...        ...       ...         ...            ...   \n",
       "9756   -0.092043 -0.314821  -0.638769  0.286220   -0.362910      -0.663013   \n",
       "9757   -0.092043 -0.314821  -0.638769  1.131801    0.869559      -0.663013   \n",
       "9758   -0.092043 -0.314821  -0.638769  1.131801    0.965285       1.393066   \n",
       "9759   -0.092043 -0.314821  -0.638769 -0.559360   -0.925298      -0.663013   \n",
       "9760   -0.092043 -0.314821  -0.638769 -0.559360   -0.925298      -0.663013   \n",
       "\n",
       "      yr_built  yr_renovated   zipcode       lat      long  sqft_living15  \\\n",
       "0    -0.198352     -0.212302  1.094152 -0.279914 -1.277300      -0.920081   \n",
       "1     1.032901     -0.212302 -0.465973  0.684938  1.496360       4.026906   \n",
       "2    -0.984985     -0.212302  0.699421  0.926686 -0.555290      -0.963731   \n",
       "3    -1.498007     -0.212302 -0.935890  1.395920 -0.104928      -0.308983   \n",
       "4     0.212066     -0.212302 -0.071243  0.375444  1.210416      -0.905531   \n",
       "...        ...           ...       ...       ...       ...            ...   \n",
       "9756  1.477520     -0.212302  1.244525  0.070229 -0.526696      -0.861881   \n",
       "9757  1.477520     -0.212302 -0.409583 -0.330545  0.338286       0.767715   \n",
       "9758  1.306513     -0.212302  1.094152 -0.045297 -1.313043       0.083866   \n",
       "9759  1.306513     -0.212302  1.244525  0.244943 -0.605331      -1.414780   \n",
       "9760  1.272311     -0.212302  1.244525  0.242804 -0.605331      -1.414780   \n",
       "\n",
       "      sqft_lot15  \n",
       "0      -0.295086  \n",
       "1       3.360308  \n",
       "2      -0.257374  \n",
       "3      -0.004819  \n",
       "4      -0.098683  \n",
       "...          ...  \n",
       "9756   -0.437259  \n",
       "9757   -0.256507  \n",
       "9758   -0.249832  \n",
       "9759   -0.407957  \n",
       "9760   -0.432470  \n",
       "\n",
       "[9761 rows x 19 columns]"
      ]
     },
     "execution_count": 438,
     "metadata": {},
     "output_type": "execute_result"
    }
   ],
   "source": [
    "X = data1.apply(lambda x: (x-np.mean(x)) / np.std(x)) # standardizing the data by subtracting mean and dividing by standard deviaton\n",
    "X"
   ]
  },
  {
   "cell_type": "markdown",
   "metadata": {},
   "source": [
    "##### Correlation Matrix"
   ]
  },
  {
   "cell_type": "code",
   "execution_count": 439,
   "metadata": {},
   "outputs": [
    {
     "data": {
      "text/html": [
       "<style type=\"text/css\">\n",
       "#T_5a72a_row0_col0, #T_5a72a_row1_col1, #T_5a72a_row2_col2, #T_5a72a_row3_col3, #T_5a72a_row4_col4, #T_5a72a_row5_col5, #T_5a72a_row6_col6, #T_5a72a_row7_col7, #T_5a72a_row8_col8, #T_5a72a_row9_col9, #T_5a72a_row10_col10, #T_5a72a_row11_col11, #T_5a72a_row12_col12, #T_5a72a_row13_col13, #T_5a72a_row14_col14, #T_5a72a_row15_col15, #T_5a72a_row16_col16, #T_5a72a_row17_col17, #T_5a72a_row18_col18 {\n",
       "  background-color: #023858;\n",
       "  color: #f1f1f1;\n",
       "}\n",
       "#T_5a72a_row0_col1, #T_5a72a_row11_col1 {\n",
       "  background-color: #9fbad9;\n",
       "  color: #000000;\n",
       "}\n",
       "#T_5a72a_row0_col2, #T_5a72a_row2_col5, #T_5a72a_row17_col0 {\n",
       "  background-color: #3f93c2;\n",
       "  color: #f1f1f1;\n",
       "}\n",
       "#T_5a72a_row0_col3, #T_5a72a_row2_col10, #T_5a72a_row4_col18 {\n",
       "  background-color: #056fae;\n",
       "  color: #f1f1f1;\n",
       "}\n",
       "#T_5a72a_row0_col4, #T_5a72a_row5_col13, #T_5a72a_row7_col1, #T_5a72a_row9_col13, #T_5a72a_row10_col13 {\n",
       "  background-color: #dcdaeb;\n",
       "  color: #000000;\n",
       "}\n",
       "#T_5a72a_row0_col5 {\n",
       "  background-color: #96b6d7;\n",
       "  color: #000000;\n",
       "}\n",
       "#T_5a72a_row0_col6, #T_5a72a_row0_col12, #T_5a72a_row4_col3, #T_5a72a_row4_col12, #T_5a72a_row5_col0, #T_5a72a_row11_col9 {\n",
       "  background-color: #bfc9e1;\n",
       "  color: #000000;\n",
       "}\n",
       "#T_5a72a_row0_col7, #T_5a72a_row1_col11, #T_5a72a_row17_col5 {\n",
       "  background-color: #8cb3d5;\n",
       "  color: #000000;\n",
       "}\n",
       "#T_5a72a_row0_col8, #T_5a72a_row6_col17 {\n",
       "  background-color: #c1cae2;\n",
       "  color: #000000;\n",
       "}\n",
       "#T_5a72a_row0_col9, #T_5a72a_row9_col2 {\n",
       "  background-color: #1278b4;\n",
       "  color: #f1f1f1;\n",
       "}\n",
       "#T_5a72a_row0_col10 {\n",
       "  background-color: #1b7eb7;\n",
       "  color: #f1f1f1;\n",
       "}\n",
       "#T_5a72a_row0_col11, #T_5a72a_row17_col1 {\n",
       "  background-color: #86b0d3;\n",
       "  color: #000000;\n",
       "}\n",
       "#T_5a72a_row0_col13, #T_5a72a_row15_col11 {\n",
       "  background-color: #c5cce3;\n",
       "  color: #000000;\n",
       "}\n",
       "#T_5a72a_row0_col14 {\n",
       "  background-color: #b8c6e0;\n",
       "  color: #000000;\n",
       "}\n",
       "#T_5a72a_row0_col15 {\n",
       "  background-color: #9ebad9;\n",
       "  color: #000000;\n",
       "}\n",
       "#T_5a72a_row0_col16, #T_5a72a_row6_col14 {\n",
       "  background-color: #a7bddb;\n",
       "  color: #000000;\n",
       "}\n",
       "#T_5a72a_row0_col17 {\n",
       "  background-color: #2383ba;\n",
       "  color: #f1f1f1;\n",
       "}\n",
       "#T_5a72a_row0_col18, #T_5a72a_row4_col11, #T_5a72a_row7_col18 {\n",
       "  background-color: #dddbec;\n",
       "  color: #000000;\n",
       "}\n",
       "#T_5a72a_row1_col0, #T_5a72a_row15_col0 {\n",
       "  background-color: #b3c3de;\n",
       "  color: #000000;\n",
       "}\n",
       "#T_5a72a_row1_col2 {\n",
       "  background-color: #4897c4;\n",
       "  color: #f1f1f1;\n",
       "}\n",
       "#T_5a72a_row1_col3 {\n",
       "  background-color: #328dbf;\n",
       "  color: #f1f1f1;\n",
       "}\n",
       "#T_5a72a_row1_col4, #T_5a72a_row1_col18, #T_5a72a_row6_col4, #T_5a72a_row10_col15, #T_5a72a_row14_col7 {\n",
       "  background-color: #e9e5f1;\n",
       "  color: #000000;\n",
       "}\n",
       "#T_5a72a_row1_col5, #T_5a72a_row4_col10 {\n",
       "  background-color: #adc1dd;\n",
       "  color: #000000;\n",
       "}\n",
       "#T_5a72a_row1_col6, #T_5a72a_row15_col4, #T_5a72a_row15_col6 {\n",
       "  background-color: #fbf3f9;\n",
       "  color: #000000;\n",
       "}\n",
       "#T_5a72a_row1_col7, #T_5a72a_row4_col0, #T_5a72a_row7_col15, #T_5a72a_row8_col13, #T_5a72a_row18_col7 {\n",
       "  background-color: #e8e4f0;\n",
       "  color: #000000;\n",
       "}\n",
       "#T_5a72a_row1_col8, #T_5a72a_row8_col16 {\n",
       "  background-color: #c2cbe2;\n",
       "  color: #000000;\n",
       "}\n",
       "#T_5a72a_row1_col9, #T_5a72a_row5_col16, #T_5a72a_row7_col17 {\n",
       "  background-color: #89b1d4;\n",
       "  color: #000000;\n",
       "}\n",
       "#T_5a72a_row1_col10, #T_5a72a_row9_col5, #T_5a72a_row10_col12 {\n",
       "  background-color: #4e9ac6;\n",
       "  color: #f1f1f1;\n",
       "}\n",
       "#T_5a72a_row1_col12, #T_5a72a_row7_col9 {\n",
       "  background-color: #a5bddb;\n",
       "  color: #000000;\n",
       "}\n",
       "#T_5a72a_row1_col13, #T_5a72a_row7_col4, #T_5a72a_row18_col5 {\n",
       "  background-color: #dbdaeb;\n",
       "  color: #000000;\n",
       "}\n",
       "#T_5a72a_row1_col14, #T_5a72a_row12_col1, #T_5a72a_row18_col8 {\n",
       "  background-color: #cccfe5;\n",
       "  color: #000000;\n",
       "}\n",
       "#T_5a72a_row1_col15, #T_5a72a_row6_col15, #T_5a72a_row8_col7, #T_5a72a_row8_col18, #T_5a72a_row16_col13, #T_5a72a_row18_col0 {\n",
       "  background-color: #ece7f2;\n",
       "  color: #000000;\n",
       "}\n",
       "#T_5a72a_row1_col16, #T_5a72a_row12_col3 {\n",
       "  background-color: #8eb3d5;\n",
       "  color: #000000;\n",
       "}\n",
       "#T_5a72a_row1_col17, #T_5a72a_row3_col16 {\n",
       "  background-color: #6da6cd;\n",
       "  color: #f1f1f1;\n",
       "}\n",
       "#T_5a72a_row2_col0 {\n",
       "  background-color: #5a9ec9;\n",
       "  color: #f1f1f1;\n",
       "}\n",
       "#T_5a72a_row2_col1, #T_5a72a_row17_col16 {\n",
       "  background-color: #529bc7;\n",
       "  color: #f1f1f1;\n",
       "}\n",
       "#T_5a72a_row2_col3, #T_5a72a_row3_col2, #T_5a72a_row17_col3 {\n",
       "  background-color: #0567a2;\n",
       "  color: #f1f1f1;\n",
       "}\n",
       "#T_5a72a_row2_col4, #T_5a72a_row3_col15, #T_5a72a_row15_col2, #T_5a72a_row17_col13, #T_5a72a_row17_col14, #T_5a72a_row17_col15, #T_5a72a_row18_col13 {\n",
       "  background-color: #e0dded;\n",
       "  color: #000000;\n",
       "}\n",
       "#T_5a72a_row2_col6, #T_5a72a_row8_col0, #T_5a72a_row13_col12 {\n",
       "  background-color: #f1ebf4;\n",
       "  color: #000000;\n",
       "}\n",
       "#T_5a72a_row2_col7, #T_5a72a_row9_col14, #T_5a72a_row14_col13, #T_5a72a_row17_col4 {\n",
       "  background-color: #d2d3e7;\n",
       "  color: #000000;\n",
       "}\n",
       "#T_5a72a_row2_col8 {\n",
       "  background-color: #e0deed;\n",
       "  color: #000000;\n",
       "}\n",
       "#T_5a72a_row2_col9 {\n",
       "  background-color: #1379b5;\n",
       "  color: #f1f1f1;\n",
       "}\n",
       "#T_5a72a_row2_col11, #T_5a72a_row7_col11 {\n",
       "  background-color: #94b6d7;\n",
       "  color: #000000;\n",
       "}\n",
       "#T_5a72a_row2_col12, #T_5a72a_row5_col10, #T_5a72a_row10_col0, #T_5a72a_row10_col5 {\n",
       "  background-color: #348ebf;\n",
       "  color: #f1f1f1;\n",
       "}\n",
       "#T_5a72a_row2_col13, #T_5a72a_row3_col13, #T_5a72a_row6_col2, #T_5a72a_row7_col12, #T_5a72a_row13_col5, #T_5a72a_row13_col8, #T_5a72a_row13_col10 {\n",
       "  background-color: #d7d6e9;\n",
       "  color: #000000;\n",
       "}\n",
       "#T_5a72a_row2_col14, #T_5a72a_row3_col8, #T_5a72a_row3_col14, #T_5a72a_row6_col5, #T_5a72a_row9_col15, #T_5a72a_row9_col18, #T_5a72a_row10_col7 {\n",
       "  background-color: #d5d5e8;\n",
       "  color: #000000;\n",
       "}\n",
       "#T_5a72a_row2_col15, #T_5a72a_row6_col18, #T_5a72a_row10_col8, #T_5a72a_row13_col1, #T_5a72a_row15_col12, #T_5a72a_row18_col1 {\n",
       "  background-color: #e7e3f0;\n",
       "  color: #000000;\n",
       "}\n",
       "#T_5a72a_row2_col16, #T_5a72a_row3_col5 {\n",
       "  background-color: #75a9cf;\n",
       "  color: #f1f1f1;\n",
       "}\n",
       "#T_5a72a_row2_col17 {\n",
       "  background-color: #2786bb;\n",
       "  color: #f1f1f1;\n",
       "}\n",
       "#T_5a72a_row2_col18, #T_5a72a_row4_col13, #T_5a72a_row16_col8 {\n",
       "  background-color: #dfddec;\n",
       "  color: #000000;\n",
       "}\n",
       "#T_5a72a_row3_col0 {\n",
       "  background-color: #1077b4;\n",
       "  color: #f1f1f1;\n",
       "}\n",
       "#T_5a72a_row3_col1, #T_5a72a_row5_col12 {\n",
       "  background-color: #3991c1;\n",
       "  color: #f1f1f1;\n",
       "}\n",
       "#T_5a72a_row3_col4, #T_5a72a_row4_col8, #T_5a72a_row4_col9, #T_5a72a_row18_col9 {\n",
       "  background-color: #ced0e6;\n",
       "  color: #000000;\n",
       "}\n",
       "#T_5a72a_row3_col6, #T_5a72a_row8_col3, #T_5a72a_row12_col14, #T_5a72a_row17_col6 {\n",
       "  background-color: #ebe6f2;\n",
       "  color: #000000;\n",
       "}\n",
       "#T_5a72a_row3_col7, #T_5a72a_row4_col17, #T_5a72a_row6_col16, #T_5a72a_row9_col11 {\n",
       "  background-color: #b4c4df;\n",
       "  color: #000000;\n",
       "}\n",
       "#T_5a72a_row3_col9, #T_5a72a_row9_col3 {\n",
       "  background-color: #0567a1;\n",
       "  color: #f1f1f1;\n",
       "}\n",
       "#T_5a72a_row3_col10 {\n",
       "  background-color: #045280;\n",
       "  color: #f1f1f1;\n",
       "}\n",
       "#T_5a72a_row3_col11, #T_5a72a_row5_col9, #T_5a72a_row12_col10 {\n",
       "  background-color: #5ea0ca;\n",
       "  color: #f1f1f1;\n",
       "}\n",
       "#T_5a72a_row3_col12, #T_5a72a_row4_col16, #T_5a72a_row17_col12 {\n",
       "  background-color: #73a9cf;\n",
       "  color: #f1f1f1;\n",
       "}\n",
       "#T_5a72a_row3_col17 {\n",
       "  background-color: #05659f;\n",
       "  color: #f1f1f1;\n",
       "}\n",
       "#T_5a72a_row3_col18, #T_5a72a_row6_col13, #T_5a72a_row11_col16, #T_5a72a_row14_col8, #T_5a72a_row18_col14 {\n",
       "  background-color: #cacee5;\n",
       "  color: #000000;\n",
       "}\n",
       "#T_5a72a_row4_col1, #T_5a72a_row8_col17 {\n",
       "  background-color: #e6e2ef;\n",
       "  color: #000000;\n",
       "}\n",
       "#T_5a72a_row4_col2, #T_5a72a_row6_col9, #T_5a72a_row11_col15, #T_5a72a_row16_col1 {\n",
       "  background-color: #d4d4e8;\n",
       "  color: #000000;\n",
       "}\n",
       "#T_5a72a_row4_col5, #T_5a72a_row13_col2, #T_5a72a_row13_col3, #T_5a72a_row17_col8 {\n",
       "  background-color: #dad9ea;\n",
       "  color: #000000;\n",
       "}\n",
       "#T_5a72a_row4_col6, #T_5a72a_row18_col6 {\n",
       "  background-color: #f5eff6;\n",
       "  color: #000000;\n",
       "}\n",
       "#T_5a72a_row4_col7, #T_5a72a_row8_col1 {\n",
       "  background-color: #e4e1ef;\n",
       "  color: #000000;\n",
       "}\n",
       "#T_5a72a_row4_col14, #T_5a72a_row6_col8 {\n",
       "  background-color: #c6cce3;\n",
       "  color: #000000;\n",
       "}\n",
       "#T_5a72a_row4_col15, #T_5a72a_row18_col15 {\n",
       "  background-color: #f7f0f7;\n",
       "  color: #000000;\n",
       "}\n",
       "#T_5a72a_row5_col1, #T_5a72a_row10_col18, #T_5a72a_row17_col18 {\n",
       "  background-color: #c4cbe3;\n",
       "  color: #000000;\n",
       "}\n",
       "#T_5a72a_row5_col2, #T_5a72a_row12_col2 {\n",
       "  background-color: #4a98c5;\n",
       "  color: #f1f1f1;\n",
       "}\n",
       "#T_5a72a_row5_col3, #T_5a72a_row12_col17, #T_5a72a_row16_col17 {\n",
       "  background-color: #7eadd1;\n",
       "  color: #f1f1f1;\n",
       "}\n",
       "#T_5a72a_row5_col4 {\n",
       "  background-color: #efe9f3;\n",
       "  color: #000000;\n",
       "}\n",
       "#T_5a72a_row5_col6, #T_5a72a_row8_col6, #T_5a72a_row14_col6 {\n",
       "  background-color: #f6eff7;\n",
       "  color: #000000;\n",
       "}\n",
       "#T_5a72a_row5_col7, #T_5a72a_row8_col4, #T_5a72a_row10_col6, #T_5a72a_row12_col0 {\n",
       "  background-color: #f0eaf4;\n",
       "  color: #000000;\n",
       "}\n",
       "#T_5a72a_row5_col8 {\n",
       "  background-color: #f5eef6;\n",
       "  color: #000000;\n",
       "}\n",
       "#T_5a72a_row5_col11, #T_5a72a_row8_col5, #T_5a72a_row8_col12, #T_5a72a_row12_col8, #T_5a72a_row12_col13, #T_5a72a_row12_col15, #T_5a72a_row14_col0, #T_5a72a_row14_col1, #T_5a72a_row14_col2, #T_5a72a_row14_col3, #T_5a72a_row14_col4, #T_5a72a_row14_col9, #T_5a72a_row14_col10, #T_5a72a_row14_col12, #T_5a72a_row14_col16, #T_5a72a_row14_col17, #T_5a72a_row14_col18, #T_5a72a_row16_col6, #T_5a72a_row16_col7, #T_5a72a_row16_col14 {\n",
       "  background-color: #fff7fb;\n",
       "  color: #000000;\n",
       "}\n",
       "#T_5a72a_row5_col14, #T_5a72a_row7_col2, #T_5a72a_row18_col12 {\n",
       "  background-color: #b9c6e0;\n",
       "  color: #000000;\n",
       "}\n",
       "#T_5a72a_row5_col15, #T_5a72a_row11_col10 {\n",
       "  background-color: #e1dfed;\n",
       "  color: #000000;\n",
       "}\n",
       "#T_5a72a_row5_col17, #T_5a72a_row6_col7 {\n",
       "  background-color: #8bb2d4;\n",
       "  color: #000000;\n",
       "}\n",
       "#T_5a72a_row5_col18, #T_5a72a_row11_col4, #T_5a72a_row13_col4 {\n",
       "  background-color: #eee9f3;\n",
       "  color: #000000;\n",
       "}\n",
       "#T_5a72a_row6_col0, #T_5a72a_row16_col5 {\n",
       "  background-color: #bbc7e0;\n",
       "  color: #000000;\n",
       "}\n",
       "#T_5a72a_row6_col1, #T_5a72a_row9_col6 {\n",
       "  background-color: #ede7f2;\n",
       "  color: #000000;\n",
       "}\n",
       "#T_5a72a_row6_col3, #T_5a72a_row14_col11, #T_5a72a_row15_col8 {\n",
       "  background-color: #d0d1e6;\n",
       "  color: #000000;\n",
       "}\n",
       "#T_5a72a_row6_col10, #T_5a72a_row6_col11, #T_5a72a_row15_col17 {\n",
       "  background-color: #cdd0e5;\n",
       "  color: #000000;\n",
       "}\n",
       "#T_5a72a_row6_col12, #T_5a72a_row15_col5 {\n",
       "  background-color: #d2d2e7;\n",
       "  color: #000000;\n",
       "}\n",
       "#T_5a72a_row7_col0 {\n",
       "  background-color: #8fb4d6;\n",
       "  color: #000000;\n",
       "}\n",
       "#T_5a72a_row7_col3, #T_5a72a_row7_col14 {\n",
       "  background-color: #99b8d8;\n",
       "  color: #000000;\n",
       "}\n",
       "#T_5a72a_row7_col5, #T_5a72a_row11_col13 {\n",
       "  background-color: #d3d4e7;\n",
       "  color: #000000;\n",
       "}\n",
       "#T_5a72a_row7_col6 {\n",
       "  background-color: #93b5d6;\n",
       "  color: #000000;\n",
       "}\n",
       "#T_5a72a_row7_col8, #T_5a72a_row18_col3 {\n",
       "  background-color: #bdc8e1;\n",
       "  color: #000000;\n",
       "}\n",
       "#T_5a72a_row7_col10, #T_5a72a_row16_col18, #T_5a72a_row17_col7 {\n",
       "  background-color: #b1c2de;\n",
       "  color: #000000;\n",
       "}\n",
       "#T_5a72a_row7_col13, #T_5a72a_row15_col16 {\n",
       "  background-color: #c8cde4;\n",
       "  color: #000000;\n",
       "}\n",
       "#T_5a72a_row7_col16, #T_5a72a_row9_col7, #T_5a72a_row13_col16, #T_5a72a_row16_col4 {\n",
       "  background-color: #bcc7e1;\n",
       "  color: #000000;\n",
       "}\n",
       "#T_5a72a_row8_col2 {\n",
       "  background-color: #f4eef6;\n",
       "  color: #000000;\n",
       "}\n",
       "#T_5a72a_row8_col9 {\n",
       "  background-color: #f8f1f8;\n",
       "  color: #000000;\n",
       "}\n",
       "#T_5a72a_row8_col10 {\n",
       "  background-color: #f2ecf5;\n",
       "  color: #000000;\n",
       "}\n",
       "#T_5a72a_row8_col11, #T_5a72a_row16_col2 {\n",
       "  background-color: #afc1dd;\n",
       "  color: #000000;\n",
       "}\n",
       "#T_5a72a_row8_col14 {\n",
       "  background-color: #abbfdc;\n",
       "  color: #000000;\n",
       "}\n",
       "#T_5a72a_row8_col15, #T_5a72a_row11_col18, #T_5a72a_row13_col18, #T_5a72a_row15_col1 {\n",
       "  background-color: #ede8f3;\n",
       "  color: #000000;\n",
       "}\n",
       "#T_5a72a_row9_col0 {\n",
       "  background-color: #2081b9;\n",
       "  color: #f1f1f1;\n",
       "}\n",
       "#T_5a72a_row9_col1 {\n",
       "  background-color: #91b5d6;\n",
       "  color: #000000;\n",
       "}\n",
       "#T_5a72a_row9_col4, #T_5a72a_row15_col3, #T_5a72a_row15_col10, #T_5a72a_row15_col13 {\n",
       "  background-color: #d9d8ea;\n",
       "  color: #000000;\n",
       "}\n",
       "#T_5a72a_row9_col8, #T_5a72a_row11_col12, #T_5a72a_row13_col0, #T_5a72a_row13_col15 {\n",
       "  background-color: #e3e0ee;\n",
       "  color: #000000;\n",
       "}\n",
       "#T_5a72a_row9_col10 {\n",
       "  background-color: #0566a0;\n",
       "  color: #f1f1f1;\n",
       "}\n",
       "#T_5a72a_row9_col12, #T_5a72a_row12_col5 {\n",
       "  background-color: #4697c4;\n",
       "  color: #f1f1f1;\n",
       "}\n",
       "#T_5a72a_row9_col16 {\n",
       "  background-color: #79abd0;\n",
       "  color: #f1f1f1;\n",
       "}\n",
       "#T_5a72a_row9_col17 {\n",
       "  background-color: #056ba7;\n",
       "  color: #f1f1f1;\n",
       "}\n",
       "#T_5a72a_row10_col1, #T_5a72a_row12_col9, #T_5a72a_row15_col14 {\n",
       "  background-color: #63a2cb;\n",
       "  color: #f1f1f1;\n",
       "}\n",
       "#T_5a72a_row10_col2 {\n",
       "  background-color: #0771b1;\n",
       "  color: #f1f1f1;\n",
       "}\n",
       "#T_5a72a_row10_col3 {\n",
       "  background-color: #045382;\n",
       "  color: #f1f1f1;\n",
       "}\n",
       "#T_5a72a_row10_col4 {\n",
       "  background-color: #c9cee4;\n",
       "  color: #000000;\n",
       "}\n",
       "#T_5a72a_row10_col9 {\n",
       "  background-color: #0568a3;\n",
       "  color: #f1f1f1;\n",
       "}\n",
       "#T_5a72a_row10_col11, #T_5a72a_row12_col4, #T_5a72a_row14_col5 {\n",
       "  background-color: #e5e1ef;\n",
       "  color: #000000;\n",
       "}\n",
       "#T_5a72a_row10_col14, #T_5a72a_row12_col18, #T_5a72a_row18_col11 {\n",
       "  background-color: #dedcec;\n",
       "  color: #000000;\n",
       "}\n",
       "#T_5a72a_row10_col16 {\n",
       "  background-color: #4c99c5;\n",
       "  color: #f1f1f1;\n",
       "}\n",
       "#T_5a72a_row10_col17 {\n",
       "  background-color: #0569a5;\n",
       "  color: #f1f1f1;\n",
       "}\n",
       "#T_5a72a_row11_col0, #T_5a72a_row18_col10 {\n",
       "  background-color: #acc0dd;\n",
       "  color: #000000;\n",
       "}\n",
       "#T_5a72a_row11_col2, #T_5a72a_row13_col14 {\n",
       "  background-color: #9cb9d9;\n",
       "  color: #000000;\n",
       "}\n",
       "#T_5a72a_row11_col3 {\n",
       "  background-color: #65a3cb;\n",
       "  color: #f1f1f1;\n",
       "}\n",
       "#T_5a72a_row11_col5, #T_5a72a_row12_col6, #T_5a72a_row12_col7 {\n",
       "  background-color: #fdf5fa;\n",
       "  color: #000000;\n",
       "}\n",
       "#T_5a72a_row11_col6 {\n",
       "  background-color: #eee8f3;\n",
       "  color: #000000;\n",
       "}\n",
       "#T_5a72a_row11_col7, #T_5a72a_row16_col9 {\n",
       "  background-color: #b7c5df;\n",
       "  color: #000000;\n",
       "}\n",
       "#T_5a72a_row11_col8, #T_5a72a_row11_col14 {\n",
       "  background-color: #9ab8d8;\n",
       "  color: #000000;\n",
       "}\n",
       "#T_5a72a_row11_col17 {\n",
       "  background-color: #a1bbda;\n",
       "  color: #000000;\n",
       "}\n",
       "#T_5a72a_row12_col11 {\n",
       "  background-color: #f1ebf5;\n",
       "  color: #000000;\n",
       "}\n",
       "#T_5a72a_row12_col16 {\n",
       "  background-color: #3790c0;\n",
       "  color: #f1f1f1;\n",
       "}\n",
       "#T_5a72a_row13_col6 {\n",
       "  background-color: #eae6f1;\n",
       "  color: #000000;\n",
       "}\n",
       "#T_5a72a_row13_col7, #T_5a72a_row13_col9 {\n",
       "  background-color: #e2dfee;\n",
       "  color: #000000;\n",
       "}\n",
       "#T_5a72a_row13_col11, #T_5a72a_row15_col9 {\n",
       "  background-color: #d1d2e6;\n",
       "  color: #000000;\n",
       "}\n",
       "#T_5a72a_row13_col17 {\n",
       "  background-color: #d8d7e9;\n",
       "  color: #000000;\n",
       "}\n",
       "#T_5a72a_row14_col15, #T_5a72a_row16_col3, #T_5a72a_row17_col11 {\n",
       "  background-color: #a8bedc;\n",
       "  color: #000000;\n",
       "}\n",
       "#T_5a72a_row15_col7, #T_5a72a_row16_col0, #T_5a72a_row16_col11 {\n",
       "  background-color: #f4edf6;\n",
       "  color: #000000;\n",
       "}\n",
       "#T_5a72a_row15_col18 {\n",
       "  background-color: #f9f2f8;\n",
       "  color: #000000;\n",
       "}\n",
       "#T_5a72a_row16_col10 {\n",
       "  background-color: #7bacd1;\n",
       "  color: #f1f1f1;\n",
       "}\n",
       "#T_5a72a_row16_col12 {\n",
       "  background-color: #549cc7;\n",
       "  color: #f1f1f1;\n",
       "}\n",
       "#T_5a72a_row16_col15 {\n",
       "  background-color: #fcf4fa;\n",
       "  color: #000000;\n",
       "}\n",
       "#T_5a72a_row17_col2 {\n",
       "  background-color: #308cbe;\n",
       "  color: #f1f1f1;\n",
       "}\n",
       "#T_5a72a_row17_col9 {\n",
       "  background-color: #056dac;\n",
       "  color: #f1f1f1;\n",
       "}\n",
       "#T_5a72a_row17_col10 {\n",
       "  background-color: #056aa6;\n",
       "  color: #f1f1f1;\n",
       "}\n",
       "#T_5a72a_row18_col2 {\n",
       "  background-color: #d6d6e9;\n",
       "  color: #000000;\n",
       "}\n",
       "#T_5a72a_row18_col4 {\n",
       "  background-color: #056faf;\n",
       "  color: #f1f1f1;\n",
       "}\n",
       "#T_5a72a_row18_col16 {\n",
       "  background-color: #6ba5cd;\n",
       "  color: #f1f1f1;\n",
       "}\n",
       "#T_5a72a_row18_col17 {\n",
       "  background-color: #a9bfdc;\n",
       "  color: #000000;\n",
       "}\n",
       "</style>\n",
       "<table id=\"T_5a72a_\">\n",
       "  <thead>\n",
       "    <tr>\n",
       "      <th class=\"blank level0\" >&nbsp;</th>\n",
       "      <th class=\"col_heading level0 col0\" >price</th>\n",
       "      <th class=\"col_heading level0 col1\" >bedrooms</th>\n",
       "      <th class=\"col_heading level0 col2\" >bathrooms</th>\n",
       "      <th class=\"col_heading level0 col3\" >sqft_living</th>\n",
       "      <th class=\"col_heading level0 col4\" >sqft_lot</th>\n",
       "      <th class=\"col_heading level0 col5\" >floors</th>\n",
       "      <th class=\"col_heading level0 col6\" >waterfront</th>\n",
       "      <th class=\"col_heading level0 col7\" >view</th>\n",
       "      <th class=\"col_heading level0 col8\" >condition</th>\n",
       "      <th class=\"col_heading level0 col9\" >grade</th>\n",
       "      <th class=\"col_heading level0 col10\" >sqft_above</th>\n",
       "      <th class=\"col_heading level0 col11\" >sqft_basement</th>\n",
       "      <th class=\"col_heading level0 col12\" >yr_built</th>\n",
       "      <th class=\"col_heading level0 col13\" >yr_renovated</th>\n",
       "      <th class=\"col_heading level0 col14\" >zipcode</th>\n",
       "      <th class=\"col_heading level0 col15\" >lat</th>\n",
       "      <th class=\"col_heading level0 col16\" >long</th>\n",
       "      <th class=\"col_heading level0 col17\" >sqft_living15</th>\n",
       "      <th class=\"col_heading level0 col18\" >sqft_lot15</th>\n",
       "    </tr>\n",
       "  </thead>\n",
       "  <tbody>\n",
       "    <tr>\n",
       "      <th id=\"T_5a72a_level0_row0\" class=\"row_heading level0 row0\" >price</th>\n",
       "      <td id=\"T_5a72a_row0_col0\" class=\"data row0 col0\" >1.000000</td>\n",
       "      <td id=\"T_5a72a_row0_col1\" class=\"data row0 col1\" >0.300777</td>\n",
       "      <td id=\"T_5a72a_row0_col2\" class=\"data row0 col2\" >0.527512</td>\n",
       "      <td id=\"T_5a72a_row0_col3\" class=\"data row0 col3\" >0.705044</td>\n",
       "      <td id=\"T_5a72a_row0_col4\" class=\"data row0 col4\" >0.094146</td>\n",
       "      <td id=\"T_5a72a_row0_col5\" class=\"data row0 col5\" >0.262955</td>\n",
       "      <td id=\"T_5a72a_row0_col6\" class=\"data row0 col6\" >0.274953</td>\n",
       "      <td id=\"T_5a72a_row0_col7\" class=\"data row0 col7\" >0.399711</td>\n",
       "      <td id=\"T_5a72a_row0_col8\" class=\"data row0 col8\" >0.044754</td>\n",
       "      <td id=\"T_5a72a_row0_col9\" class=\"data row0 col9\" >0.665594</td>\n",
       "      <td id=\"T_5a72a_row0_col10\" class=\"data row0 col10\" >0.611450</td>\n",
       "      <td id=\"T_5a72a_row0_col11\" class=\"data row0 col11\" >0.322369</td>\n",
       "      <td id=\"T_5a72a_row0_col12\" class=\"data row0 col12\" >0.051737</td>\n",
       "      <td id=\"T_5a72a_row0_col13\" class=\"data row0 col13\" >0.120439</td>\n",
       "      <td id=\"T_5a72a_row0_col14\" class=\"data row0 col14\" >-0.055619</td>\n",
       "      <td id=\"T_5a72a_row0_col15\" class=\"data row0 col15\" >0.299191</td>\n",
       "      <td id=\"T_5a72a_row0_col16\" class=\"data row0 col16\" >0.023718</td>\n",
       "      <td id=\"T_5a72a_row0_col17\" class=\"data row0 col17\" >0.584829</td>\n",
       "      <td id=\"T_5a72a_row0_col18\" class=\"data row0 col18\" >0.077960</td>\n",
       "    </tr>\n",
       "    <tr>\n",
       "      <th id=\"T_5a72a_level0_row1\" class=\"row_heading level0 row1\" >bedrooms</th>\n",
       "      <td id=\"T_5a72a_row1_col0\" class=\"data row1 col0\" >0.300777</td>\n",
       "      <td id=\"T_5a72a_row1_col1\" class=\"data row1 col1\" >1.000000</td>\n",
       "      <td id=\"T_5a72a_row1_col2\" class=\"data row1 col2\" >0.506070</td>\n",
       "      <td id=\"T_5a72a_row1_col3\" class=\"data row1 col3\" >0.560989</td>\n",
       "      <td id=\"T_5a72a_row1_col4\" class=\"data row1 col4\" >0.028895</td>\n",
       "      <td id=\"T_5a72a_row1_col5\" class=\"data row1 col5\" >0.181042</td>\n",
       "      <td id=\"T_5a72a_row1_col6\" class=\"data row1 col6\" >-0.006803</td>\n",
       "      <td id=\"T_5a72a_row1_col7\" class=\"data row1 col7\" >0.079863</td>\n",
       "      <td id=\"T_5a72a_row1_col8\" class=\"data row1 col8\" >0.036135</td>\n",
       "      <td id=\"T_5a72a_row1_col9\" class=\"data row1 col9\" >0.342305</td>\n",
       "      <td id=\"T_5a72a_row1_col10\" class=\"data row1 col10\" >0.462514</td>\n",
       "      <td id=\"T_5a72a_row1_col11\" class=\"data row1 col11\" >0.301829</td>\n",
       "      <td id=\"T_5a72a_row1_col12\" class=\"data row1 col12\" >0.155102</td>\n",
       "      <td id=\"T_5a72a_row1_col13\" class=\"data row1 col13\" >0.018625</td>\n",
       "      <td id=\"T_5a72a_row1_col14\" class=\"data row1 col14\" >-0.148339</td>\n",
       "      <td id=\"T_5a72a_row1_col15\" class=\"data row1 col15\" >-0.010547</td>\n",
       "      <td id=\"T_5a72a_row1_col16\" class=\"data row1 col16\" >0.117168</td>\n",
       "      <td id=\"T_5a72a_row1_col17\" class=\"data row1 col17\" >0.376457</td>\n",
       "      <td id=\"T_5a72a_row1_col18\" class=\"data row1 col18\" >0.018149</td>\n",
       "    </tr>\n",
       "    <tr>\n",
       "      <th id=\"T_5a72a_level0_row2\" class=\"row_heading level0 row2\" >bathrooms</th>\n",
       "      <td id=\"T_5a72a_row2_col0\" class=\"data row2 col0\" >0.527512</td>\n",
       "      <td id=\"T_5a72a_row2_col1\" class=\"data row2 col1\" >0.506070</td>\n",
       "      <td id=\"T_5a72a_row2_col2\" class=\"data row2 col2\" >1.000000</td>\n",
       "      <td id=\"T_5a72a_row2_col3\" class=\"data row2 col3\" >0.758930</td>\n",
       "      <td id=\"T_5a72a_row2_col4\" class=\"data row2 col4\" >0.079435</td>\n",
       "      <td id=\"T_5a72a_row2_col5\" class=\"data row2 col5\" >0.501899</td>\n",
       "      <td id=\"T_5a72a_row2_col6\" class=\"data row2 col6\" >0.061483</td>\n",
       "      <td id=\"T_5a72a_row2_col7\" class=\"data row2 col7\" >0.182988</td>\n",
       "      <td id=\"T_5a72a_row2_col8\" class=\"data row2 col8\" >-0.115382</td>\n",
       "      <td id=\"T_5a72a_row2_col9\" class=\"data row2 col9\" >0.660925</td>\n",
       "      <td id=\"T_5a72a_row2_col10\" class=\"data row2 col10\" >0.692911</td>\n",
       "      <td id=\"T_5a72a_row2_col11\" class=\"data row2 col11\" >0.281433</td>\n",
       "      <td id=\"T_5a72a_row2_col12\" class=\"data row2 col12\" >0.499589</td>\n",
       "      <td id=\"T_5a72a_row2_col13\" class=\"data row2 col13\" >0.044756</td>\n",
       "      <td id=\"T_5a72a_row2_col14\" class=\"data row2 col14\" >-0.201454</td>\n",
       "      <td id=\"T_5a72a_row2_col15\" class=\"data row2 col15\" >0.018453</td>\n",
       "      <td id=\"T_5a72a_row2_col16\" class=\"data row2 col16\" >0.217697</td>\n",
       "      <td id=\"T_5a72a_row2_col17\" class=\"data row2 col17\" >0.566076</td>\n",
       "      <td id=\"T_5a72a_row2_col18\" class=\"data row2 col18\" >0.068722</td>\n",
       "    </tr>\n",
       "    <tr>\n",
       "      <th id=\"T_5a72a_level0_row3\" class=\"row_heading level0 row3\" >sqft_living</th>\n",
       "      <td id=\"T_5a72a_row3_col0\" class=\"data row3 col0\" >0.705044</td>\n",
       "      <td id=\"T_5a72a_row3_col1\" class=\"data row3 col1\" >0.560989</td>\n",
       "      <td id=\"T_5a72a_row3_col2\" class=\"data row3 col2\" >0.758930</td>\n",
       "      <td id=\"T_5a72a_row3_col3\" class=\"data row3 col3\" >1.000000</td>\n",
       "      <td id=\"T_5a72a_row3_col4\" class=\"data row3 col4\" >0.162786</td>\n",
       "      <td id=\"T_5a72a_row3_col5\" class=\"data row3 col5\" >0.366219</td>\n",
       "      <td id=\"T_5a72a_row3_col6\" class=\"data row3 col6\" >0.097203</td>\n",
       "      <td id=\"T_5a72a_row3_col7\" class=\"data row3 col7\" >0.285735</td>\n",
       "      <td id=\"T_5a72a_row3_col8\" class=\"data row3 col8\" >-0.047938</td>\n",
       "      <td id=\"T_5a72a_row3_col9\" class=\"data row3 col9\" >0.764819</td>\n",
       "      <td id=\"T_5a72a_row3_col10\" class=\"data row3 col10\" >0.878989</td>\n",
       "      <td id=\"T_5a72a_row3_col11\" class=\"data row3 col11\" >0.435069</td>\n",
       "      <td id=\"T_5a72a_row3_col12\" class=\"data row3 col12\" >0.322723</td>\n",
       "      <td id=\"T_5a72a_row3_col13\" class=\"data row3 col13\" >0.043627</td>\n",
       "      <td id=\"T_5a72a_row3_col14\" class=\"data row3 col14\" >-0.203761</td>\n",
       "      <td id=\"T_5a72a_row3_col15\" class=\"data row3 col15\" >0.054830</td>\n",
       "      <td id=\"T_5a72a_row3_col16\" class=\"data row3 col16\" >0.240170</td>\n",
       "      <td id=\"T_5a72a_row3_col17\" class=\"data row3 col17\" >0.758081</td>\n",
       "      <td id=\"T_5a72a_row3_col18\" class=\"data row3 col18\" >0.163545</td>\n",
       "    </tr>\n",
       "    <tr>\n",
       "      <th id=\"T_5a72a_level0_row4\" class=\"row_heading level0 row4\" >sqft_lot</th>\n",
       "      <td id=\"T_5a72a_row4_col0\" class=\"data row4 col0\" >0.094146</td>\n",
       "      <td id=\"T_5a72a_row4_col1\" class=\"data row4 col1\" >0.028895</td>\n",
       "      <td id=\"T_5a72a_row4_col2\" class=\"data row4 col2\" >0.079435</td>\n",
       "      <td id=\"T_5a72a_row4_col3\" class=\"data row4 col3\" >0.162786</td>\n",
       "      <td id=\"T_5a72a_row4_col4\" class=\"data row4 col4\" >1.000000</td>\n",
       "      <td id=\"T_5a72a_row4_col5\" class=\"data row4 col5\" >-0.003543</td>\n",
       "      <td id=\"T_5a72a_row4_col6\" class=\"data row4 col6\" >0.029420</td>\n",
       "      <td id=\"T_5a72a_row4_col7\" class=\"data row4 col7\" >0.099221</td>\n",
       "      <td id=\"T_5a72a_row4_col8\" class=\"data row4 col8\" >-0.008722</td>\n",
       "      <td id=\"T_5a72a_row4_col9\" class=\"data row4 col9\" >0.115611</td>\n",
       "      <td id=\"T_5a72a_row4_col10\" class=\"data row4 col10\" >0.180913</td>\n",
       "      <td id=\"T_5a72a_row4_col11\" class=\"data row4 col11\" >-0.000601</td>\n",
       "      <td id=\"T_5a72a_row4_col12\" class=\"data row4 col12\" >0.054043</td>\n",
       "      <td id=\"T_5a72a_row4_col13\" class=\"data row4 col13\" >0.001219</td>\n",
       "      <td id=\"T_5a72a_row4_col14\" class=\"data row4 col14\" >-0.126091</td>\n",
       "      <td id=\"T_5a72a_row4_col15\" class=\"data row4 col15\" >-0.092245</td>\n",
       "      <td id=\"T_5a72a_row4_col16\" class=\"data row4 col16\" >0.224524</td>\n",
       "      <td id=\"T_5a72a_row4_col17\" class=\"data row4 col17\" >0.145285</td>\n",
       "      <td id=\"T_5a72a_row4_col18\" class=\"data row4 col18\" >0.719922</td>\n",
       "    </tr>\n",
       "    <tr>\n",
       "      <th id=\"T_5a72a_level0_row5\" class=\"row_heading level0 row5\" >floors</th>\n",
       "      <td id=\"T_5a72a_row5_col0\" class=\"data row5 col0\" >0.262955</td>\n",
       "      <td id=\"T_5a72a_row5_col1\" class=\"data row5 col1\" >0.181042</td>\n",
       "      <td id=\"T_5a72a_row5_col2\" class=\"data row5 col2\" >0.501899</td>\n",
       "      <td id=\"T_5a72a_row5_col3\" class=\"data row5 col3\" >0.366219</td>\n",
       "      <td id=\"T_5a72a_row5_col4\" class=\"data row5 col4\" >-0.003543</td>\n",
       "      <td id=\"T_5a72a_row5_col5\" class=\"data row5 col5\" >1.000000</td>\n",
       "      <td id=\"T_5a72a_row5_col6\" class=\"data row5 col6\" >0.022443</td>\n",
       "      <td id=\"T_5a72a_row5_col7\" class=\"data row5 col7\" >0.031938</td>\n",
       "      <td id=\"T_5a72a_row5_col8\" class=\"data row5 col8\" >-0.265390</td>\n",
       "      <td id=\"T_5a72a_row5_col9\" class=\"data row5 col9\" >0.461545</td>\n",
       "      <td id=\"T_5a72a_row5_col10\" class=\"data row5 col10\" >0.534801</td>\n",
       "      <td id=\"T_5a72a_row5_col11\" class=\"data row5 col11\" >-0.242675</td>\n",
       "      <td id=\"T_5a72a_row5_col12\" class=\"data row5 col12\" >0.481926</td>\n",
       "      <td id=\"T_5a72a_row5_col13\" class=\"data row5 col13\" >0.013655</td>\n",
       "      <td id=\"T_5a72a_row5_col14\" class=\"data row5 col14\" >-0.064479</td>\n",
       "      <td id=\"T_5a72a_row5_col15\" class=\"data row5 col15\" >0.044827</td>\n",
       "      <td id=\"T_5a72a_row5_col16\" class=\"data row5 col16\" >0.134683</td>\n",
       "      <td id=\"T_5a72a_row5_col17\" class=\"data row5 col17\" >0.289238</td>\n",
       "      <td id=\"T_5a72a_row5_col18\" class=\"data row5 col18\" >-0.013269</td>\n",
       "    </tr>\n",
       "    <tr>\n",
       "      <th id=\"T_5a72a_level0_row6\" class=\"row_heading level0 row6\" >waterfront</th>\n",
       "      <td id=\"T_5a72a_row6_col0\" class=\"data row6 col0\" >0.274953</td>\n",
       "      <td id=\"T_5a72a_row6_col1\" class=\"data row6 col1\" >-0.006803</td>\n",
       "      <td id=\"T_5a72a_row6_col2\" class=\"data row6 col2\" >0.061483</td>\n",
       "      <td id=\"T_5a72a_row6_col3\" class=\"data row6 col3\" >0.097203</td>\n",
       "      <td id=\"T_5a72a_row6_col4\" class=\"data row6 col4\" >0.029420</td>\n",
       "      <td id=\"T_5a72a_row6_col5\" class=\"data row6 col5\" >0.022443</td>\n",
       "      <td id=\"T_5a72a_row6_col6\" class=\"data row6 col6\" >1.000000</td>\n",
       "      <td id=\"T_5a72a_row6_col7\" class=\"data row6 col7\" >0.402725</td>\n",
       "      <td id=\"T_5a72a_row6_col8\" class=\"data row6 col8\" >0.024030</td>\n",
       "      <td id=\"T_5a72a_row6_col9\" class=\"data row6 col9\" >0.088039</td>\n",
       "      <td id=\"T_5a72a_row6_col10\" class=\"data row6 col10\" >0.064297</td>\n",
       "      <td id=\"T_5a72a_row6_col11\" class=\"data row6 col11\" >0.082214</td>\n",
       "      <td id=\"T_5a72a_row6_col12\" class=\"data row6 col12\" >-0.027010</td>\n",
       "      <td id=\"T_5a72a_row6_col13\" class=\"data row6 col13\" >0.101684</td>\n",
       "      <td id=\"T_5a72a_row6_col14\" class=\"data row6 col14\" >0.023656</td>\n",
       "      <td id=\"T_5a72a_row6_col15\" class=\"data row6 col15\" >-0.009410</td>\n",
       "      <td id=\"T_5a72a_row6_col16\" class=\"data row6 col16\" >-0.039227</td>\n",
       "      <td id=\"T_5a72a_row6_col17\" class=\"data row6 col17\" >0.097196</td>\n",
       "      <td id=\"T_5a72a_row6_col18\" class=\"data row6 col18\" >0.028499</td>\n",
       "    </tr>\n",
       "    <tr>\n",
       "      <th id=\"T_5a72a_level0_row7\" class=\"row_heading level0 row7\" >view</th>\n",
       "      <td id=\"T_5a72a_row7_col0\" class=\"data row7 col0\" >0.399711</td>\n",
       "      <td id=\"T_5a72a_row7_col1\" class=\"data row7 col1\" >0.079863</td>\n",
       "      <td id=\"T_5a72a_row7_col2\" class=\"data row7 col2\" >0.182988</td>\n",
       "      <td id=\"T_5a72a_row7_col3\" class=\"data row7 col3\" >0.285735</td>\n",
       "      <td id=\"T_5a72a_row7_col4\" class=\"data row7 col4\" >0.099221</td>\n",
       "      <td id=\"T_5a72a_row7_col5\" class=\"data row7 col5\" >0.031938</td>\n",
       "      <td id=\"T_5a72a_row7_col6\" class=\"data row7 col6\" >0.402725</td>\n",
       "      <td id=\"T_5a72a_row7_col7\" class=\"data row7 col7\" >1.000000</td>\n",
       "      <td id=\"T_5a72a_row7_col8\" class=\"data row7 col8\" >0.059969</td>\n",
       "      <td id=\"T_5a72a_row7_col9\" class=\"data row7 col9\" >0.258123</td>\n",
       "      <td id=\"T_5a72a_row7_col10\" class=\"data row7 col10\" >0.170286</td>\n",
       "      <td id=\"T_5a72a_row7_col11\" class=\"data row7 col11\" >0.277021</td>\n",
       "      <td id=\"T_5a72a_row7_col12\" class=\"data row7 col12\" >-0.056361</td>\n",
       "      <td id=\"T_5a72a_row7_col13\" class=\"data row7 col13\" >0.109750</td>\n",
       "      <td id=\"T_5a72a_row7_col14\" class=\"data row7 col14\" >0.075834</td>\n",
       "      <td id=\"T_5a72a_row7_col15\" class=\"data row7 col15\" >0.005503</td>\n",
       "      <td id=\"T_5a72a_row7_col16\" class=\"data row7 col16\" >-0.074630</td>\n",
       "      <td id=\"T_5a72a_row7_col17\" class=\"data row7 col17\" >0.292435</td>\n",
       "      <td id=\"T_5a72a_row7_col18\" class=\"data row7 col18\" >0.079904</td>\n",
       "    </tr>\n",
       "    <tr>\n",
       "      <th id=\"T_5a72a_level0_row8\" class=\"row_heading level0 row8\" >condition</th>\n",
       "      <td id=\"T_5a72a_row8_col0\" class=\"data row8 col0\" >0.044754</td>\n",
       "      <td id=\"T_5a72a_row8_col1\" class=\"data row8 col1\" >0.036135</td>\n",
       "      <td id=\"T_5a72a_row8_col2\" class=\"data row8 col2\" >-0.115382</td>\n",
       "      <td id=\"T_5a72a_row8_col3\" class=\"data row8 col3\" >-0.047938</td>\n",
       "      <td id=\"T_5a72a_row8_col4\" class=\"data row8 col4\" >-0.008722</td>\n",
       "      <td id=\"T_5a72a_row8_col5\" class=\"data row8 col5\" >-0.265390</td>\n",
       "      <td id=\"T_5a72a_row8_col6\" class=\"data row8 col6\" >0.024030</td>\n",
       "      <td id=\"T_5a72a_row8_col7\" class=\"data row8 col7\" >0.059969</td>\n",
       "      <td id=\"T_5a72a_row8_col8\" class=\"data row8 col8\" >1.000000</td>\n",
       "      <td id=\"T_5a72a_row8_col9\" class=\"data row8 col9\" >-0.133313</td>\n",
       "      <td id=\"T_5a72a_row8_col10\" class=\"data row8 col10\" >-0.153713</td>\n",
       "      <td id=\"T_5a72a_row8_col11\" class=\"data row8 col11\" >0.189828</td>\n",
       "      <td id=\"T_5a72a_row8_col12\" class=\"data row8 col12\" >-0.357396</td>\n",
       "      <td id=\"T_5a72a_row8_col13\" class=\"data row8 col13\" >-0.055525</td>\n",
       "      <td id=\"T_5a72a_row8_col14\" class=\"data row8 col14\" >0.003410</td>\n",
       "      <td id=\"T_5a72a_row8_col15\" class=\"data row8 col15\" >-0.017622</td>\n",
       "      <td id=\"T_5a72a_row8_col16\" class=\"data row8 col16\" >-0.106514</td>\n",
       "      <td id=\"T_5a72a_row8_col17\" class=\"data row8 col17\" >-0.080423</td>\n",
       "      <td id=\"T_5a72a_row8_col18\" class=\"data row8 col18\" >0.002253</td>\n",
       "    </tr>\n",
       "    <tr>\n",
       "      <th id=\"T_5a72a_level0_row9\" class=\"row_heading level0 row9\" >grade</th>\n",
       "      <td id=\"T_5a72a_row9_col0\" class=\"data row9 col0\" >0.665594</td>\n",
       "      <td id=\"T_5a72a_row9_col1\" class=\"data row9 col1\" >0.342305</td>\n",
       "      <td id=\"T_5a72a_row9_col2\" class=\"data row9 col2\" >0.660925</td>\n",
       "      <td id=\"T_5a72a_row9_col3\" class=\"data row9 col3\" >0.764819</td>\n",
       "      <td id=\"T_5a72a_row9_col4\" class=\"data row9 col4\" >0.115611</td>\n",
       "      <td id=\"T_5a72a_row9_col5\" class=\"data row9 col5\" >0.461545</td>\n",
       "      <td id=\"T_5a72a_row9_col6\" class=\"data row9 col6\" >0.088039</td>\n",
       "      <td id=\"T_5a72a_row9_col7\" class=\"data row9 col7\" >0.258123</td>\n",
       "      <td id=\"T_5a72a_row9_col8\" class=\"data row9 col8\" >-0.133313</td>\n",
       "      <td id=\"T_5a72a_row9_col9\" class=\"data row9 col9\" >1.000000</td>\n",
       "      <td id=\"T_5a72a_row9_col10\" class=\"data row9 col10\" >0.756226</td>\n",
       "      <td id=\"T_5a72a_row9_col11\" class=\"data row9 col11\" >0.174216</td>\n",
       "      <td id=\"T_5a72a_row9_col12\" class=\"data row9 col12\" >0.447817</td>\n",
       "      <td id=\"T_5a72a_row9_col13\" class=\"data row9 col13\" >0.013053</td>\n",
       "      <td id=\"T_5a72a_row9_col14\" class=\"data row9 col14\" >-0.187340</td>\n",
       "      <td id=\"T_5a72a_row9_col15\" class=\"data row9 col15\" >0.107977</td>\n",
       "      <td id=\"T_5a72a_row9_col16\" class=\"data row9 col16\" >0.201114</td>\n",
       "      <td id=\"T_5a72a_row9_col17\" class=\"data row9 col17\" >0.717835</td>\n",
       "      <td id=\"T_5a72a_row9_col18\" class=\"data row9 col18\" >0.118618</td>\n",
       "    </tr>\n",
       "    <tr>\n",
       "      <th id=\"T_5a72a_level0_row10\" class=\"row_heading level0 row10\" >sqft_above</th>\n",
       "      <td id=\"T_5a72a_row10_col0\" class=\"data row10 col0\" >0.611450</td>\n",
       "      <td id=\"T_5a72a_row10_col1\" class=\"data row10 col1\" >0.462514</td>\n",
       "      <td id=\"T_5a72a_row10_col2\" class=\"data row10 col2\" >0.692911</td>\n",
       "      <td id=\"T_5a72a_row10_col3\" class=\"data row10 col3\" >0.878989</td>\n",
       "      <td id=\"T_5a72a_row10_col4\" class=\"data row10 col4\" >0.180913</td>\n",
       "      <td id=\"T_5a72a_row10_col5\" class=\"data row10 col5\" >0.534801</td>\n",
       "      <td id=\"T_5a72a_row10_col6\" class=\"data row10 col6\" >0.064297</td>\n",
       "      <td id=\"T_5a72a_row10_col7\" class=\"data row10 col7\" >0.170286</td>\n",
       "      <td id=\"T_5a72a_row10_col8\" class=\"data row10 col8\" >-0.153713</td>\n",
       "      <td id=\"T_5a72a_row10_col9\" class=\"data row10 col9\" >0.756226</td>\n",
       "      <td id=\"T_5a72a_row10_col10\" class=\"data row10 col10\" >1.000000</td>\n",
       "      <td id=\"T_5a72a_row10_col11\" class=\"data row10 col11\" >-0.046926</td>\n",
       "      <td id=\"T_5a72a_row10_col12\" class=\"data row10 col12\" >0.426642</td>\n",
       "      <td id=\"T_5a72a_row10_col13\" class=\"data row10 col13\" >0.014654</td>\n",
       "      <td id=\"T_5a72a_row10_col14\" class=\"data row10 col14\" >-0.264223</td>\n",
       "      <td id=\"T_5a72a_row10_col15\" class=\"data row10 col15\" >0.002797</td>\n",
       "      <td id=\"T_5a72a_row10_col16\" class=\"data row10 col16\" >0.343715</td>\n",
       "      <td id=\"T_5a72a_row10_col17\" class=\"data row10 col17\" >0.726505</td>\n",
       "      <td id=\"T_5a72a_row10_col18\" class=\"data row10 col18\" >0.185507</td>\n",
       "    </tr>\n",
       "    <tr>\n",
       "      <th id=\"T_5a72a_level0_row11\" class=\"row_heading level0 row11\" >sqft_basement</th>\n",
       "      <td id=\"T_5a72a_row11_col0\" class=\"data row11 col0\" >0.322369</td>\n",
       "      <td id=\"T_5a72a_row11_col1\" class=\"data row11 col1\" >0.301829</td>\n",
       "      <td id=\"T_5a72a_row11_col2\" class=\"data row11 col2\" >0.281433</td>\n",
       "      <td id=\"T_5a72a_row11_col3\" class=\"data row11 col3\" >0.435069</td>\n",
       "      <td id=\"T_5a72a_row11_col4\" class=\"data row11 col4\" >-0.000601</td>\n",
       "      <td id=\"T_5a72a_row11_col5\" class=\"data row11 col5\" >-0.242675</td>\n",
       "      <td id=\"T_5a72a_row11_col6\" class=\"data row11 col6\" >0.082214</td>\n",
       "      <td id=\"T_5a72a_row11_col7\" class=\"data row11 col7\" >0.277021</td>\n",
       "      <td id=\"T_5a72a_row11_col8\" class=\"data row11 col8\" >0.189828</td>\n",
       "      <td id=\"T_5a72a_row11_col9\" class=\"data row11 col9\" >0.174216</td>\n",
       "      <td id=\"T_5a72a_row11_col10\" class=\"data row11 col10\" >-0.046926</td>\n",
       "      <td id=\"T_5a72a_row11_col11\" class=\"data row11 col11\" >1.000000</td>\n",
       "      <td id=\"T_5a72a_row11_col12\" class=\"data row11 col12\" >-0.129559</td>\n",
       "      <td id=\"T_5a72a_row11_col13\" class=\"data row11 col13\" >0.063719</td>\n",
       "      <td id=\"T_5a72a_row11_col14\" class=\"data row11 col14\" >0.072077</td>\n",
       "      <td id=\"T_5a72a_row11_col15\" class=\"data row11 col15\" >0.109578</td>\n",
       "      <td id=\"T_5a72a_row11_col16\" class=\"data row11 col16\" >-0.145909</td>\n",
       "      <td id=\"T_5a72a_row11_col17\" class=\"data row11 col17\" >0.216220</td>\n",
       "      <td id=\"T_5a72a_row11_col18\" class=\"data row11 col18\" >-0.007685</td>\n",
       "    </tr>\n",
       "    <tr>\n",
       "      <th id=\"T_5a72a_level0_row12\" class=\"row_heading level0 row12\" >yr_built</th>\n",
       "      <td id=\"T_5a72a_row12_col0\" class=\"data row12 col0\" >0.051737</td>\n",
       "      <td id=\"T_5a72a_row12_col1\" class=\"data row12 col1\" >0.155102</td>\n",
       "      <td id=\"T_5a72a_row12_col2\" class=\"data row12 col2\" >0.499589</td>\n",
       "      <td id=\"T_5a72a_row12_col3\" class=\"data row12 col3\" >0.322723</td>\n",
       "      <td id=\"T_5a72a_row12_col4\" class=\"data row12 col4\" >0.054043</td>\n",
       "      <td id=\"T_5a72a_row12_col5\" class=\"data row12 col5\" >0.481926</td>\n",
       "      <td id=\"T_5a72a_row12_col6\" class=\"data row12 col6\" >-0.027010</td>\n",
       "      <td id=\"T_5a72a_row12_col7\" class=\"data row12 col7\" >-0.056361</td>\n",
       "      <td id=\"T_5a72a_row12_col8\" class=\"data row12 col8\" >-0.357396</td>\n",
       "      <td id=\"T_5a72a_row12_col9\" class=\"data row12 col9\" >0.447817</td>\n",
       "      <td id=\"T_5a72a_row12_col10\" class=\"data row12 col10\" >0.426642</td>\n",
       "      <td id=\"T_5a72a_row12_col11\" class=\"data row12 col11\" >-0.129559</td>\n",
       "      <td id=\"T_5a72a_row12_col12\" class=\"data row12 col12\" >1.000000</td>\n",
       "      <td id=\"T_5a72a_row12_col13\" class=\"data row12 col13\" >-0.228349</td>\n",
       "      <td id=\"T_5a72a_row12_col14\" class=\"data row12 col14\" >-0.353613</td>\n",
       "      <td id=\"T_5a72a_row12_col15\" class=\"data row12 col15\" >-0.157480</td>\n",
       "      <td id=\"T_5a72a_row12_col16\" class=\"data row12 col16\" >0.410001</td>\n",
       "      <td id=\"T_5a72a_row12_col17\" class=\"data row12 col17\" >0.326390</td>\n",
       "      <td id=\"T_5a72a_row12_col18\" class=\"data row12 col18\" >0.072152</td>\n",
       "    </tr>\n",
       "    <tr>\n",
       "      <th id=\"T_5a72a_level0_row13\" class=\"row_heading level0 row13\" >yr_renovated</th>\n",
       "      <td id=\"T_5a72a_row13_col0\" class=\"data row13 col0\" >0.120439</td>\n",
       "      <td id=\"T_5a72a_row13_col1\" class=\"data row13 col1\" >0.018625</td>\n",
       "      <td id=\"T_5a72a_row13_col2\" class=\"data row13 col2\" >0.044756</td>\n",
       "      <td id=\"T_5a72a_row13_col3\" class=\"data row13 col3\" >0.043627</td>\n",
       "      <td id=\"T_5a72a_row13_col4\" class=\"data row13 col4\" >0.001219</td>\n",
       "      <td id=\"T_5a72a_row13_col5\" class=\"data row13 col5\" >0.013655</td>\n",
       "      <td id=\"T_5a72a_row13_col6\" class=\"data row13 col6\" >0.101684</td>\n",
       "      <td id=\"T_5a72a_row13_col7\" class=\"data row13 col7\" >0.109750</td>\n",
       "      <td id=\"T_5a72a_row13_col8\" class=\"data row13 col8\" >-0.055525</td>\n",
       "      <td id=\"T_5a72a_row13_col9\" class=\"data row13 col9\" >0.013053</td>\n",
       "      <td id=\"T_5a72a_row13_col10\" class=\"data row13 col10\" >0.014654</td>\n",
       "      <td id=\"T_5a72a_row13_col11\" class=\"data row13 col11\" >0.063719</td>\n",
       "      <td id=\"T_5a72a_row13_col12\" class=\"data row13 col12\" >-0.228349</td>\n",
       "      <td id=\"T_5a72a_row13_col13\" class=\"data row13 col13\" >1.000000</td>\n",
       "      <td id=\"T_5a72a_row13_col14\" class=\"data row13 col14\" >0.066908</td>\n",
       "      <td id=\"T_5a72a_row13_col15\" class=\"data row13 col15\" >0.035174</td>\n",
       "      <td id=\"T_5a72a_row13_col16\" class=\"data row13 col16\" >-0.073070</td>\n",
       "      <td id=\"T_5a72a_row13_col17\" class=\"data row13 col17\" >-0.003618</td>\n",
       "      <td id=\"T_5a72a_row13_col18\" class=\"data row13 col18\" >-0.007260</td>\n",
       "    </tr>\n",
       "    <tr>\n",
       "      <th id=\"T_5a72a_level0_row14\" class=\"row_heading level0 row14\" >zipcode</th>\n",
       "      <td id=\"T_5a72a_row14_col0\" class=\"data row14 col0\" >-0.055619</td>\n",
       "      <td id=\"T_5a72a_row14_col1\" class=\"data row14 col1\" >-0.148339</td>\n",
       "      <td id=\"T_5a72a_row14_col2\" class=\"data row14 col2\" >-0.201454</td>\n",
       "      <td id=\"T_5a72a_row14_col3\" class=\"data row14 col3\" >-0.203761</td>\n",
       "      <td id=\"T_5a72a_row14_col4\" class=\"data row14 col4\" >-0.126091</td>\n",
       "      <td id=\"T_5a72a_row14_col5\" class=\"data row14 col5\" >-0.064479</td>\n",
       "      <td id=\"T_5a72a_row14_col6\" class=\"data row14 col6\" >0.023656</td>\n",
       "      <td id=\"T_5a72a_row14_col7\" class=\"data row14 col7\" >0.075834</td>\n",
       "      <td id=\"T_5a72a_row14_col8\" class=\"data row14 col8\" >0.003410</td>\n",
       "      <td id=\"T_5a72a_row14_col9\" class=\"data row14 col9\" >-0.187340</td>\n",
       "      <td id=\"T_5a72a_row14_col10\" class=\"data row14 col10\" >-0.264223</td>\n",
       "      <td id=\"T_5a72a_row14_col11\" class=\"data row14 col11\" >0.072077</td>\n",
       "      <td id=\"T_5a72a_row14_col12\" class=\"data row14 col12\" >-0.353613</td>\n",
       "      <td id=\"T_5a72a_row14_col13\" class=\"data row14 col13\" >0.066908</td>\n",
       "      <td id=\"T_5a72a_row14_col14\" class=\"data row14 col14\" >1.000000</td>\n",
       "      <td id=\"T_5a72a_row14_col15\" class=\"data row14 col15\" >0.271886</td>\n",
       "      <td id=\"T_5a72a_row14_col16\" class=\"data row14 col16\" >-0.560433</td>\n",
       "      <td id=\"T_5a72a_row14_col17\" class=\"data row14 col17\" >-0.279658</td>\n",
       "      <td id=\"T_5a72a_row14_col18\" class=\"data row14 col18\" >-0.142375</td>\n",
       "    </tr>\n",
       "    <tr>\n",
       "      <th id=\"T_5a72a_level0_row15\" class=\"row_heading level0 row15\" >lat</th>\n",
       "      <td id=\"T_5a72a_row15_col0\" class=\"data row15 col0\" >0.299191</td>\n",
       "      <td id=\"T_5a72a_row15_col1\" class=\"data row15 col1\" >-0.010547</td>\n",
       "      <td id=\"T_5a72a_row15_col2\" class=\"data row15 col2\" >0.018453</td>\n",
       "      <td id=\"T_5a72a_row15_col3\" class=\"data row15 col3\" >0.054830</td>\n",
       "      <td id=\"T_5a72a_row15_col4\" class=\"data row15 col4\" >-0.092245</td>\n",
       "      <td id=\"T_5a72a_row15_col5\" class=\"data row15 col5\" >0.044827</td>\n",
       "      <td id=\"T_5a72a_row15_col6\" class=\"data row15 col6\" >-0.009410</td>\n",
       "      <td id=\"T_5a72a_row15_col7\" class=\"data row15 col7\" >0.005503</td>\n",
       "      <td id=\"T_5a72a_row15_col8\" class=\"data row15 col8\" >-0.017622</td>\n",
       "      <td id=\"T_5a72a_row15_col9\" class=\"data row15 col9\" >0.107977</td>\n",
       "      <td id=\"T_5a72a_row15_col10\" class=\"data row15 col10\" >0.002797</td>\n",
       "      <td id=\"T_5a72a_row15_col11\" class=\"data row15 col11\" >0.109578</td>\n",
       "      <td id=\"T_5a72a_row15_col12\" class=\"data row15 col12\" >-0.157480</td>\n",
       "      <td id=\"T_5a72a_row15_col13\" class=\"data row15 col13\" >0.035174</td>\n",
       "      <td id=\"T_5a72a_row15_col14\" class=\"data row15 col14\" >0.271886</td>\n",
       "      <td id=\"T_5a72a_row15_col15\" class=\"data row15 col15\" >1.000000</td>\n",
       "      <td id=\"T_5a72a_row15_col16\" class=\"data row15 col16\" >-0.133265</td>\n",
       "      <td id=\"T_5a72a_row15_col17\" class=\"data row15 col17\" >0.052126</td>\n",
       "      <td id=\"T_5a72a_row15_col18\" class=\"data row15 col18\" >-0.094620</td>\n",
       "    </tr>\n",
       "    <tr>\n",
       "      <th id=\"T_5a72a_level0_row16\" class=\"row_heading level0 row16\" >long</th>\n",
       "      <td id=\"T_5a72a_row16_col0\" class=\"data row16 col0\" >0.023718</td>\n",
       "      <td id=\"T_5a72a_row16_col1\" class=\"data row16 col1\" >0.117168</td>\n",
       "      <td id=\"T_5a72a_row16_col2\" class=\"data row16 col2\" >0.217697</td>\n",
       "      <td id=\"T_5a72a_row16_col3\" class=\"data row16 col3\" >0.240170</td>\n",
       "      <td id=\"T_5a72a_row16_col4\" class=\"data row16 col4\" >0.224524</td>\n",
       "      <td id=\"T_5a72a_row16_col5\" class=\"data row16 col5\" >0.134683</td>\n",
       "      <td id=\"T_5a72a_row16_col6\" class=\"data row16 col6\" >-0.039227</td>\n",
       "      <td id=\"T_5a72a_row16_col7\" class=\"data row16 col7\" >-0.074630</td>\n",
       "      <td id=\"T_5a72a_row16_col8\" class=\"data row16 col8\" >-0.106514</td>\n",
       "      <td id=\"T_5a72a_row16_col9\" class=\"data row16 col9\" >0.201114</td>\n",
       "      <td id=\"T_5a72a_row16_col10\" class=\"data row16 col10\" >0.343715</td>\n",
       "      <td id=\"T_5a72a_row16_col11\" class=\"data row16 col11\" >-0.145909</td>\n",
       "      <td id=\"T_5a72a_row16_col12\" class=\"data row16 col12\" >0.410001</td>\n",
       "      <td id=\"T_5a72a_row16_col13\" class=\"data row16 col13\" >-0.073070</td>\n",
       "      <td id=\"T_5a72a_row16_col14\" class=\"data row16 col14\" >-0.560433</td>\n",
       "      <td id=\"T_5a72a_row16_col15\" class=\"data row16 col15\" >-0.133265</td>\n",
       "      <td id=\"T_5a72a_row16_col16\" class=\"data row16 col16\" >1.000000</td>\n",
       "      <td id=\"T_5a72a_row16_col17\" class=\"data row16 col17\" >0.327811</td>\n",
       "      <td id=\"T_5a72a_row16_col18\" class=\"data row16 col18\" >0.248391</td>\n",
       "    </tr>\n",
       "    <tr>\n",
       "      <th id=\"T_5a72a_level0_row17\" class=\"row_heading level0 row17\" >sqft_living15</th>\n",
       "      <td id=\"T_5a72a_row17_col0\" class=\"data row17 col0\" >0.584829</td>\n",
       "      <td id=\"T_5a72a_row17_col1\" class=\"data row17 col1\" >0.376457</td>\n",
       "      <td id=\"T_5a72a_row17_col2\" class=\"data row17 col2\" >0.566076</td>\n",
       "      <td id=\"T_5a72a_row17_col3\" class=\"data row17 col3\" >0.758081</td>\n",
       "      <td id=\"T_5a72a_row17_col4\" class=\"data row17 col4\" >0.145285</td>\n",
       "      <td id=\"T_5a72a_row17_col5\" class=\"data row17 col5\" >0.289238</td>\n",
       "      <td id=\"T_5a72a_row17_col6\" class=\"data row17 col6\" >0.097196</td>\n",
       "      <td id=\"T_5a72a_row17_col7\" class=\"data row17 col7\" >0.292435</td>\n",
       "      <td id=\"T_5a72a_row17_col8\" class=\"data row17 col8\" >-0.080423</td>\n",
       "      <td id=\"T_5a72a_row17_col9\" class=\"data row17 col9\" >0.717835</td>\n",
       "      <td id=\"T_5a72a_row17_col10\" class=\"data row17 col10\" >0.726505</td>\n",
       "      <td id=\"T_5a72a_row17_col11\" class=\"data row17 col11\" >0.216220</td>\n",
       "      <td id=\"T_5a72a_row17_col12\" class=\"data row17 col12\" >0.326390</td>\n",
       "      <td id=\"T_5a72a_row17_col13\" class=\"data row17 col13\" >-0.003618</td>\n",
       "      <td id=\"T_5a72a_row17_col14\" class=\"data row17 col14\" >-0.279658</td>\n",
       "      <td id=\"T_5a72a_row17_col15\" class=\"data row17 col15\" >0.052126</td>\n",
       "      <td id=\"T_5a72a_row17_col16\" class=\"data row17 col16\" >0.327811</td>\n",
       "      <td id=\"T_5a72a_row17_col17\" class=\"data row17 col17\" >1.000000</td>\n",
       "      <td id=\"T_5a72a_row17_col18\" class=\"data row17 col18\" >0.185966</td>\n",
       "    </tr>\n",
       "    <tr>\n",
       "      <th id=\"T_5a72a_level0_row18\" class=\"row_heading level0 row18\" >sqft_lot15</th>\n",
       "      <td id=\"T_5a72a_row18_col0\" class=\"data row18 col0\" >0.077960</td>\n",
       "      <td id=\"T_5a72a_row18_col1\" class=\"data row18 col1\" >0.018149</td>\n",
       "      <td id=\"T_5a72a_row18_col2\" class=\"data row18 col2\" >0.068722</td>\n",
       "      <td id=\"T_5a72a_row18_col3\" class=\"data row18 col3\" >0.163545</td>\n",
       "      <td id=\"T_5a72a_row18_col4\" class=\"data row18 col4\" >0.719922</td>\n",
       "      <td id=\"T_5a72a_row18_col5\" class=\"data row18 col5\" >-0.013269</td>\n",
       "      <td id=\"T_5a72a_row18_col6\" class=\"data row18 col6\" >0.028499</td>\n",
       "      <td id=\"T_5a72a_row18_col7\" class=\"data row18 col7\" >0.079904</td>\n",
       "      <td id=\"T_5a72a_row18_col8\" class=\"data row18 col8\" >0.002253</td>\n",
       "      <td id=\"T_5a72a_row18_col9\" class=\"data row18 col9\" >0.118618</td>\n",
       "      <td id=\"T_5a72a_row18_col10\" class=\"data row18 col10\" >0.185507</td>\n",
       "      <td id=\"T_5a72a_row18_col11\" class=\"data row18 col11\" >-0.007685</td>\n",
       "      <td id=\"T_5a72a_row18_col12\" class=\"data row18 col12\" >0.072152</td>\n",
       "      <td id=\"T_5a72a_row18_col13\" class=\"data row18 col13\" >-0.007260</td>\n",
       "      <td id=\"T_5a72a_row18_col14\" class=\"data row18 col14\" >-0.142375</td>\n",
       "      <td id=\"T_5a72a_row18_col15\" class=\"data row18 col15\" >-0.094620</td>\n",
       "      <td id=\"T_5a72a_row18_col16\" class=\"data row18 col16\" >0.248391</td>\n",
       "      <td id=\"T_5a72a_row18_col17\" class=\"data row18 col17\" >0.185966</td>\n",
       "      <td id=\"T_5a72a_row18_col18\" class=\"data row18 col18\" >1.000000</td>\n",
       "    </tr>\n",
       "  </tbody>\n",
       "</table>\n"
      ],
      "text/plain": [
       "<pandas.io.formats.style.Styler at 0x237c915cf70>"
      ]
     },
     "execution_count": 439,
     "metadata": {},
     "output_type": "execute_result"
    }
   ],
   "source": [
    "corr= X.corr(method=\"pearson\")        \n",
    "corr.style.background_gradient()"
   ]
  },
  {
   "cell_type": "markdown",
   "metadata": {},
   "source": [
    "#### Checking for the null values in the dataset"
   ]
  },
  {
   "cell_type": "code",
   "execution_count": 440,
   "metadata": {
    "scrolled": true
   },
   "outputs": [
    {
     "data": {
      "text/plain": [
       "date             0\n",
       "price            0\n",
       "bedrooms         0\n",
       "bathrooms        0\n",
       "sqft_living      0\n",
       "sqft_lot         0\n",
       "floors           0\n",
       "waterfront       0\n",
       "view             0\n",
       "condition        0\n",
       "grade            0\n",
       "sqft_above       0\n",
       "sqft_basement    0\n",
       "yr_built         0\n",
       "yr_renovated     0\n",
       "zipcode          0\n",
       "lat              0\n",
       "long             0\n",
       "sqft_living15    0\n",
       "sqft_lot15       0\n",
       "dtype: int64"
      ]
     },
     "execution_count": 440,
     "metadata": {},
     "output_type": "execute_result"
    }
   ],
   "source": [
    "data.isnull().sum()  # checking for any missing values in the dataset"
   ]
  },
  {
   "cell_type": "markdown",
   "metadata": {},
   "source": [
    "We have found that there are no missing values present in the dataset"
   ]
  },
  {
   "cell_type": "code",
   "execution_count": 441,
   "metadata": {},
   "outputs": [
    {
     "data": {
      "text/html": [
       "<div>\n",
       "<style scoped>\n",
       "    .dataframe tbody tr th:only-of-type {\n",
       "        vertical-align: middle;\n",
       "    }\n",
       "\n",
       "    .dataframe tbody tr th {\n",
       "        vertical-align: top;\n",
       "    }\n",
       "\n",
       "    .dataframe thead th {\n",
       "        text-align: right;\n",
       "    }\n",
       "</style>\n",
       "<table border=\"1\" class=\"dataframe\">\n",
       "  <thead>\n",
       "    <tr style=\"text-align: right;\">\n",
       "      <th></th>\n",
       "      <th>date</th>\n",
       "    </tr>\n",
       "  </thead>\n",
       "  <tbody>\n",
       "    <tr>\n",
       "      <th>count</th>\n",
       "      <td>9761</td>\n",
       "    </tr>\n",
       "    <tr>\n",
       "      <th>unique</th>\n",
       "      <td>357</td>\n",
       "    </tr>\n",
       "    <tr>\n",
       "      <th>top</th>\n",
       "      <td>20140820T000000</td>\n",
       "    </tr>\n",
       "    <tr>\n",
       "      <th>freq</th>\n",
       "      <td>64</td>\n",
       "    </tr>\n",
       "  </tbody>\n",
       "</table>\n",
       "</div>"
      ],
      "text/plain": [
       "                   date\n",
       "count              9761\n",
       "unique              357\n",
       "top     20140820T000000\n",
       "freq                 64"
      ]
     },
     "execution_count": 441,
     "metadata": {},
     "output_type": "execute_result"
    }
   ],
   "source": [
    "data.describe(include = [\"object\"])  "
   ]
  },
  {
   "cell_type": "code",
   "execution_count": 442,
   "metadata": {},
   "outputs": [
    {
     "data": {
      "text/html": [
       "<div>\n",
       "<style scoped>\n",
       "    .dataframe tbody tr th:only-of-type {\n",
       "        vertical-align: middle;\n",
       "    }\n",
       "\n",
       "    .dataframe tbody tr th {\n",
       "        vertical-align: top;\n",
       "    }\n",
       "\n",
       "    .dataframe thead th {\n",
       "        text-align: right;\n",
       "    }\n",
       "</style>\n",
       "<table border=\"1\" class=\"dataframe\">\n",
       "  <thead>\n",
       "    <tr style=\"text-align: right;\">\n",
       "      <th></th>\n",
       "      <th>price</th>\n",
       "      <th>bedrooms</th>\n",
       "      <th>bathrooms</th>\n",
       "      <th>sqft_living</th>\n",
       "      <th>sqft_lot</th>\n",
       "      <th>floors</th>\n",
       "      <th>waterfront</th>\n",
       "      <th>view</th>\n",
       "      <th>condition</th>\n",
       "      <th>grade</th>\n",
       "      <th>sqft_above</th>\n",
       "      <th>sqft_basement</th>\n",
       "      <th>yr_built</th>\n",
       "      <th>yr_renovated</th>\n",
       "      <th>zipcode</th>\n",
       "      <th>lat</th>\n",
       "      <th>long</th>\n",
       "      <th>sqft_living15</th>\n",
       "      <th>sqft_lot15</th>\n",
       "    </tr>\n",
       "  </thead>\n",
       "  <tbody>\n",
       "    <tr>\n",
       "      <th>count</th>\n",
       "      <td>9.761000e+03</td>\n",
       "      <td>9761.000000</td>\n",
       "      <td>9761.000000</td>\n",
       "      <td>9761.000000</td>\n",
       "      <td>9.761000e+03</td>\n",
       "      <td>9761.000000</td>\n",
       "      <td>9761.000000</td>\n",
       "      <td>9761.000000</td>\n",
       "      <td>9761.000000</td>\n",
       "      <td>9761.00000</td>\n",
       "      <td>9761.000000</td>\n",
       "      <td>9761.000000</td>\n",
       "      <td>9761.000000</td>\n",
       "      <td>9761.000000</td>\n",
       "      <td>9761.000000</td>\n",
       "      <td>9761.000000</td>\n",
       "      <td>9761.000000</td>\n",
       "      <td>9761.000000</td>\n",
       "      <td>9761.000000</td>\n",
       "    </tr>\n",
       "    <tr>\n",
       "      <th>mean</th>\n",
       "      <td>5.428336e+05</td>\n",
       "      <td>3.375884</td>\n",
       "      <td>2.117175</td>\n",
       "      <td>2086.734146</td>\n",
       "      <td>1.521526e+04</td>\n",
       "      <td>1.486067</td>\n",
       "      <td>0.008401</td>\n",
       "      <td>0.248028</td>\n",
       "      <td>3.415531</td>\n",
       "      <td>7.66151</td>\n",
       "      <td>1793.291159</td>\n",
       "      <td>293.442987</td>\n",
       "      <td>1970.799508</td>\n",
       "      <td>86.066592</td>\n",
       "      <td>98077.790185</td>\n",
       "      <td>47.560052</td>\n",
       "      <td>-122.214322</td>\n",
       "      <td>1992.359697</td>\n",
       "      <td>12824.785165</td>\n",
       "    </tr>\n",
       "    <tr>\n",
       "      <th>std</th>\n",
       "      <td>3.797779e+05</td>\n",
       "      <td>0.960697</td>\n",
       "      <td>0.773971</td>\n",
       "      <td>927.194303</td>\n",
       "      <td>4.126673e+04</td>\n",
       "      <td>0.532317</td>\n",
       "      <td>0.091275</td>\n",
       "      <td>0.787877</td>\n",
       "      <td>0.650552</td>\n",
       "      <td>1.18268</td>\n",
       "      <td>835.763817</td>\n",
       "      <td>442.612722</td>\n",
       "      <td>29.240009</td>\n",
       "      <td>405.417369</td>\n",
       "      <td>53.203594</td>\n",
       "      <td>0.140236</td>\n",
       "      <td>0.139895</td>\n",
       "      <td>687.322247</td>\n",
       "      <td>26518.337402</td>\n",
       "    </tr>\n",
       "    <tr>\n",
       "      <th>min</th>\n",
       "      <td>8.000000e+04</td>\n",
       "      <td>0.000000</td>\n",
       "      <td>0.000000</td>\n",
       "      <td>290.000000</td>\n",
       "      <td>5.200000e+02</td>\n",
       "      <td>1.000000</td>\n",
       "      <td>0.000000</td>\n",
       "      <td>0.000000</td>\n",
       "      <td>1.000000</td>\n",
       "      <td>1.00000</td>\n",
       "      <td>290.000000</td>\n",
       "      <td>0.000000</td>\n",
       "      <td>1900.000000</td>\n",
       "      <td>0.000000</td>\n",
       "      <td>98001.000000</td>\n",
       "      <td>47.155900</td>\n",
       "      <td>-122.514000</td>\n",
       "      <td>620.000000</td>\n",
       "      <td>660.000000</td>\n",
       "    </tr>\n",
       "    <tr>\n",
       "      <th>25%</th>\n",
       "      <td>3.200000e+05</td>\n",
       "      <td>3.000000</td>\n",
       "      <td>1.750000</td>\n",
       "      <td>1420.000000</td>\n",
       "      <td>5.100000e+03</td>\n",
       "      <td>1.000000</td>\n",
       "      <td>0.000000</td>\n",
       "      <td>0.000000</td>\n",
       "      <td>3.000000</td>\n",
       "      <td>7.00000</td>\n",
       "      <td>1190.000000</td>\n",
       "      <td>0.000000</td>\n",
       "      <td>1951.000000</td>\n",
       "      <td>0.000000</td>\n",
       "      <td>98033.000000</td>\n",
       "      <td>47.467800</td>\n",
       "      <td>-122.327000</td>\n",
       "      <td>1490.000000</td>\n",
       "      <td>5160.000000</td>\n",
       "    </tr>\n",
       "    <tr>\n",
       "      <th>50%</th>\n",
       "      <td>4.500000e+05</td>\n",
       "      <td>3.000000</td>\n",
       "      <td>2.250000</td>\n",
       "      <td>1910.000000</td>\n",
       "      <td>7.642000e+03</td>\n",
       "      <td>1.500000</td>\n",
       "      <td>0.000000</td>\n",
       "      <td>0.000000</td>\n",
       "      <td>3.000000</td>\n",
       "      <td>7.00000</td>\n",
       "      <td>1570.000000</td>\n",
       "      <td>0.000000</td>\n",
       "      <td>1975.000000</td>\n",
       "      <td>0.000000</td>\n",
       "      <td>98065.000000</td>\n",
       "      <td>47.572200</td>\n",
       "      <td>-122.229000</td>\n",
       "      <td>1840.000000</td>\n",
       "      <td>7660.000000</td>\n",
       "    </tr>\n",
       "    <tr>\n",
       "      <th>75%</th>\n",
       "      <td>6.490000e+05</td>\n",
       "      <td>4.000000</td>\n",
       "      <td>2.500000</td>\n",
       "      <td>2570.000000</td>\n",
       "      <td>1.066000e+04</td>\n",
       "      <td>2.000000</td>\n",
       "      <td>0.000000</td>\n",
       "      <td>0.000000</td>\n",
       "      <td>4.000000</td>\n",
       "      <td>8.00000</td>\n",
       "      <td>2230.000000</td>\n",
       "      <td>570.000000</td>\n",
       "      <td>1996.000000</td>\n",
       "      <td>0.000000</td>\n",
       "      <td>98117.000000</td>\n",
       "      <td>47.680400</td>\n",
       "      <td>-122.126000</td>\n",
       "      <td>2370.000000</td>\n",
       "      <td>10113.000000</td>\n",
       "    </tr>\n",
       "    <tr>\n",
       "      <th>max</th>\n",
       "      <td>7.700000e+06</td>\n",
       "      <td>33.000000</td>\n",
       "      <td>8.000000</td>\n",
       "      <td>12050.000000</td>\n",
       "      <td>1.651359e+06</td>\n",
       "      <td>3.500000</td>\n",
       "      <td>1.000000</td>\n",
       "      <td>4.000000</td>\n",
       "      <td>5.000000</td>\n",
       "      <td>13.00000</td>\n",
       "      <td>8860.000000</td>\n",
       "      <td>3480.000000</td>\n",
       "      <td>2015.000000</td>\n",
       "      <td>2015.000000</td>\n",
       "      <td>98199.000000</td>\n",
       "      <td>47.777600</td>\n",
       "      <td>-121.319000</td>\n",
       "      <td>5790.000000</td>\n",
       "      <td>560617.000000</td>\n",
       "    </tr>\n",
       "  </tbody>\n",
       "</table>\n",
       "</div>"
      ],
      "text/plain": [
       "              price     bedrooms    bathrooms   sqft_living      sqft_lot  \\\n",
       "count  9.761000e+03  9761.000000  9761.000000   9761.000000  9.761000e+03   \n",
       "mean   5.428336e+05     3.375884     2.117175   2086.734146  1.521526e+04   \n",
       "std    3.797779e+05     0.960697     0.773971    927.194303  4.126673e+04   \n",
       "min    8.000000e+04     0.000000     0.000000    290.000000  5.200000e+02   \n",
       "25%    3.200000e+05     3.000000     1.750000   1420.000000  5.100000e+03   \n",
       "50%    4.500000e+05     3.000000     2.250000   1910.000000  7.642000e+03   \n",
       "75%    6.490000e+05     4.000000     2.500000   2570.000000  1.066000e+04   \n",
       "max    7.700000e+06    33.000000     8.000000  12050.000000  1.651359e+06   \n",
       "\n",
       "            floors   waterfront         view    condition       grade  \\\n",
       "count  9761.000000  9761.000000  9761.000000  9761.000000  9761.00000   \n",
       "mean      1.486067     0.008401     0.248028     3.415531     7.66151   \n",
       "std       0.532317     0.091275     0.787877     0.650552     1.18268   \n",
       "min       1.000000     0.000000     0.000000     1.000000     1.00000   \n",
       "25%       1.000000     0.000000     0.000000     3.000000     7.00000   \n",
       "50%       1.500000     0.000000     0.000000     3.000000     7.00000   \n",
       "75%       2.000000     0.000000     0.000000     4.000000     8.00000   \n",
       "max       3.500000     1.000000     4.000000     5.000000    13.00000   \n",
       "\n",
       "        sqft_above  sqft_basement     yr_built  yr_renovated       zipcode  \\\n",
       "count  9761.000000    9761.000000  9761.000000   9761.000000   9761.000000   \n",
       "mean   1793.291159     293.442987  1970.799508     86.066592  98077.790185   \n",
       "std     835.763817     442.612722    29.240009    405.417369     53.203594   \n",
       "min     290.000000       0.000000  1900.000000      0.000000  98001.000000   \n",
       "25%    1190.000000       0.000000  1951.000000      0.000000  98033.000000   \n",
       "50%    1570.000000       0.000000  1975.000000      0.000000  98065.000000   \n",
       "75%    2230.000000     570.000000  1996.000000      0.000000  98117.000000   \n",
       "max    8860.000000    3480.000000  2015.000000   2015.000000  98199.000000   \n",
       "\n",
       "               lat         long  sqft_living15     sqft_lot15  \n",
       "count  9761.000000  9761.000000    9761.000000    9761.000000  \n",
       "mean     47.560052  -122.214322    1992.359697   12824.785165  \n",
       "std       0.140236     0.139895     687.322247   26518.337402  \n",
       "min      47.155900  -122.514000     620.000000     660.000000  \n",
       "25%      47.467800  -122.327000    1490.000000    5160.000000  \n",
       "50%      47.572200  -122.229000    1840.000000    7660.000000  \n",
       "75%      47.680400  -122.126000    2370.000000   10113.000000  \n",
       "max      47.777600  -121.319000    5790.000000  560617.000000  "
      ]
     },
     "execution_count": 442,
     "metadata": {},
     "output_type": "execute_result"
    }
   ],
   "source": [
    "data.describe(include = [\"number\"])"
   ]
  },
  {
   "cell_type": "code",
   "execution_count": 443,
   "metadata": {},
   "outputs": [
    {
     "name": "stdout",
     "output_type": "stream",
     "text": [
      "<class 'pandas.core.frame.DataFrame'>\n",
      "RangeIndex: 9761 entries, 0 to 9760\n",
      "Data columns (total 20 columns):\n",
      " #   Column         Non-Null Count  Dtype  \n",
      "---  ------         --------------  -----  \n",
      " 0   date           9761 non-null   object \n",
      " 1   price          9761 non-null   float64\n",
      " 2   bedrooms       9761 non-null   int64  \n",
      " 3   bathrooms      9761 non-null   float64\n",
      " 4   sqft_living    9761 non-null   int64  \n",
      " 5   sqft_lot       9761 non-null   int64  \n",
      " 6   floors         9761 non-null   float64\n",
      " 7   waterfront     9761 non-null   int64  \n",
      " 8   view           9761 non-null   int64  \n",
      " 9   condition      9761 non-null   int64  \n",
      " 10  grade          9761 non-null   int64  \n",
      " 11  sqft_above     9761 non-null   int64  \n",
      " 12  sqft_basement  9761 non-null   int64  \n",
      " 13  yr_built       9761 non-null   int64  \n",
      " 14  yr_renovated   9761 non-null   int64  \n",
      " 15  zipcode        9761 non-null   int64  \n",
      " 16  lat            9761 non-null   float64\n",
      " 17  long           9761 non-null   float64\n",
      " 18  sqft_living15  9761 non-null   int64  \n",
      " 19  sqft_lot15     9761 non-null   int64  \n",
      "dtypes: float64(5), int64(14), object(1)\n",
      "memory usage: 1.5+ MB\n"
     ]
    }
   ],
   "source": [
    "data.info()   # displays datatype of each column whether it is int,float,object"
   ]
  },
  {
   "cell_type": "markdown",
   "metadata": {},
   "source": [
    "### Exploratory Data Analysis (EDA)"
   ]
  },
  {
   "cell_type": "markdown",
   "metadata": {},
   "source": [
    "We use Exploratory data analysis (EDA)  to analyze and investigate data sets and summarize their main characteristics, often employing data visualization methods. It helps determine how best to manipulate data sources to get the answers we need, making it easier for us to discover patterns, spot anomalies, test a hypothesis, or check assumptions."
   ]
  },
  {
   "cell_type": "markdown",
   "metadata": {},
   "source": [
    "### Univariate Analysis"
   ]
  },
  {
   "cell_type": "markdown",
   "metadata": {},
   "source": [
    "We use univariate analysis  to describe the data and find patterns that exist within it.\n"
   ]
  },
  {
   "cell_type": "markdown",
   "metadata": {},
   "source": [
    "##### Target Variable Analysis"
   ]
  },
  {
   "cell_type": "code",
   "execution_count": 444,
   "metadata": {},
   "outputs": [
    {
     "name": "stderr",
     "output_type": "stream",
     "text": [
      "C:\\Users\\91703\\anaconda3\\lib\\site-packages\\seaborn\\distributions.py:2619: FutureWarning: `distplot` is a deprecated function and will be removed in a future version. Please adapt your code to use either `displot` (a figure-level function with similar flexibility) or `histplot` (an axes-level function for histograms).\n",
      "  warnings.warn(msg, FutureWarning)\n"
     ]
    },
    {
     "data": {
      "image/png": "[encoded data removed]",
      "text/plain": [
       "<Figure size 576x288 with 1 Axes>"
      ]
     },
     "metadata": {},
     "output_type": "display_data"
    }
   ],
   "source": [
    "sns.distplot((data['price']), fit = norm)\n",
    "plt.show()"
   ]
  },
  {
   "cell_type": "markdown",
   "metadata": {},
   "source": [
    "From the above diagram,we can see that the data is positively skewed(right skewed).So,there is no homogeneity in the distribution of data along the variable 'price'."
   ]
  },
  {
   "cell_type": "code",
   "execution_count": 445,
   "metadata": {},
   "outputs": [
    {
     "name": "stdout",
     "output_type": "stream",
     "text": [
      "             Normal\n",
      "Skewness   4.296023\n",
      "Kurtosis  38.871048\n"
     ]
    }
   ],
   "source": [
    "dist_temp = pd.DataFrame(index = ['Skewness', 'Kurtosis'], data = {'Normal':[data['price'].skew(), data['price'].kurt()]})\n",
    "print(dist_temp)"
   ]
  },
  {
   "cell_type": "markdown",
   "metadata": {},
   "source": [
    "Since ,the skewness value and kurtosis value are very high,we need to reduce the skewness by applying log trnasformation"
   ]
  },
  {
   "cell_type": "code",
   "execution_count": 446,
   "metadata": {},
   "outputs": [
    {
     "name": "stderr",
     "output_type": "stream",
     "text": [
      "C:\\Users\\91703\\anaconda3\\lib\\site-packages\\seaborn\\distributions.py:2619: FutureWarning: `distplot` is a deprecated function and will be removed in a future version. Please adapt your code to use either `displot` (a figure-level function with similar flexibility) or `histplot` (an axes-level function for histograms).\n",
      "  warnings.warn(msg, FutureWarning)\n"
     ]
    },
    {
     "data": {
      "text/plain": [
       "<AxesSubplot:xlabel='price', ylabel='Density'>"
      ]
     },
     "execution_count": 446,
     "metadata": {},
     "output_type": "execute_result"
    },
    {
     "data": {
      "image/png": "[encoded data removed]",
      "text/plain": [
       "<Figure size 576x288 with 1 Axes>"
      ]
     },
     "metadata": {},
     "output_type": "display_data"
    }
   ],
   "source": [
    "sns.distplot(np.log1p(data['price']), fit = norm)  # reducing the skewness of the distribution of 'price'"
   ]
  },
  {
   "cell_type": "code",
   "execution_count": 447,
   "metadata": {},
   "outputs": [
    {
     "name": "stdout",
     "output_type": "stream",
     "text": [
      "            Normal\n",
      "Skewness  0.459156\n",
      "Kurtosis  0.744613\n"
     ]
    }
   ],
   "source": [
    "dist_temp = pd.DataFrame(index = ['Skewness', 'Kurtosis'], data = {'Normal':[np.log1p(data['price']).skew(), np.log1p(data['price']).kurt()]})\n",
    "print(dist_temp)"
   ]
  },
  {
   "cell_type": "markdown",
   "metadata": {},
   "source": [
    "##### Predictor Variables Analysis"
   ]
  },
  {
   "cell_type": "code",
   "execution_count": 311,
   "metadata": {},
   "outputs": [
    {
     "name": "stderr",
     "output_type": "stream",
     "text": [
      "C:\\Users\\91703\\anaconda3\\lib\\site-packages\\seaborn\\_decorators.py:36: FutureWarning: Pass the following variable as a keyword arg: x. From version 0.12, the only valid positional argument will be `data`, and passing other arguments without an explicit keyword will result in an error or misinterpretation.\n",
      "  warnings.warn(\n"
     ]
    },
    {
     "data": {
      "image/png": "[encoded data removed]",
      "text/plain": [
       "<Figure size 576x288 with 1 Axes>"
      ]
     },
     "metadata": {},
     "output_type": "display_data"
    },
    {
     "name": "stderr",
     "output_type": "stream",
     "text": [
      "C:\\Users\\91703\\anaconda3\\lib\\site-packages\\seaborn\\_decorators.py:36: FutureWarning: Pass the following variable as a keyword arg: x. From version 0.12, the only valid positional argument will be `data`, and passing other arguments without an explicit keyword will result in an error or misinterpretation.\n",
      "  warnings.warn(\n"
     ]
    },
    {
     "data": {
      "image/png": "[encoded data removed]",
      "text/plain": [
       "<Figure size 576x288 with 1 Axes>"
      ]
     },
     "metadata": {},
     "output_type": "display_data"
    },
    {
     "name": "stderr",
     "output_type": "stream",
     "text": [
      "C:\\Users\\91703\\anaconda3\\lib\\site-packages\\seaborn\\_decorators.py:36: FutureWarning: Pass the following variable as a keyword arg: x. From version 0.12, the only valid positional argument will be `data`, and passing other arguments without an explicit keyword will result in an error or misinterpretation.\n",
      "  warnings.warn(\n"
     ]
    },
    {
     "data": {
      "image/png": "[encoded data removed]",
      "text/plain": [
       "<Figure size 576x288 with 1 Axes>"
      ]
     },
     "metadata": {},
     "output_type": "display_data"
    },
    {
     "name": "stderr",
     "output_type": "stream",
     "text": [
      "C:\\Users\\91703\\anaconda3\\lib\\site-packages\\seaborn\\_decorators.py:36: FutureWarning: Pass the following variable as a keyword arg: x. From version 0.12, the only valid positional argument will be `data`, and passing other arguments without an explicit keyword will result in an error or misinterpretation.\n",
      "  warnings.warn(\n"
     ]
    },
    {
     "data": {
      "image/png": "[encoded data removed]",
      "text/plain": [
       "<Figure size 576x288 with 1 Axes>"
      ]
     },
     "metadata": {},
     "output_type": "display_data"
    },
    {
     "name": "stderr",
     "output_type": "stream",
     "text": [
      "C:\\Users\\91703\\anaconda3\\lib\\site-packages\\seaborn\\_decorators.py:36: FutureWarning: Pass the following variable as a keyword arg: x. From version 0.12, the only valid positional argument will be `data`, and passing other arguments without an explicit keyword will result in an error or misinterpretation.\n",
      "  warnings.warn(\n"
     ]
    },
    {
     "data": {
      "image/png": "[encoded data removed]",
      "text/plain": [
       "<Figure size 576x288 with 1 Axes>"
      ]
     },
     "metadata": {},
     "output_type": "display_data"
    },
    {
     "name": "stderr",
     "output_type": "stream",
     "text": [
      "C:\\Users\\91703\\anaconda3\\lib\\site-packages\\seaborn\\_decorators.py:36: FutureWarning: Pass the following variable as a keyword arg: x. From version 0.12, the only valid positional argument will be `data`, and passing other arguments without an explicit keyword will result in an error or misinterpretation.\n",
      "  warnings.warn(\n"
     ]
    },
    {
     "data": {
      "image/png": "[encoded data removed]",
      "text/plain": [
       "<Figure size 576x288 with 1 Axes>"
      ]
     },
     "metadata": {},
     "output_type": "display_data"
    },
    {
     "name": "stderr",
     "output_type": "stream",
     "text": [
      "C:\\Users\\91703\\anaconda3\\lib\\site-packages\\seaborn\\_decorators.py:36: FutureWarning: Pass the following variable as a keyword arg: x. From version 0.12, the only valid positional argument will be `data`, and passing other arguments without an explicit keyword will result in an error or misinterpretation.\n",
      "  warnings.warn(\n"
     ]
    },
    {
     "data": {
      "image/png": "[encoded data removed]",
      "text/plain": [
       "<Figure size 576x288 with 1 Axes>"
      ]
     },
     "metadata": {},
     "output_type": "display_data"
    }
   ],
   "source": [
    "# using graphical univariate analysis of the discrete variables in the dataset\n",
    "# we can use histograms or countlpots to show all the values of discrete variables and its distribution\n",
    "cat = ['bedrooms','bathrooms','floors','waterfront','view','condition','grade']\n",
    "for var in cat:\n",
    "    plt.figure()\n",
    "    plt.clf()\n",
    "    sns.countplot(data[var])\n",
    "    plt.show()\n",
    "    "
   ]
  },
  {
   "cell_type": "markdown",
   "metadata": {},
   "source": [
    "###### From the above graphs, following inferences are made :"
   ]
  },
  {
   "cell_type": "markdown",
   "metadata": {},
   "source": [
    "###### 1. Houses having '3' bedrooms are large in number followed by houses having '4' bedrooms"
   ]
  },
  {
   "cell_type": "markdown",
   "metadata": {},
   "source": [
    "###### 2 ."
   ]
  },
  {
   "cell_type": "markdown",
   "metadata": {},
   "source": [
    "###### 3 .Single storeied houses are more in number, also two storied houses are in good number"
   ]
  },
  {
   "cell_type": "markdown",
   "metadata": {},
   "source": [
    "###### 4 . All the houses are not having  'waterfront' in our dataset"
   ]
  },
  {
   "cell_type": "markdown",
   "metadata": {},
   "source": [
    "###### 5 . A greater proportion of  houses are having view '0' "
   ]
  },
  {
   "cell_type": "markdown",
   "metadata": {},
   "source": [
    "###### 6 . Maximum number of houses are having condition '3', as per regulations in King County ,Washington"
   ]
  },
  {
   "cell_type": "markdown",
   "metadata": {},
   "source": [
    "###### 6 . Maximum number of houses are having grade '7',followed by grade '8', as per regulations in King County ,Washington"
   ]
  },
  {
   "cell_type": "code",
   "execution_count": 622,
   "metadata": {},
   "outputs": [
    {
     "data": {
      "image/png": "[encoded data removed]",
      "text/plain": [
       "<Figure size 576x216 with 2 Axes>"
      ]
     },
     "metadata": {},
     "output_type": "display_data"
    },
    {
     "data": {
      "image/png": "[encoded data removed]",
      "text/plain": [
       "<Figure size 576x216 with 2 Axes>"
      ]
     },
     "metadata": {},
     "output_type": "display_data"
    },
    {
     "data": {
      "image/png": "[encoded data removed]",
      "text/plain": [
       "<Figure size 576x216 with 2 Axes>"
      ]
     },
     "metadata": {},
     "output_type": "display_data"
    },
    {
     "data": {
      "image/png": "[encoded data removed]",
      "text/plain": [
       "<Figure size 576x216 with 2 Axes>"
      ]
     },
     "metadata": {},
     "output_type": "display_data"
    },
    {
     "data": {
      "image/png": "[encoded data removed]",
      "text/plain": [
       "<Figure size 576x216 with 2 Axes>"
      ]
     },
     "metadata": {},
     "output_type": "display_data"
    },
    {
     "data": {
      "image/png": "[encoded data removed]",
      "text/plain": [
       "<Figure size 576x216 with 2 Axes>"
      ]
     },
     "metadata": {},
     "output_type": "display_data"
    },
    {
     "data": {
      "image/png": "[encoded data removed]",
      "text/plain": [
       "<Figure size 576x216 with 2 Axes>"
      ]
     },
     "metadata": {},
     "output_type": "display_data"
    }
   ],
   "source": [
    "# using graphical univariate analysis for the continous variables in the dataset\n",
    "# we can use boxplot or kdeplot to show all the values of the continous variables and its distribution\n",
    "num = ['price','sqft_living','sqft_lot','sqft_above','sqft_basement','sqft_living15', 'sqft_lot15']\n",
    "for var in num:\n",
    "    fig,axs = plt.subplots(nrows=1,ncols=2,figsize=(8,3))\n",
    "    sns.kdeplot(data=data1, x=var,ax=axs[1])\n",
    "    sns.boxplot(data=data1, x=var,ax=axs[0])"
   ]
  },
  {
   "cell_type": "markdown",
   "metadata": {},
   "source": [
    "The distribution of continous variables  'price','sqft_living','sqft_lot','sqft_above','sqft_basement','sqft_living15', 'sqft_lot15' are positively skewed (or right skewed) .This may be  usually a result of a lower boundary in a data set (whereas data skewed to the left is a result of a higher boundary). So if the data set's lower bounds are extremely low relative to the rest of the data, this will cause the data to skew righ"
   ]
  },
  {
   "cell_type": "markdown",
   "metadata": {},
   "source": [
    "### Multivariate Analysis"
   ]
  },
  {
   "cell_type": "markdown",
   "metadata": {},
   "source": [
    "Multivariate data is used to display relationships between two or more columns of dataset. "
   ]
  },
  {
   "cell_type": "markdown",
   "metadata": {},
   "source": [
    "we can use scatter plot or boxplot for the multivariate analysis"
   ]
  },
  {
   "cell_type": "markdown",
   "metadata": {},
   "source": [
    "##### Sqft living and Bathrooms"
   ]
  },
  {
   "cell_type": "code",
   "execution_count": 313,
   "metadata": {},
   "outputs": [
    {
     "name": "stderr",
     "output_type": "stream",
     "text": [
      "*c* argument looks like a single numeric RGB or RGBA sequence, which should be avoided as value-mapping will have precedence in case its length matches with *x* & *y*.  Please use the *color* keyword-argument or provide a 2D array with a single row if you intend to specify the same RGB or RGBA value for all points.\n"
     ]
    },
    {
     "data": {
      "image/png": "[encoded data removed]",
      "text/plain": [
       "<Figure size 432x432 with 1 Axes>"
      ]
     },
     "metadata": {},
     "output_type": "display_data"
    }
   ],
   "source": [
    "data.plot(x=\"sqft_living\", y=\"bathrooms\", figsize = (6,6), kind='scatter')\n",
    "plt.show()"
   ]
  },
  {
   "cell_type": "markdown",
   "metadata": {},
   "source": [
    "##### Sqft_living and Sqft_above"
   ]
  },
  {
   "cell_type": "code",
   "execution_count": 314,
   "metadata": {},
   "outputs": [
    {
     "name": "stderr",
     "output_type": "stream",
     "text": [
      "*c* argument looks like a single numeric RGB or RGBA sequence, which should be avoided as value-mapping will have precedence in case its length matches with *x* & *y*.  Please use the *color* keyword-argument or provide a 2D array with a single row if you intend to specify the same RGB or RGBA value for all points.\n"
     ]
    },
    {
     "data": {
      "image/png": "[encoded data removed]",
      "text/plain": [
       "<Figure size 432x432 with 1 Axes>"
      ]
     },
     "metadata": {},
     "output_type": "display_data"
    }
   ],
   "source": [
    "data.plot(x=\"sqft_above\", y=\"sqft_living\", figsize = (6,6), kind='scatter')\n",
    "plt.show()"
   ]
  },
  {
   "cell_type": "markdown",
   "metadata": {},
   "source": [
    "##### Sqft_living and Sqft_living15"
   ]
  },
  {
   "cell_type": "code",
   "execution_count": 315,
   "metadata": {},
   "outputs": [
    {
     "name": "stderr",
     "output_type": "stream",
     "text": [
      "*c* argument looks like a single numeric RGB or RGBA sequence, which should be avoided as value-mapping will have precedence in case its length matches with *x* & *y*.  Please use the *color* keyword-argument or provide a 2D array with a single row if you intend to specify the same RGB or RGBA value for all points.\n"
     ]
    },
    {
     "data": {
      "image/png": "[encoded data removed]",
      "text/plain": [
       "<Figure size 432x432 with 1 Axes>"
      ]
     },
     "metadata": {},
     "output_type": "display_data"
    }
   ],
   "source": [
    "data.plot(x=\"sqft_living\", y=\"sqft_living15\", figsize = (6,6), kind='scatter')\n",
    "plt.show()"
   ]
  },
  {
   "cell_type": "markdown",
   "metadata": {},
   "source": [
    "##### Yr_built and grade"
   ]
  },
  {
   "cell_type": "code",
   "execution_count": 316,
   "metadata": {},
   "outputs": [
    {
     "data": {
      "image/png": "[encoded data removed]",
      "text/plain": [
       "<Figure size 576x288 with 1 Axes>"
      ]
     },
     "metadata": {},
     "output_type": "display_data"
    }
   ],
   "source": [
    "data.boxplot(column='yr_built', by='condition')\n",
    "plt.show()"
   ]
  },
  {
   "cell_type": "markdown",
   "metadata": {},
   "source": [
    "## Multiple Linear Regressor Model"
   ]
  },
  {
   "cell_type": "markdown",
   "metadata": {},
   "source": [
    "Machine Learning Regressor Model tries to fit a regression line through a multidimensional space of data-points"
   ]
  },
  {
   "cell_type": "markdown",
   "metadata": {},
   "source": [
    "R-squared (R2) is a statistical measure that represents the proportion of the variance for a dependent variable that's explained by an independent variable or variables in a regression model."
   ]
  },
  {
   "cell_type": "markdown",
   "metadata": {},
   "source": [
    "Adjusted r-square is a modified form of r-square whose value increases if new predictors tend to improve model’s performance and decreases if new predictors do not improve performance as expected."
   ]
  },
  {
   "cell_type": "markdown",
   "metadata": {},
   "source": [
    "#### Accuracy Checks"
   ]
  },
  {
   "cell_type": "markdown",
   "metadata": {},
   "source": [
    "Mean absolute error (MAE) represents the average of the absolute difference between the actual and predicted values in the dataset. It measures the average of the residuals in the dataset"
   ]
  },
  {
   "cell_type": "markdown",
   "metadata": {},
   "source": [
    "Mean Squared Error (MSE) measures how close a regression line is to a set of data points. It is a risk function corresponding to the expected value of the squared error loss.It is calculated by taking the average, specifically the mean, of errors squared from data as it relates to a function.  "
   ]
  },
  {
   "cell_type": "markdown",
   "metadata": {},
   "source": [
    "Root Mean Square Error (RMSE) is a standard way to measure the error of a model in predicting quantitative data"
   ]
  },
  {
   "cell_type": "markdown",
   "metadata": {},
   "source": [
    "Mean absolute percentage error (MAPE) is a measure of prediction accuracy of a forecasting method in statistics.MAPE is calculated by finding the absolute difference between the actual and predicted values, divided by the actual value. "
   ]
  },
  {
   "cell_type": "markdown",
   "metadata": {},
   "source": [
    "### Selection of Features based on Correlation with the Target variable"
   ]
  },
  {
   "cell_type": "markdown",
   "metadata": {},
   "source": [
    "### Experiment 1 "
   ]
  },
  {
   "cell_type": "markdown",
   "metadata": {},
   "source": [
    "In the first Experiment, we are using predictor we are using variables such as 'bathrooms', 'sqft_living', 'grade','sqft_above', 'sqft_living15' ,which has high correlation(>0.5) with the dependent variable 'price'"
   ]
  },
  {
   "cell_type": "code",
   "execution_count": 450,
   "metadata": {},
   "outputs": [],
   "source": [
    "X = data[['bathrooms','sqft_living','grade','sqft_above','sqft_living15']] # predictors"
   ]
  },
  {
   "cell_type": "code",
   "execution_count": 451,
   "metadata": {},
   "outputs": [],
   "source": [
    "y = data['price']    # Target Variable 'price'"
   ]
  },
  {
   "cell_type": "markdown",
   "metadata": {},
   "source": [
    "##### Train - Validation - Test Split"
   ]
  },
  {
   "cell_type": "code",
   "execution_count": 452,
   "metadata": {},
   "outputs": [
    {
     "data": {
      "text/plain": [
       "(2441, 7320)"
      ]
     },
     "execution_count": 452,
     "metadata": {},
     "output_type": "execute_result"
    }
   ],
   "source": [
    "#Train-Validation Split -> we are splitting our data set into train data an validation data on proportion of 4:1\n",
    "X_train, X_valid, y_train, y_valid = train_test_split(X, y, test_size = 0.25)\n",
    "len(X_valid),len(X_train)"
   ]
  },
  {
   "cell_type": "code",
   "execution_count": 453,
   "metadata": {},
   "outputs": [],
   "source": [
    "# we have '2441' observations as validation data and '7320' observations as train data"
   ]
  },
  {
   "cell_type": "code",
   "execution_count": 454,
   "metadata": {},
   "outputs": [],
   "source": [
    "# creating a  linear regression model\n",
    "reg = linear_model.LinearRegression()"
   ]
  },
  {
   "cell_type": "code",
   "execution_count": 455,
   "metadata": {},
   "outputs": [
    {
     "data": {
      "text/html": [
       "<style>#sk-container-id-14 {color: black;background-color: white;}#sk-container-id-14 pre{padding: 0;}#sk-container-id-14 div.sk-toggleable {background-color: white;}#sk-container-id-14 label.sk-toggleable__label {cursor: pointer;display: block;width: 100%;margin-bottom: 0;padding: 0.3em;box-sizing: border-box;text-align: center;}#sk-container-id-14 label.sk-toggleable__label-arrow:before {content: \"▸\";float: left;margin-right: 0.25em;color: #696969;}#sk-container-id-14 label.sk-toggleable__label-arrow:hover:before {color: black;}#sk-container-id-14 div.sk-estimator:hover label.sk-toggleable__label-arrow:before {color: black;}#sk-container-id-14 div.sk-toggleable__content {max-height: 0;max-width: 0;overflow: hidden;text-align: left;background-color: #f0f8ff;}#sk-container-id-14 div.sk-toggleable__content pre {margin: 0.2em;color: black;border-radius: 0.25em;background-color: #f0f8ff;}#sk-container-id-14 input.sk-toggleable__control:checked~div.sk-toggleable__content {max-height: 200px;max-width: 100%;overflow: auto;}#sk-container-id-14 input.sk-toggleable__control:checked~label.sk-toggleable__label-arrow:before {content: \"▾\";}#sk-container-id-14 div.sk-estimator input.sk-toggleable__control:checked~label.sk-toggleable__label {background-color: #d4ebff;}#sk-container-id-14 div.sk-label input.sk-toggleable__control:checked~label.sk-toggleable__label {background-color: #d4ebff;}#sk-container-id-14 input.sk-hidden--visually {border: 0;clip: rect(1px 1px 1px 1px);clip: rect(1px, 1px, 1px, 1px);height: 1px;margin: -1px;overflow: hidden;padding: 0;position: absolute;width: 1px;}#sk-container-id-14 div.sk-estimator {font-family: monospace;background-color: #f0f8ff;border: 1px dotted black;border-radius: 0.25em;box-sizing: border-box;margin-bottom: 0.5em;}#sk-container-id-14 div.sk-estimator:hover {background-color: #d4ebff;}#sk-container-id-14 div.sk-parallel-item::after {content: \"\";width: 100%;border-bottom: 1px solid gray;flex-grow: 1;}#sk-container-id-14 div.sk-label:hover label.sk-toggleable__label {background-color: #d4ebff;}#sk-container-id-14 div.sk-serial::before {content: \"\";position: absolute;border-left: 1px solid gray;box-sizing: border-box;top: 0;bottom: 0;left: 50%;z-index: 0;}#sk-container-id-14 div.sk-serial {display: flex;flex-direction: column;align-items: center;background-color: white;padding-right: 0.2em;padding-left: 0.2em;position: relative;}#sk-container-id-14 div.sk-item {position: relative;z-index: 1;}#sk-container-id-14 div.sk-parallel {display: flex;align-items: stretch;justify-content: center;background-color: white;position: relative;}#sk-container-id-14 div.sk-item::before, #sk-container-id-14 div.sk-parallel-item::before {content: \"\";position: absolute;border-left: 1px solid gray;box-sizing: border-box;top: 0;bottom: 0;left: 50%;z-index: -1;}#sk-container-id-14 div.sk-parallel-item {display: flex;flex-direction: column;z-index: 1;position: relative;background-color: white;}#sk-container-id-14 div.sk-parallel-item:first-child::after {align-self: flex-end;width: 50%;}#sk-container-id-14 div.sk-parallel-item:last-child::after {align-self: flex-start;width: 50%;}#sk-container-id-14 div.sk-parallel-item:only-child::after {width: 0;}#sk-container-id-14 div.sk-dashed-wrapped {border: 1px dashed gray;margin: 0 0.4em 0.5em 0.4em;box-sizing: border-box;padding-bottom: 0.4em;background-color: white;}#sk-container-id-14 div.sk-label label {font-family: monospace;font-weight: bold;display: inline-block;line-height: 1.2em;}#sk-container-id-14 div.sk-label-container {text-align: center;}#sk-container-id-14 div.sk-container {/* jupyter's `normalize.less` sets `[hidden] { display: none; }` but bootstrap.min.css set `[hidden] { display: none !important; }` so we also need the `!important` here to be able to override the default hidden behavior on the sphinx rendered scikit-learn.org. See: https://github.com/scikit-learn/scikit-learn/issues/21755 */display: inline-block !important;position: relative;}#sk-container-id-14 div.sk-text-repr-fallback {display: none;}</style><div id=\"sk-container-id-14\" class=\"sk-top-container\"><div class=\"sk-text-repr-fallback\"><pre>LinearRegression()</pre><b>In a Jupyter environment, please rerun this cell to show the HTML representation or trust the notebook. <br />On GitHub, the HTML representation is unable to render, please try loading this page with nbviewer.org.</b></div><div class=\"sk-container\" hidden><div class=\"sk-item\"><div class=\"sk-estimator sk-toggleable\"><input class=\"sk-toggleable__control sk-hidden--visually\" id=\"sk-estimator-id-14\" type=\"checkbox\" checked><label for=\"sk-estimator-id-14\" class=\"sk-toggleable__label sk-toggleable__label-arrow\">LinearRegression</label><div class=\"sk-toggleable__content\"><pre>LinearRegression()</pre></div></div></div></div></div>"
      ],
      "text/plain": [
       "LinearRegression()"
      ]
     },
     "execution_count": 455,
     "metadata": {},
     "output_type": "execute_result"
    }
   ],
   "source": [
    "# train the model using the train data sets\n",
    "reg.fit(X_train, y_train)        # model fitting"
   ]
  },
  {
   "cell_type": "code",
   "execution_count": 456,
   "metadata": {},
   "outputs": [
    {
     "data": {
      "text/plain": [
       "array([145295.99128363, 959082.3615645 , 881563.74372978, ...,\n",
       "       304566.717412  , 536089.77303694, 987029.46752064])"
      ]
     },
     "execution_count": 456,
     "metadata": {},
     "output_type": "execute_result"
    }
   ],
   "source": [
    "y_pred = reg.predict(X_valid) # predicting the values of target variable 'price' by using the validation data\n",
    "y_pred                        # predicted values"
   ]
  },
  {
   "cell_type": "markdown",
   "metadata": {},
   "source": [
    "##### R squared value"
   ]
  },
  {
   "cell_type": "code",
   "execution_count": 457,
   "metadata": {},
   "outputs": [
    {
     "data": {
      "text/plain": [
       "0.5447901566420497"
      ]
     },
     "execution_count": 457,
     "metadata": {},
     "output_type": "execute_result"
    }
   ],
   "source": [
    "from sklearn.metrics import r2_score\n",
    "r2_score(y_valid,y_pred)"
   ]
  },
  {
   "cell_type": "markdown",
   "metadata": {},
   "source": [
    "##### Adjusted R square"
   ]
  },
  {
   "cell_type": "code",
   "execution_count": 458,
   "metadata": {},
   "outputs": [
    {
     "data": {
      "text/plain": [
       "0.5425091670867354"
      ]
     },
     "execution_count": 458,
     "metadata": {},
     "output_type": "execute_result"
    }
   ],
   "source": [
    "adj_r1 = 1 - (1-reg.score(X_train, y_train))*(len(y_train)-1)/(len(y_train)-X_train.shape[1]-1)\n",
    "adj_r1"
   ]
  },
  {
   "cell_type": "markdown",
   "metadata": {},
   "source": [
    "### ACCURACY CHECKS"
   ]
  },
  {
   "cell_type": "code",
   "execution_count": 459,
   "metadata": {},
   "outputs": [
    {
     "data": {
      "text/plain": [
       "165845.39667976904"
      ]
     },
     "execution_count": 459,
     "metadata": {},
     "output_type": "execute_result"
    }
   ],
   "source": [
    "# MAE -> Mean Absolute Percentage Error\n",
    "np.mean(np.abs(y_valid - y_pred))"
   ]
  },
  {
   "cell_type": "code",
   "execution_count": 460,
   "metadata": {},
   "outputs": [
    {
     "data": {
      "text/plain": [
       "65268448949.89571"
      ]
     },
     "execution_count": 460,
     "metadata": {},
     "output_type": "execute_result"
    }
   ],
   "source": [
    "# MSE\n",
    "np.mean((y_valid - y_pred)**2)"
   ]
  },
  {
   "cell_type": "code",
   "execution_count": 461,
   "metadata": {},
   "outputs": [
    {
     "data": {
      "text/plain": [
       "255476.9049246834"
      ]
     },
     "execution_count": 461,
     "metadata": {},
     "output_type": "execute_result"
    }
   ],
   "source": [
    "# RMSE\n",
    "np.sqrt(np.mean((y_valid - y_pred)**2))"
   ]
  },
  {
   "cell_type": "code",
   "execution_count": 464,
   "metadata": {},
   "outputs": [
    {
     "data": {
      "text/plain": [
       "3.527006465189085"
      ]
     },
     "execution_count": 464,
     "metadata": {},
     "output_type": "execute_result"
    }
   ],
   "source": [
    "# MAPE\n",
    "mape1 = np.log1p(np.mean(np.abs(y_valid- y_pred)/y)*100)\n",
    "mape1"
   ]
  },
  {
   "cell_type": "markdown",
   "metadata": {},
   "source": [
    "### Experiment 2 "
   ]
  },
  {
   "cell_type": "markdown",
   "metadata": {},
   "source": [
    "In this experiment we are using same predictors used in Experiment-1 also applying log transformation to the variables such as 'price', 'sqft_living','sqft_above',  'sqft_living15'."
   ]
  },
  {
   "cell_type": "code",
   "execution_count": 465,
   "metadata": {},
   "outputs": [
    {
     "name": "stderr",
     "output_type": "stream",
     "text": [
      "C:\\Users\\91703\\anaconda3\\lib\\site-packages\\seaborn\\distributions.py:2619: FutureWarning: `distplot` is a deprecated function and will be removed in a future version. Please adapt your code to use either `displot` (a figure-level function with similar flexibility) or `histplot` (an axes-level function for histograms).\n",
      "  warnings.warn(msg, FutureWarning)\n"
     ]
    },
    {
     "data": {
      "image/png": "[encoded data removed]",
      "text/plain": [
       "<Figure size 576x288 with 1 Axes>"
      ]
     },
     "metadata": {},
     "output_type": "display_data"
    },
    {
     "name": "stderr",
     "output_type": "stream",
     "text": [
      "C:\\Users\\91703\\anaconda3\\lib\\site-packages\\seaborn\\distributions.py:2619: FutureWarning: `distplot` is a deprecated function and will be removed in a future version. Please adapt your code to use either `displot` (a figure-level function with similar flexibility) or `histplot` (an axes-level function for histograms).\n",
      "  warnings.warn(msg, FutureWarning)\n"
     ]
    },
    {
     "data": {
      "image/png": "[encoded data removed]",
      "text/plain": [
       "<Figure size 576x288 with 1 Axes>"
      ]
     },
     "metadata": {},
     "output_type": "display_data"
    },
    {
     "name": "stderr",
     "output_type": "stream",
     "text": [
      "C:\\Users\\91703\\anaconda3\\lib\\site-packages\\seaborn\\distributions.py:2619: FutureWarning: `distplot` is a deprecated function and will be removed in a future version. Please adapt your code to use either `displot` (a figure-level function with similar flexibility) or `histplot` (an axes-level function for histograms).\n",
      "  warnings.warn(msg, FutureWarning)\n"
     ]
    },
    {
     "data": {
      "image/png": "[encoded data removed]",
      "text/plain": [
       "<Figure size 576x288 with 1 Axes>"
      ]
     },
     "metadata": {},
     "output_type": "display_data"
    }
   ],
   "source": [
    "# reducing the skewness of the variables 'sqft_living','sqft_above','sqft_living15' by applying log transformation\n",
    "num = ['sqft_living','sqft_above','sqft_living15']\n",
    "for var in num:\n",
    "    sns.distplot(np.log1p(data[var]), fit = norm)\n",
    "    plt.show()"
   ]
  },
  {
   "cell_type": "markdown",
   "metadata": {},
   "source": [
    "Here, we can see that the variables  'price','sqft_living','sqft_lot','sqft_above','sqft_basement','sqft_living15', 'sqft_lot15' are now normally distributed"
   ]
  },
  {
   "cell_type": "code",
   "execution_count": 466,
   "metadata": {},
   "outputs": [],
   "source": [
    "# applying log transformation to variables 'sqft_living','sqft_above','sqft_living15','price'.\n",
    "num = ['sqft_living','sqft_above','sqft_living15','price']\n",
    "for j in range(0,len(num)):\n",
    "    data[num[j]] = np.log1p(data[num[j]])"
   ]
  },
  {
   "cell_type": "code",
   "execution_count": 468,
   "metadata": {},
   "outputs": [],
   "source": [
    "X = data[['bathrooms', 'sqft_living', 'grade', 'sqft_above', 'sqft_living15']] # predictors"
   ]
  },
  {
   "cell_type": "code",
   "execution_count": 469,
   "metadata": {},
   "outputs": [],
   "source": [
    "y = data['price']   # Target"
   ]
  },
  {
   "cell_type": "code",
   "execution_count": 470,
   "metadata": {},
   "outputs": [
    {
     "data": {
      "text/plain": [
       "(2441, 7320)"
      ]
     },
     "execution_count": 470,
     "metadata": {},
     "output_type": "execute_result"
    }
   ],
   "source": [
    "#Train-Validation Split\n",
    "X_train, X_valid, y_train, y_valid = train_test_split(X, y, test_size = 0.25)\n",
    "len(X_valid),len(X_train)"
   ]
  },
  {
   "cell_type": "code",
   "execution_count": 471,
   "metadata": {},
   "outputs": [],
   "source": [
    "# create linear regression object\n",
    "reg = linear_model.LinearRegression()"
   ]
  },
  {
   "cell_type": "code",
   "execution_count": 472,
   "metadata": {},
   "outputs": [
    {
     "data": {
      "text/html": [
       "<style>#sk-container-id-15 {color: black;background-color: white;}#sk-container-id-15 pre{padding: 0;}#sk-container-id-15 div.sk-toggleable {background-color: white;}#sk-container-id-15 label.sk-toggleable__label {cursor: pointer;display: block;width: 100%;margin-bottom: 0;padding: 0.3em;box-sizing: border-box;text-align: center;}#sk-container-id-15 label.sk-toggleable__label-arrow:before {content: \"▸\";float: left;margin-right: 0.25em;color: #696969;}#sk-container-id-15 label.sk-toggleable__label-arrow:hover:before {color: black;}#sk-container-id-15 div.sk-estimator:hover label.sk-toggleable__label-arrow:before {color: black;}#sk-container-id-15 div.sk-toggleable__content {max-height: 0;max-width: 0;overflow: hidden;text-align: left;background-color: #f0f8ff;}#sk-container-id-15 div.sk-toggleable__content pre {margin: 0.2em;color: black;border-radius: 0.25em;background-color: #f0f8ff;}#sk-container-id-15 input.sk-toggleable__control:checked~div.sk-toggleable__content {max-height: 200px;max-width: 100%;overflow: auto;}#sk-container-id-15 input.sk-toggleable__control:checked~label.sk-toggleable__label-arrow:before {content: \"▾\";}#sk-container-id-15 div.sk-estimator input.sk-toggleable__control:checked~label.sk-toggleable__label {background-color: #d4ebff;}#sk-container-id-15 div.sk-label input.sk-toggleable__control:checked~label.sk-toggleable__label {background-color: #d4ebff;}#sk-container-id-15 input.sk-hidden--visually {border: 0;clip: rect(1px 1px 1px 1px);clip: rect(1px, 1px, 1px, 1px);height: 1px;margin: -1px;overflow: hidden;padding: 0;position: absolute;width: 1px;}#sk-container-id-15 div.sk-estimator {font-family: monospace;background-color: #f0f8ff;border: 1px dotted black;border-radius: 0.25em;box-sizing: border-box;margin-bottom: 0.5em;}#sk-container-id-15 div.sk-estimator:hover {background-color: #d4ebff;}#sk-container-id-15 div.sk-parallel-item::after {content: \"\";width: 100%;border-bottom: 1px solid gray;flex-grow: 1;}#sk-container-id-15 div.sk-label:hover label.sk-toggleable__label {background-color: #d4ebff;}#sk-container-id-15 div.sk-serial::before {content: \"\";position: absolute;border-left: 1px solid gray;box-sizing: border-box;top: 0;bottom: 0;left: 50%;z-index: 0;}#sk-container-id-15 div.sk-serial {display: flex;flex-direction: column;align-items: center;background-color: white;padding-right: 0.2em;padding-left: 0.2em;position: relative;}#sk-container-id-15 div.sk-item {position: relative;z-index: 1;}#sk-container-id-15 div.sk-parallel {display: flex;align-items: stretch;justify-content: center;background-color: white;position: relative;}#sk-container-id-15 div.sk-item::before, #sk-container-id-15 div.sk-parallel-item::before {content: \"\";position: absolute;border-left: 1px solid gray;box-sizing: border-box;top: 0;bottom: 0;left: 50%;z-index: -1;}#sk-container-id-15 div.sk-parallel-item {display: flex;flex-direction: column;z-index: 1;position: relative;background-color: white;}#sk-container-id-15 div.sk-parallel-item:first-child::after {align-self: flex-end;width: 50%;}#sk-container-id-15 div.sk-parallel-item:last-child::after {align-self: flex-start;width: 50%;}#sk-container-id-15 div.sk-parallel-item:only-child::after {width: 0;}#sk-container-id-15 div.sk-dashed-wrapped {border: 1px dashed gray;margin: 0 0.4em 0.5em 0.4em;box-sizing: border-box;padding-bottom: 0.4em;background-color: white;}#sk-container-id-15 div.sk-label label {font-family: monospace;font-weight: bold;display: inline-block;line-height: 1.2em;}#sk-container-id-15 div.sk-label-container {text-align: center;}#sk-container-id-15 div.sk-container {/* jupyter's `normalize.less` sets `[hidden] { display: none; }` but bootstrap.min.css set `[hidden] { display: none !important; }` so we also need the `!important` here to be able to override the default hidden behavior on the sphinx rendered scikit-learn.org. See: https://github.com/scikit-learn/scikit-learn/issues/21755 */display: inline-block !important;position: relative;}#sk-container-id-15 div.sk-text-repr-fallback {display: none;}</style><div id=\"sk-container-id-15\" class=\"sk-top-container\"><div class=\"sk-text-repr-fallback\"><pre>LinearRegression()</pre><b>In a Jupyter environment, please rerun this cell to show the HTML representation or trust the notebook. <br />On GitHub, the HTML representation is unable to render, please try loading this page with nbviewer.org.</b></div><div class=\"sk-container\" hidden><div class=\"sk-item\"><div class=\"sk-estimator sk-toggleable\"><input class=\"sk-toggleable__control sk-hidden--visually\" id=\"sk-estimator-id-15\" type=\"checkbox\" checked><label for=\"sk-estimator-id-15\" class=\"sk-toggleable__label sk-toggleable__label-arrow\">LinearRegression</label><div class=\"sk-toggleable__content\"><pre>LinearRegression()</pre></div></div></div></div></div>"
      ],
      "text/plain": [
       "LinearRegression()"
      ]
     },
     "execution_count": 472,
     "metadata": {},
     "output_type": "execute_result"
    }
   ],
   "source": [
    "# train the model using the training sets\n",
    "reg.fit(X_train, y_train)"
   ]
  },
  {
   "cell_type": "code",
   "execution_count": 473,
   "metadata": {},
   "outputs": [
    {
     "data": {
      "text/plain": [
       "array([13.56339461, 12.91802057, 13.06024581, ..., 13.23513934,\n",
       "       12.91239354, 13.29798554])"
      ]
     },
     "execution_count": 473,
     "metadata": {},
     "output_type": "execute_result"
    }
   ],
   "source": [
    "y_pred = reg.predict(X_valid)\n",
    "y_pred"
   ]
  },
  {
   "cell_type": "code",
   "execution_count": 474,
   "metadata": {},
   "outputs": [
    {
     "data": {
      "text/plain": [
       "0.5546915948218372"
      ]
     },
     "execution_count": 474,
     "metadata": {},
     "output_type": "execute_result"
    }
   ],
   "source": [
    "from sklearn.metrics import r2_score\n",
    "r2_score(y_valid,y_pred)"
   ]
  },
  {
   "cell_type": "code",
   "execution_count": 475,
   "metadata": {},
   "outputs": [
    {
     "data": {
      "text/plain": [
       "0.5715133236411979"
      ]
     },
     "execution_count": 475,
     "metadata": {},
     "output_type": "execute_result"
    }
   ],
   "source": [
    "adj_r2 = 1 - (1-reg.score(X_train, y_train))*(len(y_train)-1)/(len(y_train)-X_train.shape[1]-1)\n",
    "adj_r2"
   ]
  },
  {
   "cell_type": "markdown",
   "metadata": {},
   "source": [
    "### ACCURACY CHECKS"
   ]
  },
  {
   "cell_type": "code",
   "execution_count": 476,
   "metadata": {},
   "outputs": [
    {
     "data": {
      "text/plain": [
       "0.2803762928529735"
      ]
     },
     "execution_count": 476,
     "metadata": {},
     "output_type": "execute_result"
    }
   ],
   "source": [
    "# MAE\n",
    "np.mean(np.abs(y_valid - y_pred))"
   ]
  },
  {
   "cell_type": "code",
   "execution_count": 477,
   "metadata": {},
   "outputs": [
    {
     "data": {
      "text/plain": [
       "0.12217469307983592"
      ]
     },
     "execution_count": 477,
     "metadata": {},
     "output_type": "execute_result"
    }
   ],
   "source": [
    "# MSE\n",
    "np.mean((y_valid - y_pred)**2)"
   ]
  },
  {
   "cell_type": "code",
   "execution_count": 478,
   "metadata": {},
   "outputs": [
    {
     "data": {
      "text/plain": [
       "0.34953496689149127"
      ]
     },
     "execution_count": 478,
     "metadata": {},
     "output_type": "execute_result"
    }
   ],
   "source": [
    "# RMSE\n",
    "np.sqrt(np.mean((y_valid - y_pred)**2))"
   ]
  },
  {
   "cell_type": "code",
   "execution_count": 479,
   "metadata": {},
   "outputs": [
    {
     "data": {
      "text/plain": [
       "2.153642485992988"
      ]
     },
     "execution_count": 479,
     "metadata": {},
     "output_type": "execute_result"
    }
   ],
   "source": [
    "# MAPE\n",
    "mape2 = np.mean(np.abs(y_valid- y_pred)/y)*100\n",
    "mape2"
   ]
  },
  {
   "cell_type": "markdown",
   "metadata": {},
   "source": [
    "### Experiment 3"
   ]
  },
  {
   "cell_type": "markdown",
   "metadata": {},
   "source": [
    "Here ,we are adding predictor variables having correlation > 0.3 ,so  'bedrooms', 'sqft_basement' are added to the above predictors"
   ]
  },
  {
   "cell_type": "code",
   "execution_count": 493,
   "metadata": {},
   "outputs": [],
   "source": [
    "X = data[['bedrooms','bathrooms', 'sqft_living','view', 'grade', 'sqft_above', 'sqft_basement','sqft_living15']]"
   ]
  },
  {
   "cell_type": "code",
   "execution_count": 494,
   "metadata": {},
   "outputs": [],
   "source": [
    "y = data['price']"
   ]
  },
  {
   "cell_type": "code",
   "execution_count": 495,
   "metadata": {},
   "outputs": [
    {
     "data": {
      "text/plain": [
       "(7320, 2441)"
      ]
     },
     "execution_count": 495,
     "metadata": {},
     "output_type": "execute_result"
    }
   ],
   "source": [
    "X_train, X_valid, y_train, y_valid = train_test_split(X, y, test_size=0.25,\n",
    "                                                    random_state=1)\n",
    "len(X_train),len(X_valid)"
   ]
  },
  {
   "cell_type": "code",
   "execution_count": 496,
   "metadata": {},
   "outputs": [],
   "source": [
    "# create linear regression object\n",
    "reg = linear_model.LinearRegression()"
   ]
  },
  {
   "cell_type": "code",
   "execution_count": 497,
   "metadata": {},
   "outputs": [
    {
     "data": {
      "text/html": [
       "<style>#sk-container-id-17 {color: black;background-color: white;}#sk-container-id-17 pre{padding: 0;}#sk-container-id-17 div.sk-toggleable {background-color: white;}#sk-container-id-17 label.sk-toggleable__label {cursor: pointer;display: block;width: 100%;margin-bottom: 0;padding: 0.3em;box-sizing: border-box;text-align: center;}#sk-container-id-17 label.sk-toggleable__label-arrow:before {content: \"▸\";float: left;margin-right: 0.25em;color: #696969;}#sk-container-id-17 label.sk-toggleable__label-arrow:hover:before {color: black;}#sk-container-id-17 div.sk-estimator:hover label.sk-toggleable__label-arrow:before {color: black;}#sk-container-id-17 div.sk-toggleable__content {max-height: 0;max-width: 0;overflow: hidden;text-align: left;background-color: #f0f8ff;}#sk-container-id-17 div.sk-toggleable__content pre {margin: 0.2em;color: black;border-radius: 0.25em;background-color: #f0f8ff;}#sk-container-id-17 input.sk-toggleable__control:checked~div.sk-toggleable__content {max-height: 200px;max-width: 100%;overflow: auto;}#sk-container-id-17 input.sk-toggleable__control:checked~label.sk-toggleable__label-arrow:before {content: \"▾\";}#sk-container-id-17 div.sk-estimator input.sk-toggleable__control:checked~label.sk-toggleable__label {background-color: #d4ebff;}#sk-container-id-17 div.sk-label input.sk-toggleable__control:checked~label.sk-toggleable__label {background-color: #d4ebff;}#sk-container-id-17 input.sk-hidden--visually {border: 0;clip: rect(1px 1px 1px 1px);clip: rect(1px, 1px, 1px, 1px);height: 1px;margin: -1px;overflow: hidden;padding: 0;position: absolute;width: 1px;}#sk-container-id-17 div.sk-estimator {font-family: monospace;background-color: #f0f8ff;border: 1px dotted black;border-radius: 0.25em;box-sizing: border-box;margin-bottom: 0.5em;}#sk-container-id-17 div.sk-estimator:hover {background-color: #d4ebff;}#sk-container-id-17 div.sk-parallel-item::after {content: \"\";width: 100%;border-bottom: 1px solid gray;flex-grow: 1;}#sk-container-id-17 div.sk-label:hover label.sk-toggleable__label {background-color: #d4ebff;}#sk-container-id-17 div.sk-serial::before {content: \"\";position: absolute;border-left: 1px solid gray;box-sizing: border-box;top: 0;bottom: 0;left: 50%;z-index: 0;}#sk-container-id-17 div.sk-serial {display: flex;flex-direction: column;align-items: center;background-color: white;padding-right: 0.2em;padding-left: 0.2em;position: relative;}#sk-container-id-17 div.sk-item {position: relative;z-index: 1;}#sk-container-id-17 div.sk-parallel {display: flex;align-items: stretch;justify-content: center;background-color: white;position: relative;}#sk-container-id-17 div.sk-item::before, #sk-container-id-17 div.sk-parallel-item::before {content: \"\";position: absolute;border-left: 1px solid gray;box-sizing: border-box;top: 0;bottom: 0;left: 50%;z-index: -1;}#sk-container-id-17 div.sk-parallel-item {display: flex;flex-direction: column;z-index: 1;position: relative;background-color: white;}#sk-container-id-17 div.sk-parallel-item:first-child::after {align-self: flex-end;width: 50%;}#sk-container-id-17 div.sk-parallel-item:last-child::after {align-self: flex-start;width: 50%;}#sk-container-id-17 div.sk-parallel-item:only-child::after {width: 0;}#sk-container-id-17 div.sk-dashed-wrapped {border: 1px dashed gray;margin: 0 0.4em 0.5em 0.4em;box-sizing: border-box;padding-bottom: 0.4em;background-color: white;}#sk-container-id-17 div.sk-label label {font-family: monospace;font-weight: bold;display: inline-block;line-height: 1.2em;}#sk-container-id-17 div.sk-label-container {text-align: center;}#sk-container-id-17 div.sk-container {/* jupyter's `normalize.less` sets `[hidden] { display: none; }` but bootstrap.min.css set `[hidden] { display: none !important; }` so we also need the `!important` here to be able to override the default hidden behavior on the sphinx rendered scikit-learn.org. See: https://github.com/scikit-learn/scikit-learn/issues/21755 */display: inline-block !important;position: relative;}#sk-container-id-17 div.sk-text-repr-fallback {display: none;}</style><div id=\"sk-container-id-17\" class=\"sk-top-container\"><div class=\"sk-text-repr-fallback\"><pre>LinearRegression()</pre><b>In a Jupyter environment, please rerun this cell to show the HTML representation or trust the notebook. <br />On GitHub, the HTML representation is unable to render, please try loading this page with nbviewer.org.</b></div><div class=\"sk-container\" hidden><div class=\"sk-item\"><div class=\"sk-estimator sk-toggleable\"><input class=\"sk-toggleable__control sk-hidden--visually\" id=\"sk-estimator-id-17\" type=\"checkbox\" checked><label for=\"sk-estimator-id-17\" class=\"sk-toggleable__label sk-toggleable__label-arrow\">LinearRegression</label><div class=\"sk-toggleable__content\"><pre>LinearRegression()</pre></div></div></div></div></div>"
      ],
      "text/plain": [
       "LinearRegression()"
      ]
     },
     "execution_count": 497,
     "metadata": {},
     "output_type": "execute_result"
    }
   ],
   "source": [
    "# train the model using the training sets\n",
    "reg.fit(X_train, y_train)"
   ]
  },
  {
   "cell_type": "code",
   "execution_count": 498,
   "metadata": {},
   "outputs": [
    {
     "data": {
      "text/plain": [
       "array([12.74377734, 13.36258017, 12.85299537, ..., 12.96776671,\n",
       "       13.65977695, 13.37388133])"
      ]
     },
     "execution_count": 498,
     "metadata": {},
     "output_type": "execute_result"
    }
   ],
   "source": [
    "y_pred = reg.predict(X_valid)\n",
    "y_pred"
   ]
  },
  {
   "cell_type": "code",
   "execution_count": 499,
   "metadata": {},
   "outputs": [
    {
     "data": {
      "text/plain": [
       "0.6017824669063973"
      ]
     },
     "execution_count": 499,
     "metadata": {},
     "output_type": "execute_result"
    }
   ],
   "source": [
    "from sklearn.metrics import r2_score\n",
    "r2_score(y_valid,y_pred)"
   ]
  },
  {
   "cell_type": "code",
   "execution_count": 500,
   "metadata": {},
   "outputs": [
    {
     "data": {
      "text/plain": [
       "0.5826163491215272"
      ]
     },
     "execution_count": 500,
     "metadata": {},
     "output_type": "execute_result"
    }
   ],
   "source": [
    "adj_r3 = 1 - (1-reg.score(X_train, y_train))*(len(y_train)-1)/(len(y_train)-X_train.shape[1]-1)\n",
    "adj_r3"
   ]
  },
  {
   "cell_type": "markdown",
   "metadata": {},
   "source": [
    "### ACCURACY CHECK"
   ]
  },
  {
   "cell_type": "code",
   "execution_count": 672,
   "metadata": {},
   "outputs": [
    {
     "data": {
      "text/plain": [
       "0.1464568400893399"
      ]
     },
     "execution_count": 672,
     "metadata": {},
     "output_type": "execute_result"
    }
   ],
   "source": [
    "# MAE\n",
    "np.mean(np.abs(y_valid - y_pred))"
   ]
  },
  {
   "cell_type": "code",
   "execution_count": 502,
   "metadata": {},
   "outputs": [
    {
     "data": {
      "text/plain": [
       "0.11263416740969669"
      ]
     },
     "execution_count": 502,
     "metadata": {},
     "output_type": "execute_result"
    }
   ],
   "source": [
    "# MSE\n",
    "np.mean((y_valid - y_pred)**2)"
   ]
  },
  {
   "cell_type": "code",
   "execution_count": 503,
   "metadata": {},
   "outputs": [
    {
     "data": {
      "text/plain": [
       "0.11263416740969669"
      ]
     },
     "execution_count": 503,
     "metadata": {},
     "output_type": "execute_result"
    }
   ],
   "source": [
    "# MSE\n",
    "np.mean((y_valid - y_pred)**2)"
   ]
  },
  {
   "cell_type": "code",
   "execution_count": 504,
   "metadata": {},
   "outputs": [
    {
     "data": {
      "text/plain": [
       "0.335610141994691"
      ]
     },
     "execution_count": 504,
     "metadata": {},
     "output_type": "execute_result"
    }
   ],
   "source": [
    "# RMSE\n",
    "np.sqrt(np.mean((y_valid - y_pred)**2))"
   ]
  },
  {
   "cell_type": "code",
   "execution_count": 505,
   "metadata": {},
   "outputs": [
    {
     "data": {
      "text/plain": [
       "2.074088972433399"
      ]
     },
     "execution_count": 505,
     "metadata": {},
     "output_type": "execute_result"
    }
   ],
   "source": [
    "# MAPE\n",
    "mape3 = np.mean(np.abs(y_valid- y_pred)/y)*100\n",
    "mape3"
   ]
  },
  {
   "cell_type": "markdown",
   "metadata": {},
   "source": [
    "### Experiment 4 "
   ]
  },
  {
   "cell_type": "markdown",
   "metadata": {},
   "source": [
    "In this experiment , we are doing feature engineering on predictor 'sqft_basement' and we are introducing new column 'age of the house' ,which is calculated by subtracting 'date' from 'yr_built'"
   ]
  },
  {
   "cell_type": "markdown",
   "metadata": {},
   "source": [
    "##### In the column 'sqft_basement' , 60% of the observations have zero values.So we interpret it as an indication value means ,'1'   if value greater than zero and '0', if value is equal to zero"
   ]
  },
  {
   "cell_type": "code",
   "execution_count": 506,
   "metadata": {},
   "outputs": [],
   "source": [
    "data['sqft_basement'] = data['sqft_basement'].apply(lambda x: 1 if x!=0 else 0 )"
   ]
  },
  {
   "cell_type": "code",
   "execution_count": 507,
   "metadata": {},
   "outputs": [
    {
     "data": {
      "text/html": [
       "<div>\n",
       "<style scoped>\n",
       "    .dataframe tbody tr th:only-of-type {\n",
       "        vertical-align: middle;\n",
       "    }\n",
       "\n",
       "    .dataframe tbody tr th {\n",
       "        vertical-align: top;\n",
       "    }\n",
       "\n",
       "    .dataframe thead th {\n",
       "        text-align: right;\n",
       "    }\n",
       "</style>\n",
       "<table border=\"1\" class=\"dataframe\">\n",
       "  <thead>\n",
       "    <tr style=\"text-align: right;\">\n",
       "      <th></th>\n",
       "      <th>date</th>\n",
       "      <th>price</th>\n",
       "      <th>bedrooms</th>\n",
       "      <th>bathrooms</th>\n",
       "      <th>sqft_living</th>\n",
       "      <th>sqft_lot</th>\n",
       "      <th>floors</th>\n",
       "      <th>waterfront</th>\n",
       "      <th>view</th>\n",
       "      <th>condition</th>\n",
       "      <th>grade</th>\n",
       "      <th>sqft_above</th>\n",
       "      <th>sqft_basement</th>\n",
       "      <th>yr_built</th>\n",
       "      <th>yr_renovated</th>\n",
       "      <th>zipcode</th>\n",
       "      <th>lat</th>\n",
       "      <th>long</th>\n",
       "      <th>sqft_living15</th>\n",
       "      <th>sqft_lot15</th>\n",
       "    </tr>\n",
       "  </thead>\n",
       "  <tbody>\n",
       "    <tr>\n",
       "      <th>0</th>\n",
       "      <td>20141209T000000</td>\n",
       "      <td>13.311331</td>\n",
       "      <td>4</td>\n",
       "      <td>3.00</td>\n",
       "      <td>7.581210</td>\n",
       "      <td>5000</td>\n",
       "      <td>1.0</td>\n",
       "      <td>0</td>\n",
       "      <td>0</td>\n",
       "      <td>5</td>\n",
       "      <td>7</td>\n",
       "      <td>6.957497</td>\n",
       "      <td>1</td>\n",
       "      <td>1965</td>\n",
       "      <td>0</td>\n",
       "      <td>98136</td>\n",
       "      <td>47.5208</td>\n",
       "      <td>-122.393</td>\n",
       "      <td>7.215975</td>\n",
       "      <td>5000</td>\n",
       "    </tr>\n",
       "    <tr>\n",
       "      <th>1</th>\n",
       "      <td>20140512T000000</td>\n",
       "      <td>14.022526</td>\n",
       "      <td>4</td>\n",
       "      <td>4.50</td>\n",
       "      <td>8.598036</td>\n",
       "      <td>101930</td>\n",
       "      <td>1.0</td>\n",
       "      <td>0</td>\n",
       "      <td>0</td>\n",
       "      <td>3</td>\n",
       "      <td>11</td>\n",
       "      <td>8.266421</td>\n",
       "      <td>1</td>\n",
       "      <td>2001</td>\n",
       "      <td>0</td>\n",
       "      <td>98053</td>\n",
       "      <td>47.6561</td>\n",
       "      <td>-122.005</td>\n",
       "      <td>8.468213</td>\n",
       "      <td>101930</td>\n",
       "    </tr>\n",
       "    <tr>\n",
       "      <th>2</th>\n",
       "      <td>20140527T000000</td>\n",
       "      <td>13.056226</td>\n",
       "      <td>2</td>\n",
       "      <td>1.00</td>\n",
       "      <td>7.057037</td>\n",
       "      <td>6000</td>\n",
       "      <td>1.0</td>\n",
       "      <td>0</td>\n",
       "      <td>0</td>\n",
       "      <td>4</td>\n",
       "      <td>7</td>\n",
       "      <td>6.758095</td>\n",
       "      <td>1</td>\n",
       "      <td>1942</td>\n",
       "      <td>0</td>\n",
       "      <td>98115</td>\n",
       "      <td>47.6900</td>\n",
       "      <td>-122.292</td>\n",
       "      <td>7.193686</td>\n",
       "      <td>6000</td>\n",
       "    </tr>\n",
       "    <tr>\n",
       "      <th>3</th>\n",
       "      <td>20140528T000000</td>\n",
       "      <td>12.644331</td>\n",
       "      <td>3</td>\n",
       "      <td>1.00</td>\n",
       "      <td>7.266129</td>\n",
       "      <td>19901</td>\n",
       "      <td>1.5</td>\n",
       "      <td>0</td>\n",
       "      <td>0</td>\n",
       "      <td>4</td>\n",
       "      <td>7</td>\n",
       "      <td>7.266129</td>\n",
       "      <td>0</td>\n",
       "      <td>1927</td>\n",
       "      <td>0</td>\n",
       "      <td>98028</td>\n",
       "      <td>47.7558</td>\n",
       "      <td>-122.229</td>\n",
       "      <td>7.484930</td>\n",
       "      <td>12697</td>\n",
       "    </tr>\n",
       "    <tr>\n",
       "      <th>4</th>\n",
       "      <td>20141007T000000</td>\n",
       "      <td>12.899222</td>\n",
       "      <td>3</td>\n",
       "      <td>1.75</td>\n",
       "      <td>7.223296</td>\n",
       "      <td>9680</td>\n",
       "      <td>1.0</td>\n",
       "      <td>0</td>\n",
       "      <td>0</td>\n",
       "      <td>4</td>\n",
       "      <td>7</td>\n",
       "      <td>7.223296</td>\n",
       "      <td>0</td>\n",
       "      <td>1977</td>\n",
       "      <td>0</td>\n",
       "      <td>98074</td>\n",
       "      <td>47.6127</td>\n",
       "      <td>-122.045</td>\n",
       "      <td>7.223296</td>\n",
       "      <td>10208</td>\n",
       "    </tr>\n",
       "  </tbody>\n",
       "</table>\n",
       "</div>"
      ],
      "text/plain": [
       "              date      price  bedrooms  bathrooms  sqft_living  sqft_lot  \\\n",
       "0  20141209T000000  13.311331         4       3.00     7.581210      5000   \n",
       "1  20140512T000000  14.022526         4       4.50     8.598036    101930   \n",
       "2  20140527T000000  13.056226         2       1.00     7.057037      6000   \n",
       "3  20140528T000000  12.644331         3       1.00     7.266129     19901   \n",
       "4  20141007T000000  12.899222         3       1.75     7.223296      9680   \n",
       "\n",
       "   floors  waterfront  view  condition  grade  sqft_above  sqft_basement  \\\n",
       "0     1.0           0     0          5      7    6.957497              1   \n",
       "1     1.0           0     0          3     11    8.266421              1   \n",
       "2     1.0           0     0          4      7    6.758095              1   \n",
       "3     1.5           0     0          4      7    7.266129              0   \n",
       "4     1.0           0     0          4      7    7.223296              0   \n",
       "\n",
       "   yr_built  yr_renovated  zipcode      lat     long  sqft_living15  \\\n",
       "0      1965             0    98136  47.5208 -122.393       7.215975   \n",
       "1      2001             0    98053  47.6561 -122.005       8.468213   \n",
       "2      1942             0    98115  47.6900 -122.292       7.193686   \n",
       "3      1927             0    98028  47.7558 -122.229       7.484930   \n",
       "4      1977             0    98074  47.6127 -122.045       7.223296   \n",
       "\n",
       "   sqft_lot15  \n",
       "0        5000  \n",
       "1      101930  \n",
       "2        6000  \n",
       "3       12697  \n",
       "4       10208  "
      ]
     },
     "execution_count": 507,
     "metadata": {},
     "output_type": "execute_result"
    }
   ],
   "source": [
    "data.head()"
   ]
  },
  {
   "cell_type": "code",
   "execution_count": 508,
   "metadata": {},
   "outputs": [],
   "source": [
    "data[\"date\"]= pd.to_datetime(data[\"date\"])    # converting the 'date' format into 'yyyy-mm-dd' format\n"
   ]
  },
  {
   "cell_type": "code",
   "execution_count": 509,
   "metadata": {},
   "outputs": [],
   "source": [
    "data['year'] = pd.DatetimeIndex(data['date']).year # getting year from 'date'"
   ]
  },
  {
   "cell_type": "code",
   "execution_count": 510,
   "metadata": {},
   "outputs": [],
   "source": [
    "data[\"age of the house\"] = data['year']-data['yr_built']"
   ]
  },
  {
   "cell_type": "code",
   "execution_count": 511,
   "metadata": {},
   "outputs": [
    {
     "data": {
      "text/html": [
       "<div>\n",
       "<style scoped>\n",
       "    .dataframe tbody tr th:only-of-type {\n",
       "        vertical-align: middle;\n",
       "    }\n",
       "\n",
       "    .dataframe tbody tr th {\n",
       "        vertical-align: top;\n",
       "    }\n",
       "\n",
       "    .dataframe thead th {\n",
       "        text-align: right;\n",
       "    }\n",
       "</style>\n",
       "<table border=\"1\" class=\"dataframe\">\n",
       "  <thead>\n",
       "    <tr style=\"text-align: right;\">\n",
       "      <th></th>\n",
       "      <th>date</th>\n",
       "      <th>price</th>\n",
       "      <th>bedrooms</th>\n",
       "      <th>bathrooms</th>\n",
       "      <th>sqft_living</th>\n",
       "      <th>sqft_lot</th>\n",
       "      <th>floors</th>\n",
       "      <th>waterfront</th>\n",
       "      <th>view</th>\n",
       "      <th>condition</th>\n",
       "      <th>...</th>\n",
       "      <th>sqft_basement</th>\n",
       "      <th>yr_built</th>\n",
       "      <th>yr_renovated</th>\n",
       "      <th>zipcode</th>\n",
       "      <th>lat</th>\n",
       "      <th>long</th>\n",
       "      <th>sqft_living15</th>\n",
       "      <th>sqft_lot15</th>\n",
       "      <th>year</th>\n",
       "      <th>age of the house</th>\n",
       "    </tr>\n",
       "  </thead>\n",
       "  <tbody>\n",
       "    <tr>\n",
       "      <th>0</th>\n",
       "      <td>2014-12-09</td>\n",
       "      <td>13.311331</td>\n",
       "      <td>4</td>\n",
       "      <td>3.00</td>\n",
       "      <td>7.581210</td>\n",
       "      <td>5000</td>\n",
       "      <td>1.0</td>\n",
       "      <td>0</td>\n",
       "      <td>0</td>\n",
       "      <td>5</td>\n",
       "      <td>...</td>\n",
       "      <td>1</td>\n",
       "      <td>1965</td>\n",
       "      <td>0</td>\n",
       "      <td>98136</td>\n",
       "      <td>47.5208</td>\n",
       "      <td>-122.393</td>\n",
       "      <td>7.215975</td>\n",
       "      <td>5000</td>\n",
       "      <td>2014</td>\n",
       "      <td>49</td>\n",
       "    </tr>\n",
       "    <tr>\n",
       "      <th>1</th>\n",
       "      <td>2014-05-12</td>\n",
       "      <td>14.022526</td>\n",
       "      <td>4</td>\n",
       "      <td>4.50</td>\n",
       "      <td>8.598036</td>\n",
       "      <td>101930</td>\n",
       "      <td>1.0</td>\n",
       "      <td>0</td>\n",
       "      <td>0</td>\n",
       "      <td>3</td>\n",
       "      <td>...</td>\n",
       "      <td>1</td>\n",
       "      <td>2001</td>\n",
       "      <td>0</td>\n",
       "      <td>98053</td>\n",
       "      <td>47.6561</td>\n",
       "      <td>-122.005</td>\n",
       "      <td>8.468213</td>\n",
       "      <td>101930</td>\n",
       "      <td>2014</td>\n",
       "      <td>13</td>\n",
       "    </tr>\n",
       "    <tr>\n",
       "      <th>2</th>\n",
       "      <td>2014-05-27</td>\n",
       "      <td>13.056226</td>\n",
       "      <td>2</td>\n",
       "      <td>1.00</td>\n",
       "      <td>7.057037</td>\n",
       "      <td>6000</td>\n",
       "      <td>1.0</td>\n",
       "      <td>0</td>\n",
       "      <td>0</td>\n",
       "      <td>4</td>\n",
       "      <td>...</td>\n",
       "      <td>1</td>\n",
       "      <td>1942</td>\n",
       "      <td>0</td>\n",
       "      <td>98115</td>\n",
       "      <td>47.6900</td>\n",
       "      <td>-122.292</td>\n",
       "      <td>7.193686</td>\n",
       "      <td>6000</td>\n",
       "      <td>2014</td>\n",
       "      <td>72</td>\n",
       "    </tr>\n",
       "    <tr>\n",
       "      <th>3</th>\n",
       "      <td>2014-05-28</td>\n",
       "      <td>12.644331</td>\n",
       "      <td>3</td>\n",
       "      <td>1.00</td>\n",
       "      <td>7.266129</td>\n",
       "      <td>19901</td>\n",
       "      <td>1.5</td>\n",
       "      <td>0</td>\n",
       "      <td>0</td>\n",
       "      <td>4</td>\n",
       "      <td>...</td>\n",
       "      <td>0</td>\n",
       "      <td>1927</td>\n",
       "      <td>0</td>\n",
       "      <td>98028</td>\n",
       "      <td>47.7558</td>\n",
       "      <td>-122.229</td>\n",
       "      <td>7.484930</td>\n",
       "      <td>12697</td>\n",
       "      <td>2014</td>\n",
       "      <td>87</td>\n",
       "    </tr>\n",
       "    <tr>\n",
       "      <th>4</th>\n",
       "      <td>2014-10-07</td>\n",
       "      <td>12.899222</td>\n",
       "      <td>3</td>\n",
       "      <td>1.75</td>\n",
       "      <td>7.223296</td>\n",
       "      <td>9680</td>\n",
       "      <td>1.0</td>\n",
       "      <td>0</td>\n",
       "      <td>0</td>\n",
       "      <td>4</td>\n",
       "      <td>...</td>\n",
       "      <td>0</td>\n",
       "      <td>1977</td>\n",
       "      <td>0</td>\n",
       "      <td>98074</td>\n",
       "      <td>47.6127</td>\n",
       "      <td>-122.045</td>\n",
       "      <td>7.223296</td>\n",
       "      <td>10208</td>\n",
       "      <td>2014</td>\n",
       "      <td>37</td>\n",
       "    </tr>\n",
       "  </tbody>\n",
       "</table>\n",
       "<p>5 rows × 22 columns</p>\n",
       "</div>"
      ],
      "text/plain": [
       "        date      price  bedrooms  bathrooms  sqft_living  sqft_lot  floors  \\\n",
       "0 2014-12-09  13.311331         4       3.00     7.581210      5000     1.0   \n",
       "1 2014-05-12  14.022526         4       4.50     8.598036    101930     1.0   \n",
       "2 2014-05-27  13.056226         2       1.00     7.057037      6000     1.0   \n",
       "3 2014-05-28  12.644331         3       1.00     7.266129     19901     1.5   \n",
       "4 2014-10-07  12.899222         3       1.75     7.223296      9680     1.0   \n",
       "\n",
       "   waterfront  view  condition  ...  sqft_basement  yr_built  yr_renovated  \\\n",
       "0           0     0          5  ...              1      1965             0   \n",
       "1           0     0          3  ...              1      2001             0   \n",
       "2           0     0          4  ...              1      1942             0   \n",
       "3           0     0          4  ...              0      1927             0   \n",
       "4           0     0          4  ...              0      1977             0   \n",
       "\n",
       "   zipcode      lat     long  sqft_living15  sqft_lot15  year  \\\n",
       "0    98136  47.5208 -122.393       7.215975        5000  2014   \n",
       "1    98053  47.6561 -122.005       8.468213      101930  2014   \n",
       "2    98115  47.6900 -122.292       7.193686        6000  2014   \n",
       "3    98028  47.7558 -122.229       7.484930       12697  2014   \n",
       "4    98074  47.6127 -122.045       7.223296       10208  2014   \n",
       "\n",
       "   age of the house  \n",
       "0                49  \n",
       "1                13  \n",
       "2                72  \n",
       "3                87  \n",
       "4                37  \n",
       "\n",
       "[5 rows x 22 columns]"
      ]
     },
     "execution_count": 511,
     "metadata": {},
     "output_type": "execute_result"
    }
   ],
   "source": [
    "data.head()"
   ]
  },
  {
   "cell_type": "code",
   "execution_count": 512,
   "metadata": {},
   "outputs": [],
   "source": [
    "X = data[['bedrooms','bathrooms', 'sqft_living','view', 'grade', 'sqft_above', 'sqft_basement','sqft_living15','age of the house']]"
   ]
  },
  {
   "cell_type": "code",
   "execution_count": 513,
   "metadata": {},
   "outputs": [],
   "source": [
    "y = data['price']"
   ]
  },
  {
   "cell_type": "code",
   "execution_count": 514,
   "metadata": {},
   "outputs": [
    {
     "data": {
      "text/plain": [
       "(7320, 2441)"
      ]
     },
     "execution_count": 514,
     "metadata": {},
     "output_type": "execute_result"
    }
   ],
   "source": [
    "X_train, X_valid, y_train, y_valid = train_test_split(X, y, test_size=0.25,\n",
    "                                                    random_state=1)\n",
    "len(X_train),len(X_valid)"
   ]
  },
  {
   "cell_type": "code",
   "execution_count": 515,
   "metadata": {},
   "outputs": [],
   "source": [
    "# create linear regression object\n",
    "reg = linear_model.LinearRegression()"
   ]
  },
  {
   "cell_type": "code",
   "execution_count": 516,
   "metadata": {},
   "outputs": [
    {
     "data": {
      "text/html": [
       "<style>#sk-container-id-18 {color: black;background-color: white;}#sk-container-id-18 pre{padding: 0;}#sk-container-id-18 div.sk-toggleable {background-color: white;}#sk-container-id-18 label.sk-toggleable__label {cursor: pointer;display: block;width: 100%;margin-bottom: 0;padding: 0.3em;box-sizing: border-box;text-align: center;}#sk-container-id-18 label.sk-toggleable__label-arrow:before {content: \"▸\";float: left;margin-right: 0.25em;color: #696969;}#sk-container-id-18 label.sk-toggleable__label-arrow:hover:before {color: black;}#sk-container-id-18 div.sk-estimator:hover label.sk-toggleable__label-arrow:before {color: black;}#sk-container-id-18 div.sk-toggleable__content {max-height: 0;max-width: 0;overflow: hidden;text-align: left;background-color: #f0f8ff;}#sk-container-id-18 div.sk-toggleable__content pre {margin: 0.2em;color: black;border-radius: 0.25em;background-color: #f0f8ff;}#sk-container-id-18 input.sk-toggleable__control:checked~div.sk-toggleable__content {max-height: 200px;max-width: 100%;overflow: auto;}#sk-container-id-18 input.sk-toggleable__control:checked~label.sk-toggleable__label-arrow:before {content: \"▾\";}#sk-container-id-18 div.sk-estimator input.sk-toggleable__control:checked~label.sk-toggleable__label {background-color: #d4ebff;}#sk-container-id-18 div.sk-label input.sk-toggleable__control:checked~label.sk-toggleable__label {background-color: #d4ebff;}#sk-container-id-18 input.sk-hidden--visually {border: 0;clip: rect(1px 1px 1px 1px);clip: rect(1px, 1px, 1px, 1px);height: 1px;margin: -1px;overflow: hidden;padding: 0;position: absolute;width: 1px;}#sk-container-id-18 div.sk-estimator {font-family: monospace;background-color: #f0f8ff;border: 1px dotted black;border-radius: 0.25em;box-sizing: border-box;margin-bottom: 0.5em;}#sk-container-id-18 div.sk-estimator:hover {background-color: #d4ebff;}#sk-container-id-18 div.sk-parallel-item::after {content: \"\";width: 100%;border-bottom: 1px solid gray;flex-grow: 1;}#sk-container-id-18 div.sk-label:hover label.sk-toggleable__label {background-color: #d4ebff;}#sk-container-id-18 div.sk-serial::before {content: \"\";position: absolute;border-left: 1px solid gray;box-sizing: border-box;top: 0;bottom: 0;left: 50%;z-index: 0;}#sk-container-id-18 div.sk-serial {display: flex;flex-direction: column;align-items: center;background-color: white;padding-right: 0.2em;padding-left: 0.2em;position: relative;}#sk-container-id-18 div.sk-item {position: relative;z-index: 1;}#sk-container-id-18 div.sk-parallel {display: flex;align-items: stretch;justify-content: center;background-color: white;position: relative;}#sk-container-id-18 div.sk-item::before, #sk-container-id-18 div.sk-parallel-item::before {content: \"\";position: absolute;border-left: 1px solid gray;box-sizing: border-box;top: 0;bottom: 0;left: 50%;z-index: -1;}#sk-container-id-18 div.sk-parallel-item {display: flex;flex-direction: column;z-index: 1;position: relative;background-color: white;}#sk-container-id-18 div.sk-parallel-item:first-child::after {align-self: flex-end;width: 50%;}#sk-container-id-18 div.sk-parallel-item:last-child::after {align-self: flex-start;width: 50%;}#sk-container-id-18 div.sk-parallel-item:only-child::after {width: 0;}#sk-container-id-18 div.sk-dashed-wrapped {border: 1px dashed gray;margin: 0 0.4em 0.5em 0.4em;box-sizing: border-box;padding-bottom: 0.4em;background-color: white;}#sk-container-id-18 div.sk-label label {font-family: monospace;font-weight: bold;display: inline-block;line-height: 1.2em;}#sk-container-id-18 div.sk-label-container {text-align: center;}#sk-container-id-18 div.sk-container {/* jupyter's `normalize.less` sets `[hidden] { display: none; }` but bootstrap.min.css set `[hidden] { display: none !important; }` so we also need the `!important` here to be able to override the default hidden behavior on the sphinx rendered scikit-learn.org. See: https://github.com/scikit-learn/scikit-learn/issues/21755 */display: inline-block !important;position: relative;}#sk-container-id-18 div.sk-text-repr-fallback {display: none;}</style><div id=\"sk-container-id-18\" class=\"sk-top-container\"><div class=\"sk-text-repr-fallback\"><pre>LinearRegression()</pre><b>In a Jupyter environment, please rerun this cell to show the HTML representation or trust the notebook. <br />On GitHub, the HTML representation is unable to render, please try loading this page with nbviewer.org.</b></div><div class=\"sk-container\" hidden><div class=\"sk-item\"><div class=\"sk-estimator sk-toggleable\"><input class=\"sk-toggleable__control sk-hidden--visually\" id=\"sk-estimator-id-18\" type=\"checkbox\" checked><label for=\"sk-estimator-id-18\" class=\"sk-toggleable__label sk-toggleable__label-arrow\">LinearRegression</label><div class=\"sk-toggleable__content\"><pre>LinearRegression()</pre></div></div></div></div></div>"
      ],
      "text/plain": [
       "LinearRegression()"
      ]
     },
     "execution_count": 516,
     "metadata": {},
     "output_type": "execute_result"
    }
   ],
   "source": [
    "# train the model using the training sets\n",
    "reg.fit(X_train, y_train)"
   ]
  },
  {
   "cell_type": "code",
   "execution_count": 517,
   "metadata": {},
   "outputs": [
    {
     "data": {
      "text/plain": [
       "array([12.69265578, 13.54217276, 12.99938546, ..., 12.78876797,\n",
       "       13.65267533, 13.36480057])"
      ]
     },
     "execution_count": 517,
     "metadata": {},
     "output_type": "execute_result"
    }
   ],
   "source": [
    "y_pred = reg.predict(X_valid)\n",
    "y_pred"
   ]
  },
  {
   "cell_type": "code",
   "execution_count": 518,
   "metadata": {},
   "outputs": [
    {
     "data": {
      "text/plain": [
       "0.6600564277083214"
      ]
     },
     "execution_count": 518,
     "metadata": {},
     "output_type": "execute_result"
    }
   ],
   "source": [
    "from sklearn.metrics import r2_score\n",
    "r2_score(y_valid,y_pred)"
   ]
  },
  {
   "cell_type": "code",
   "execution_count": 519,
   "metadata": {},
   "outputs": [
    {
     "data": {
      "text/plain": [
       "0.6525779542917736"
      ]
     },
     "execution_count": 519,
     "metadata": {},
     "output_type": "execute_result"
    }
   ],
   "source": [
    "adj_r4 = 1 - (1-reg.score(X_train, y_train))*(len(y_train)-1)/(len(y_train)-X_train.shape[1]-1)\n",
    "adj_r4"
   ]
  },
  {
   "cell_type": "markdown",
   "metadata": {},
   "source": [
    "### ACCURACY CHECK"
   ]
  },
  {
   "cell_type": "code",
   "execution_count": 520,
   "metadata": {},
   "outputs": [
    {
     "data": {
      "text/plain": [
       "0.24616665574245566"
      ]
     },
     "execution_count": 520,
     "metadata": {},
     "output_type": "execute_result"
    }
   ],
   "source": [
    "# MAE\n",
    "np.mean(np.abs(y_valid - y_pred))"
   ]
  },
  {
   "cell_type": "code",
   "execution_count": 521,
   "metadata": {},
   "outputs": [
    {
     "data": {
      "text/plain": [
       "0.09615162078348569"
      ]
     },
     "execution_count": 521,
     "metadata": {},
     "output_type": "execute_result"
    }
   ],
   "source": [
    "# MSE\n",
    "np.mean((y_valid - y_pred)**2)"
   ]
  },
  {
   "cell_type": "code",
   "execution_count": 522,
   "metadata": {},
   "outputs": [
    {
     "data": {
      "text/plain": [
       "0.09615162078348569"
      ]
     },
     "execution_count": 522,
     "metadata": {},
     "output_type": "execute_result"
    }
   ],
   "source": [
    "# RMSE\n",
    "np.mean((y_valid - y_pred)**2)"
   ]
  },
  {
   "cell_type": "code",
   "execution_count": 523,
   "metadata": {},
   "outputs": [
    {
     "data": {
      "text/plain": [
       "1.897520649279973"
      ]
     },
     "execution_count": 523,
     "metadata": {},
     "output_type": "execute_result"
    }
   ],
   "source": [
    "# MAPE\n",
    "mape4 = np.mean(np.abs(y_valid- y_pred)/y)*100\n",
    "mape4"
   ]
  },
  {
   "cell_type": "markdown",
   "metadata": {},
   "source": [
    "### Experiment 5"
   ]
  },
  {
   "cell_type": "markdown",
   "metadata": {},
   "source": [
    "In this experiment, we are setting dummies for the predictor 'zipcode'"
   ]
  },
  {
   "cell_type": "code",
   "execution_count": 524,
   "metadata": {},
   "outputs": [
    {
     "data": {
      "text/html": [
       "<div>\n",
       "<style scoped>\n",
       "    .dataframe tbody tr th:only-of-type {\n",
       "        vertical-align: middle;\n",
       "    }\n",
       "\n",
       "    .dataframe tbody tr th {\n",
       "        vertical-align: top;\n",
       "    }\n",
       "\n",
       "    .dataframe thead th {\n",
       "        text-align: right;\n",
       "    }\n",
       "</style>\n",
       "<table border=\"1\" class=\"dataframe\">\n",
       "  <thead>\n",
       "    <tr style=\"text-align: right;\">\n",
       "      <th></th>\n",
       "      <th>date</th>\n",
       "      <th>price</th>\n",
       "      <th>bedrooms</th>\n",
       "      <th>bathrooms</th>\n",
       "      <th>sqft_living</th>\n",
       "      <th>sqft_lot</th>\n",
       "      <th>floors</th>\n",
       "      <th>waterfront</th>\n",
       "      <th>view</th>\n",
       "      <th>condition</th>\n",
       "      <th>...</th>\n",
       "      <th>zipcode_98146</th>\n",
       "      <th>zipcode_98148</th>\n",
       "      <th>zipcode_98155</th>\n",
       "      <th>zipcode_98166</th>\n",
       "      <th>zipcode_98168</th>\n",
       "      <th>zipcode_98177</th>\n",
       "      <th>zipcode_98178</th>\n",
       "      <th>zipcode_98188</th>\n",
       "      <th>zipcode_98198</th>\n",
       "      <th>zipcode_98199</th>\n",
       "    </tr>\n",
       "  </thead>\n",
       "  <tbody>\n",
       "    <tr>\n",
       "      <th>0</th>\n",
       "      <td>2014-12-09</td>\n",
       "      <td>13.311331</td>\n",
       "      <td>4</td>\n",
       "      <td>3.00</td>\n",
       "      <td>7.581210</td>\n",
       "      <td>5000</td>\n",
       "      <td>1.0</td>\n",
       "      <td>0</td>\n",
       "      <td>0</td>\n",
       "      <td>5</td>\n",
       "      <td>...</td>\n",
       "      <td>0</td>\n",
       "      <td>0</td>\n",
       "      <td>0</td>\n",
       "      <td>0</td>\n",
       "      <td>0</td>\n",
       "      <td>0</td>\n",
       "      <td>0</td>\n",
       "      <td>0</td>\n",
       "      <td>0</td>\n",
       "      <td>0</td>\n",
       "    </tr>\n",
       "    <tr>\n",
       "      <th>1</th>\n",
       "      <td>2014-05-12</td>\n",
       "      <td>14.022526</td>\n",
       "      <td>4</td>\n",
       "      <td>4.50</td>\n",
       "      <td>8.598036</td>\n",
       "      <td>101930</td>\n",
       "      <td>1.0</td>\n",
       "      <td>0</td>\n",
       "      <td>0</td>\n",
       "      <td>3</td>\n",
       "      <td>...</td>\n",
       "      <td>0</td>\n",
       "      <td>0</td>\n",
       "      <td>0</td>\n",
       "      <td>0</td>\n",
       "      <td>0</td>\n",
       "      <td>0</td>\n",
       "      <td>0</td>\n",
       "      <td>0</td>\n",
       "      <td>0</td>\n",
       "      <td>0</td>\n",
       "    </tr>\n",
       "    <tr>\n",
       "      <th>2</th>\n",
       "      <td>2014-05-27</td>\n",
       "      <td>13.056226</td>\n",
       "      <td>2</td>\n",
       "      <td>1.00</td>\n",
       "      <td>7.057037</td>\n",
       "      <td>6000</td>\n",
       "      <td>1.0</td>\n",
       "      <td>0</td>\n",
       "      <td>0</td>\n",
       "      <td>4</td>\n",
       "      <td>...</td>\n",
       "      <td>0</td>\n",
       "      <td>0</td>\n",
       "      <td>0</td>\n",
       "      <td>0</td>\n",
       "      <td>0</td>\n",
       "      <td>0</td>\n",
       "      <td>0</td>\n",
       "      <td>0</td>\n",
       "      <td>0</td>\n",
       "      <td>0</td>\n",
       "    </tr>\n",
       "    <tr>\n",
       "      <th>3</th>\n",
       "      <td>2014-05-28</td>\n",
       "      <td>12.644331</td>\n",
       "      <td>3</td>\n",
       "      <td>1.00</td>\n",
       "      <td>7.266129</td>\n",
       "      <td>19901</td>\n",
       "      <td>1.5</td>\n",
       "      <td>0</td>\n",
       "      <td>0</td>\n",
       "      <td>4</td>\n",
       "      <td>...</td>\n",
       "      <td>0</td>\n",
       "      <td>0</td>\n",
       "      <td>0</td>\n",
       "      <td>0</td>\n",
       "      <td>0</td>\n",
       "      <td>0</td>\n",
       "      <td>0</td>\n",
       "      <td>0</td>\n",
       "      <td>0</td>\n",
       "      <td>0</td>\n",
       "    </tr>\n",
       "    <tr>\n",
       "      <th>4</th>\n",
       "      <td>2014-10-07</td>\n",
       "      <td>12.899222</td>\n",
       "      <td>3</td>\n",
       "      <td>1.75</td>\n",
       "      <td>7.223296</td>\n",
       "      <td>9680</td>\n",
       "      <td>1.0</td>\n",
       "      <td>0</td>\n",
       "      <td>0</td>\n",
       "      <td>4</td>\n",
       "      <td>...</td>\n",
       "      <td>0</td>\n",
       "      <td>0</td>\n",
       "      <td>0</td>\n",
       "      <td>0</td>\n",
       "      <td>0</td>\n",
       "      <td>0</td>\n",
       "      <td>0</td>\n",
       "      <td>0</td>\n",
       "      <td>0</td>\n",
       "      <td>0</td>\n",
       "    </tr>\n",
       "  </tbody>\n",
       "</table>\n",
       "<p>5 rows × 91 columns</p>\n",
       "</div>"
      ],
      "text/plain": [
       "        date      price  bedrooms  bathrooms  sqft_living  sqft_lot  floors  \\\n",
       "0 2014-12-09  13.311331         4       3.00     7.581210      5000     1.0   \n",
       "1 2014-05-12  14.022526         4       4.50     8.598036    101930     1.0   \n",
       "2 2014-05-27  13.056226         2       1.00     7.057037      6000     1.0   \n",
       "3 2014-05-28  12.644331         3       1.00     7.266129     19901     1.5   \n",
       "4 2014-10-07  12.899222         3       1.75     7.223296      9680     1.0   \n",
       "\n",
       "   waterfront  view  condition  ...  zipcode_98146  zipcode_98148  \\\n",
       "0           0     0          5  ...              0              0   \n",
       "1           0     0          3  ...              0              0   \n",
       "2           0     0          4  ...              0              0   \n",
       "3           0     0          4  ...              0              0   \n",
       "4           0     0          4  ...              0              0   \n",
       "\n",
       "   zipcode_98155  zipcode_98166  zipcode_98168  zipcode_98177  zipcode_98178  \\\n",
       "0              0              0              0              0              0   \n",
       "1              0              0              0              0              0   \n",
       "2              0              0              0              0              0   \n",
       "3              0              0              0              0              0   \n",
       "4              0              0              0              0              0   \n",
       "\n",
       "   zipcode_98188  zipcode_98198  zipcode_98199  \n",
       "0              0              0              0  \n",
       "1              0              0              0  \n",
       "2              0              0              0  \n",
       "3              0              0              0  \n",
       "4              0              0              0  \n",
       "\n",
       "[5 rows x 91 columns]"
      ]
     },
     "execution_count": 524,
     "metadata": {},
     "output_type": "execute_result"
    }
   ],
   "source": [
    "data = pd.get_dummies(data, columns = ['zipcode'])  # getting dummies for 'zipcode'\n",
    "data.head()"
   ]
  },
  {
   "cell_type": "code",
   "execution_count": 525,
   "metadata": {},
   "outputs": [],
   "source": [
    "X = data[['bedrooms','bathrooms', 'sqft_living','view', 'grade', 'sqft_above', 'sqft_basement','sqft_living15','age of the house','zipcode_98001', 'zipcode_98002', 'zipcode_98003', 'zipcode_98004',\n",
    "       'zipcode_98005', 'zipcode_98006', 'zipcode_98007', 'zipcode_98008',\n",
    "       'zipcode_98010', 'zipcode_98011', 'zipcode_98014', 'zipcode_98019',\n",
    "       'zipcode_98022', 'zipcode_98023', 'zipcode_98024', 'zipcode_98027',\n",
    "       'zipcode_98028', 'zipcode_98029', 'zipcode_98030', 'zipcode_98031',\n",
    "       'zipcode_98032', 'zipcode_98033', 'zipcode_98034', 'zipcode_98038',\n",
    "       'zipcode_98039', 'zipcode_98040', 'zipcode_98042', 'zipcode_98045',\n",
    "       'zipcode_98052', 'zipcode_98053', 'zipcode_98055', 'zipcode_98056',\n",
    "       'zipcode_98058', 'zipcode_98059', 'zipcode_98065', 'zipcode_98070',\n",
    "       'zipcode_98072', 'zipcode_98074', 'zipcode_98075', 'zipcode_98077',\n",
    "       'zipcode_98092', 'zipcode_98102', 'zipcode_98103', 'zipcode_98105',\n",
    "       'zipcode_98106', 'zipcode_98107', 'zipcode_98108', 'zipcode_98109',\n",
    "       'zipcode_98112', 'zipcode_98115', 'zipcode_98116', 'zipcode_98117',\n",
    "       'zipcode_98118', 'zipcode_98119', 'zipcode_98122', 'zipcode_98125',\n",
    "       'zipcode_98126', 'zipcode_98133', 'zipcode_98136', 'zipcode_98144',\n",
    "       'zipcode_98146', 'zipcode_98148', 'zipcode_98155', 'zipcode_98166',\n",
    "       'zipcode_98168', 'zipcode_98177', 'zipcode_98178', 'zipcode_98188',\n",
    "       'zipcode_98198', 'zipcode_98199']]"
   ]
  },
  {
   "cell_type": "code",
   "execution_count": 526,
   "metadata": {},
   "outputs": [],
   "source": [
    "y = data['price']"
   ]
  },
  {
   "cell_type": "code",
   "execution_count": 527,
   "metadata": {},
   "outputs": [
    {
     "data": {
      "text/plain": [
       "(7320, 2441)"
      ]
     },
     "execution_count": 527,
     "metadata": {},
     "output_type": "execute_result"
    }
   ],
   "source": [
    "X_train, X_valid, y_train, y_valid = train_test_split(X, y, test_size=0.25,\n",
    "                                                    random_state=1)\n",
    "len(X_train),len(X_valid)"
   ]
  },
  {
   "cell_type": "code",
   "execution_count": 528,
   "metadata": {},
   "outputs": [],
   "source": [
    "# create linear regression object\n",
    "reg = linear_model.LinearRegression()"
   ]
  },
  {
   "cell_type": "code",
   "execution_count": 529,
   "metadata": {},
   "outputs": [
    {
     "data": {
      "text/html": [
       "<style>#sk-container-id-19 {color: black;background-color: white;}#sk-container-id-19 pre{padding: 0;}#sk-container-id-19 div.sk-toggleable {background-color: white;}#sk-container-id-19 label.sk-toggleable__label {cursor: pointer;display: block;width: 100%;margin-bottom: 0;padding: 0.3em;box-sizing: border-box;text-align: center;}#sk-container-id-19 label.sk-toggleable__label-arrow:before {content: \"▸\";float: left;margin-right: 0.25em;color: #696969;}#sk-container-id-19 label.sk-toggleable__label-arrow:hover:before {color: black;}#sk-container-id-19 div.sk-estimator:hover label.sk-toggleable__label-arrow:before {color: black;}#sk-container-id-19 div.sk-toggleable__content {max-height: 0;max-width: 0;overflow: hidden;text-align: left;background-color: #f0f8ff;}#sk-container-id-19 div.sk-toggleable__content pre {margin: 0.2em;color: black;border-radius: 0.25em;background-color: #f0f8ff;}#sk-container-id-19 input.sk-toggleable__control:checked~div.sk-toggleable__content {max-height: 200px;max-width: 100%;overflow: auto;}#sk-container-id-19 input.sk-toggleable__control:checked~label.sk-toggleable__label-arrow:before {content: \"▾\";}#sk-container-id-19 div.sk-estimator input.sk-toggleable__control:checked~label.sk-toggleable__label {background-color: #d4ebff;}#sk-container-id-19 div.sk-label input.sk-toggleable__control:checked~label.sk-toggleable__label {background-color: #d4ebff;}#sk-container-id-19 input.sk-hidden--visually {border: 0;clip: rect(1px 1px 1px 1px);clip: rect(1px, 1px, 1px, 1px);height: 1px;margin: -1px;overflow: hidden;padding: 0;position: absolute;width: 1px;}#sk-container-id-19 div.sk-estimator {font-family: monospace;background-color: #f0f8ff;border: 1px dotted black;border-radius: 0.25em;box-sizing: border-box;margin-bottom: 0.5em;}#sk-container-id-19 div.sk-estimator:hover {background-color: #d4ebff;}#sk-container-id-19 div.sk-parallel-item::after {content: \"\";width: 100%;border-bottom: 1px solid gray;flex-grow: 1;}#sk-container-id-19 div.sk-label:hover label.sk-toggleable__label {background-color: #d4ebff;}#sk-container-id-19 div.sk-serial::before {content: \"\";position: absolute;border-left: 1px solid gray;box-sizing: border-box;top: 0;bottom: 0;left: 50%;z-index: 0;}#sk-container-id-19 div.sk-serial {display: flex;flex-direction: column;align-items: center;background-color: white;padding-right: 0.2em;padding-left: 0.2em;position: relative;}#sk-container-id-19 div.sk-item {position: relative;z-index: 1;}#sk-container-id-19 div.sk-parallel {display: flex;align-items: stretch;justify-content: center;background-color: white;position: relative;}#sk-container-id-19 div.sk-item::before, #sk-container-id-19 div.sk-parallel-item::before {content: \"\";position: absolute;border-left: 1px solid gray;box-sizing: border-box;top: 0;bottom: 0;left: 50%;z-index: -1;}#sk-container-id-19 div.sk-parallel-item {display: flex;flex-direction: column;z-index: 1;position: relative;background-color: white;}#sk-container-id-19 div.sk-parallel-item:first-child::after {align-self: flex-end;width: 50%;}#sk-container-id-19 div.sk-parallel-item:last-child::after {align-self: flex-start;width: 50%;}#sk-container-id-19 div.sk-parallel-item:only-child::after {width: 0;}#sk-container-id-19 div.sk-dashed-wrapped {border: 1px dashed gray;margin: 0 0.4em 0.5em 0.4em;box-sizing: border-box;padding-bottom: 0.4em;background-color: white;}#sk-container-id-19 div.sk-label label {font-family: monospace;font-weight: bold;display: inline-block;line-height: 1.2em;}#sk-container-id-19 div.sk-label-container {text-align: center;}#sk-container-id-19 div.sk-container {/* jupyter's `normalize.less` sets `[hidden] { display: none; }` but bootstrap.min.css set `[hidden] { display: none !important; }` so we also need the `!important` here to be able to override the default hidden behavior on the sphinx rendered scikit-learn.org. See: https://github.com/scikit-learn/scikit-learn/issues/21755 */display: inline-block !important;position: relative;}#sk-container-id-19 div.sk-text-repr-fallback {display: none;}</style><div id=\"sk-container-id-19\" class=\"sk-top-container\"><div class=\"sk-text-repr-fallback\"><pre>LinearRegression()</pre><b>In a Jupyter environment, please rerun this cell to show the HTML representation or trust the notebook. <br />On GitHub, the HTML representation is unable to render, please try loading this page with nbviewer.org.</b></div><div class=\"sk-container\" hidden><div class=\"sk-item\"><div class=\"sk-estimator sk-toggleable\"><input class=\"sk-toggleable__control sk-hidden--visually\" id=\"sk-estimator-id-19\" type=\"checkbox\" checked><label for=\"sk-estimator-id-19\" class=\"sk-toggleable__label sk-toggleable__label-arrow\">LinearRegression</label><div class=\"sk-toggleable__content\"><pre>LinearRegression()</pre></div></div></div></div></div>"
      ],
      "text/plain": [
       "LinearRegression()"
      ]
     },
     "execution_count": 529,
     "metadata": {},
     "output_type": "execute_result"
    }
   ],
   "source": [
    "# train the model using the training sets\n",
    "reg.fit(X_train, y_train)"
   ]
  },
  {
   "cell_type": "code",
   "execution_count": 530,
   "metadata": {},
   "outputs": [
    {
     "data": {
      "text/plain": [
       "array([12.3665812 , 13.70022047, 12.56513554, ..., 13.21336478,\n",
       "       13.84736985, 13.15320683])"
      ]
     },
     "execution_count": 530,
     "metadata": {},
     "output_type": "execute_result"
    }
   ],
   "source": [
    "y_pred = reg.predict(X_valid)\n",
    "y_pred"
   ]
  },
  {
   "cell_type": "code",
   "execution_count": 531,
   "metadata": {},
   "outputs": [
    {
     "data": {
      "text/plain": [
       "0.8715770799151275"
      ]
     },
     "execution_count": 531,
     "metadata": {},
     "output_type": "execute_result"
    }
   ],
   "source": [
    "from sklearn.metrics import r2_score\n",
    "r2_score(y_valid,y_pred)"
   ]
  },
  {
   "cell_type": "code",
   "execution_count": 532,
   "metadata": {},
   "outputs": [
    {
     "data": {
      "text/plain": [
       "0.8734570474510713"
      ]
     },
     "execution_count": 532,
     "metadata": {},
     "output_type": "execute_result"
    }
   ],
   "source": [
    "adj_r5 = 1 - (1-reg.score(X_train, y_train))*(len(y_train)-1)/(len(y_train)-X_train.shape[1]-1)\n",
    "adj_r5"
   ]
  },
  {
   "cell_type": "markdown",
   "metadata": {},
   "source": [
    "### ACCURACY CHECK"
   ]
  },
  {
   "cell_type": "code",
   "execution_count": 533,
   "metadata": {},
   "outputs": [
    {
     "data": {
      "text/plain": [
       "0.13966052730484182"
      ]
     },
     "execution_count": 533,
     "metadata": {},
     "output_type": "execute_result"
    }
   ],
   "source": [
    "# MAE\n",
    "np.mean(np.abs(y_valid - y_pred))"
   ]
  },
  {
   "cell_type": "code",
   "execution_count": 534,
   "metadata": {},
   "outputs": [
    {
     "data": {
      "text/plain": [
       "0.036323887016500606"
      ]
     },
     "execution_count": 534,
     "metadata": {},
     "output_type": "execute_result"
    }
   ],
   "source": [
    "# MSE\n",
    "np.mean((y_valid - y_pred)**2)"
   ]
  },
  {
   "cell_type": "code",
   "execution_count": 535,
   "metadata": {},
   "outputs": [
    {
     "data": {
      "text/plain": [
       "0.036323887016500606"
      ]
     },
     "execution_count": 535,
     "metadata": {},
     "output_type": "execute_result"
    }
   ],
   "source": [
    "# RMSE\n",
    "rmse5 = np.mean((y_valid - y_pred)**2)\n",
    "rmse5"
   ]
  },
  {
   "cell_type": "code",
   "execution_count": 536,
   "metadata": {},
   "outputs": [
    {
     "data": {
      "text/plain": [
       "1.0756931806210905"
      ]
     },
     "execution_count": 536,
     "metadata": {},
     "output_type": "execute_result"
    }
   ],
   "source": [
    "# MAPE\n",
    "mape5 = np.mean(np.abs(y_valid- y_pred)/y)*100\n",
    "mape5"
   ]
  },
  {
   "cell_type": "markdown",
   "metadata": {},
   "source": [
    "### Inference about Adjusted R square"
   ]
  },
  {
   "cell_type": "code",
   "execution_count": 537,
   "metadata": {},
   "outputs": [
    {
     "data": {
      "text/plain": [
       "{'Experiment 1': 0.5425091670867354,\n",
       " 'Experiment 2': 0.5715133236411979,\n",
       " 'Experiment 3': 0.5826163491215272,\n",
       " 'Experiment 4': 0.6525779542917736,\n",
       " 'Experiment 5': 0.8734570474510713}"
      ]
     },
     "execution_count": 537,
     "metadata": {},
     "output_type": "execute_result"
    }
   ],
   "source": [
    "{'Experiment 1': adj_r1, 'Experiment 2': adj_r2, 'Experiment 3': adj_r3,'Experiment 4': adj_r4,'Experiment 5': adj_r5}"
   ]
  },
  {
   "cell_type": "markdown",
   "metadata": {},
   "source": [
    "### Inference about MAE (Mean Absolute Error)"
   ]
  },
  {
   "cell_type": "code",
   "execution_count": 539,
   "metadata": {},
   "outputs": [
    {
     "data": {
      "text/plain": [
       "{'Experiment 1': 3.527006465189085,\n",
       " 'Experiment 2': 2.153642485992988,\n",
       " 'Experiment 3': 2.074088972433399,\n",
       " 'Experiment 4': 1.897520649279973,\n",
       " 'Experiment 5': 1.0756931806210905}"
      ]
     },
     "execution_count": 539,
     "metadata": {},
     "output_type": "execute_result"
    }
   ],
   "source": [
    "{'Experiment 1': mape1, 'Experiment 2': mape2, 'Experiment 3': mape3,'Experiment 4': mape4,'Experiment 5': mape5}"
   ]
  },
  {
   "cell_type": "markdown",
   "metadata": {},
   "source": [
    "By looking into the 'adjusted R square' value and 'MAE' value of all the experiments,we can decide that sets of predictors in Experiment - 5 or model used is more predictive compared to other models "
   ]
  },
  {
   "cell_type": "markdown",
   "metadata": {},
   "source": [
    "### Estimation of Coefficients using OLS Method"
   ]
  },
  {
   "cell_type": "code",
   "execution_count": 629,
   "metadata": {},
   "outputs": [
    {
     "name": "stdout",
     "output_type": "stream",
     "text": [
      "                            OLS Regression Results                            \n",
      "==============================================================================\n",
      "Dep. Variable:                  price   R-squared:                       0.875\n",
      "Model:                            OLS   Adj. R-squared:                  0.874\n",
      "Method:                 Least Squares   F-statistic:                     858.4\n",
      "Date:                Sat, 25 Jun 2022   Prob (F-statistic):               0.00\n",
      "Time:                        22:42:18   Log-Likelihood:                 2465.3\n",
      "No. Observations:                9761   AIC:                            -4771.\n",
      "Df Residuals:                    9681   BIC:                            -4196.\n",
      "Df Model:                          79                                         \n",
      "Covariance Type:            nonrobust                                         \n",
      "====================================================================================\n",
      "                       coef    std err          t      P>|t|      [0.025      0.975]\n",
      "------------------------------------------------------------------------------------\n",
      "const                9.0524      0.211     42.818      0.000       8.638       9.467\n",
      "bedrooms            -0.0085      0.003     -3.206      0.001      -0.014      -0.003\n",
      "bathrooms            0.0310      0.004      7.036      0.000       0.022       0.040\n",
      "sqft_living          0.3056      0.020     15.415      0.000       0.267       0.344\n",
      "view                 0.0835      0.003     30.436      0.000       0.078       0.089\n",
      "grade               -0.0060      0.014     -0.416      0.677      -0.034       0.022\n",
      "sqft_above           0.0506      0.023      2.157      0.031       0.005       0.097\n",
      "sqft_basement        0.0255      0.009      3.000      0.003       0.009       0.042\n",
      "sqft_living15        0.0426      0.017      2.492      0.013       0.009       0.076\n",
      "age of the house     0.0015   9.83e-05     15.641      0.000       0.001       0.002\n",
      "zipcode_98001       -0.3206      0.015    -20.848      0.000      -0.351      -0.290\n",
      "zipcode_98002       -0.3590      0.021    -16.739      0.000      -0.401      -0.317\n",
      "zipcode_98003       -0.3297      0.017    -19.082      0.000      -0.364      -0.296\n",
      "zipcode_98004        0.7890      0.017     47.712      0.000       0.757       0.821\n",
      "zipcode_98005        0.3887      0.022     17.741      0.000       0.346       0.432\n",
      "zipcode_98006        0.3041      0.014     22.512      0.000       0.278       0.331\n",
      "zipcode_98007        0.3161      0.024     13.026      0.000       0.269       0.364\n",
      "zipcode_98008        0.3208      0.017     19.211      0.000       0.288       0.354\n",
      "zipcode_98010       -0.0779      0.027     -2.868      0.004      -0.131      -0.025\n",
      "zipcode_98011        0.0748      0.021      3.564      0.000       0.034       0.116\n",
      "zipcode_98014        0.0542      0.025      2.191      0.028       0.006       0.103\n",
      "zipcode_98019       -0.0062      0.022     -0.284      0.776      -0.049       0.036\n",
      "zipcode_98022       -0.2317      0.019    -12.404      0.000      -0.268      -0.195\n",
      "zipcode_98023       -0.3622      0.012    -29.264      0.000      -0.386      -0.338\n",
      "zipcode_98024        0.1612      0.031      5.236      0.000       0.101       0.222\n",
      "zipcode_98027        0.1727      0.014     12.078      0.000       0.145       0.201\n",
      "zipcode_98028        0.0617      0.017      3.697      0.000       0.029       0.094\n",
      "zipcode_98029        0.2413      0.017     14.435      0.000       0.209       0.274\n",
      "zipcode_98030       -0.2914      0.018    -16.198      0.000      -0.327      -0.256\n",
      "zipcode_98031       -0.2552      0.017    -15.330      0.000      -0.288      -0.223\n",
      "zipcode_98032       -0.3476      0.025    -13.712      0.000      -0.397      -0.298\n",
      "zipcode_98033        0.4467      0.014     31.926      0.000       0.419       0.474\n",
      "zipcode_98034        0.2022      0.012     16.501      0.000       0.178       0.226\n",
      "zipcode_98038       -0.1498      0.013    -11.859      0.000      -0.175      -0.125\n",
      "zipcode_98039        0.9233      0.042     21.986      0.000       0.841       1.006\n",
      "zipcode_98040        0.5488      0.017     32.026      0.000       0.515       0.582\n",
      "zipcode_98042       -0.2550      0.012    -20.642      0.000      -0.279      -0.231\n",
      "zipcode_98045       -0.0089      0.019     -0.473      0.636      -0.046       0.028\n",
      "zipcode_98052        0.2771      0.012     22.472      0.000       0.253       0.301\n",
      "zipcode_98053        0.2574      0.014     17.838      0.000       0.229       0.286\n",
      "zipcode_98055       -0.2048      0.018    -11.688      0.000      -0.239      -0.170\n",
      "zipcode_98056       -0.0183      0.014     -1.292      0.196      -0.046       0.009\n",
      "zipcode_98058       -0.1682      0.013    -12.466      0.000      -0.195      -0.142\n",
      "zipcode_98059        0.0046      0.013      0.349      0.727      -0.021       0.031\n",
      "zipcode_98065        0.0396      0.017      2.293      0.022       0.006       0.074\n",
      "zipcode_98070        0.1342      0.025      5.284      0.000       0.084       0.184\n",
      "zipcode_98072        0.1679      0.016     10.223      0.000       0.136       0.200\n",
      "zipcode_98074        0.2111      0.015     14.483      0.000       0.183       0.240\n",
      "zipcode_98075        0.2067      0.015     13.387      0.000       0.176       0.237\n",
      "zipcode_98077        0.1403      0.020      7.142      0.000       0.102       0.179\n",
      "zipcode_98092       -0.2914      0.014    -20.135      0.000      -0.320      -0.263\n",
      "zipcode_98102        0.5809      0.026     22.088      0.000       0.529       0.632\n",
      "zipcode_98103        0.4573      0.013     36.402      0.000       0.433       0.482\n",
      "zipcode_98105        0.5772      0.020     28.708      0.000       0.538       0.617\n",
      "zipcode_98106       -0.0191      0.016     -1.209      0.227      -0.050       0.012\n",
      "zipcode_98107        0.4584      0.019     23.637      0.000       0.420       0.496\n",
      "zipcode_98108        0.0148      0.020      0.748      0.454      -0.024       0.054\n",
      "zipcode_98109        0.6200      0.029     21.575      0.000       0.564       0.676\n",
      "zipcode_98112        0.6359      0.018     35.523      0.000       0.601       0.671\n",
      "zipcode_98115        0.4460      0.012     37.017      0.000       0.422       0.470\n",
      "zipcode_98116        0.3717      0.016     22.797      0.000       0.340       0.404\n",
      "zipcode_98117        0.4355      0.012     34.984      0.000       0.411       0.460\n",
      "zipcode_98118        0.0841      0.013      6.553      0.000       0.059       0.109\n",
      "zipcode_98119        0.5676      0.022     25.595      0.000       0.524       0.611\n",
      "zipcode_98122        0.4253      0.018     24.152      0.000       0.391       0.460\n",
      "zipcode_98125        0.2081      0.014     14.534      0.000       0.180       0.236\n",
      "zipcode_98126        0.1708      0.016     10.861      0.000       0.140       0.202\n",
      "zipcode_98133        0.1171      0.012      9.444      0.000       0.093       0.141\n",
      "zipcode_98136        0.3219      0.017     18.884      0.000       0.289       0.355\n",
      "zipcode_98144        0.2942      0.016     18.657      0.000       0.263       0.325\n",
      "zipcode_98146       -0.0945      0.017     -5.560      0.000      -0.128      -0.061\n",
      "zipcode_98148       -0.1574      0.037     -4.290      0.000      -0.229      -0.085\n",
      "zipcode_98155        0.0863      0.013      6.423      0.000       0.060       0.113\n",
      "zipcode_98166        0.0017      0.019      0.090      0.928      -0.036       0.039\n",
      "zipcode_98168       -0.2789      0.018    -15.808      0.000      -0.313      -0.244\n",
      "zipcode_98177        0.2161      0.017     12.383      0.000       0.182       0.250\n",
      "zipcode_98178       -0.2144      0.018    -11.828      0.000      -0.250      -0.179\n",
      "zipcode_98188       -0.2418      0.025     -9.704      0.000      -0.291      -0.193\n",
      "zipcode_98198       -0.2665      0.017    -15.653      0.000      -0.300      -0.233\n",
      "zipcode_98199        0.4675      0.017     28.200      0.000       0.435       0.500\n",
      "new                  0.0018      0.000      7.744      0.000       0.001       0.002\n",
      "==============================================================================\n",
      "Omnibus:                      550.285   Durbin-Watson:                   2.017\n",
      "Prob(Omnibus):                  0.000   Jarque-Bera (JB):             2282.616\n",
      "Skew:                          -0.055   Prob(JB):                         0.00\n",
      "Kurtosis:                       5.366   Cond. No.                     2.81e+18\n",
      "==============================================================================\n",
      "\n",
      "Notes:\n",
      "[1] Standard Errors assume that the covariance matrix of the errors is correctly specified.\n",
      "[2] The smallest eigenvalue is 2.48e-28. This might indicate that there are\n",
      "strong multicollinearity problems or that the design matrix is singular.\n"
     ]
    },
    {
     "name": "stderr",
     "output_type": "stream",
     "text": [
      "C:\\Users\\91703\\anaconda3\\lib\\site-packages\\statsmodels\\tsa\\tsatools.py:142: FutureWarning: In a future version of pandas all arguments of concat except for the argument 'objs' will be keyword-only\n",
      "  x = pd.concat(x[::order], 1)\n"
     ]
    }
   ],
   "source": [
    "import statsmodels.api as sm\n",
    "import pandas as pd\n",
    "# adding the constant term\n",
    "x = sm.add_constant(X)\n",
    " \n",
    "# performing the regression\n",
    "# and fitting the model\n",
    "result = sm.OLS(y, x).fit()\n",
    " \n",
    "# printing the summary table\n",
    "print(result.summary())"
   ]
  },
  {
   "cell_type": "code",
   "execution_count": 630,
   "metadata": {},
   "outputs": [
    {
     "data": {
      "text/plain": [
       "<AxesSubplot:xlabel='price'>"
      ]
     },
     "execution_count": 630,
     "metadata": {},
     "output_type": "execute_result"
    },
    {
     "data": {
      "image/png": "[encoded data removed]",
      "text/plain": [
       "<Figure size 576x288 with 1 Axes>"
      ]
     },
     "metadata": {},
     "output_type": "display_data"
    }
   ],
   "source": [
    "# importing libraries\n",
    "import seaborn as sb\n",
    "# use regplot\n",
    "sb.regplot(x = y_valid,\n",
    "            y = y_pred, \n",
    "            ci = None,\n",
    "            data = data)"
   ]
  },
  {
   "cell_type": "code",
   "execution_count": 631,
   "metadata": {},
   "outputs": [
    {
     "data": {
      "text/plain": [
       "<AxesSubplot:xlabel='price', ylabel='price'>"
      ]
     },
     "execution_count": 631,
     "metadata": {},
     "output_type": "execute_result"
    },
    {
     "data": {
      "image/png": "[encoded data removed]",
      "text/plain": [
       "<Figure size 576x288 with 1 Axes>"
      ]
     },
     "metadata": {},
     "output_type": "display_data"
    }
   ],
   "source": [
    "# importing libraries\n",
    "import seaborn as sb\n",
    "# use regplot\n",
    "sb.regplot(y = y_valid,\n",
    "            x = y_valid - y_pred, \n",
    "            ci = None,\n",
    "            data = data)"
   ]
  },
  {
   "cell_type": "code",
   "execution_count": 632,
   "metadata": {},
   "outputs": [
    {
     "data": {
      "image/png": "[encoded data removed]",
      "text/plain": [
       "<Figure size 504x288 with 1 Axes>"
      ]
     },
     "metadata": {},
     "output_type": "display_data"
    }
   ],
   "source": [
    "fig, axs = plt.subplots(1, 1,\n",
    "                        figsize =(7, 4),\n",
    "                        tight_layout = True)\n",
    " \n",
    "axs.hist(y_valid-y_pred, bins = 10)\n",
    "plt.show()"
   ]
  },
  {
   "cell_type": "code",
   "execution_count": 633,
   "metadata": {},
   "outputs": [
    {
     "name": "stderr",
     "output_type": "stream",
     "text": [
      "C:\\Users\\91703\\anaconda3\\lib\\site-packages\\statsmodels\\graphics\\gofplots.py:993: UserWarning: marker is redundantly defined by the 'marker' keyword argument and the fmt string \"bo\" (-> marker='o'). The keyword argument will take precedence.\n",
      "  ax.plot(x, y, fmt, **plot_style)\n"
     ]
    },
    {
     "data": {
      "image/png": "[encoded data removed]",
      "text/plain": [
       "<Figure size 576x288 with 1 Axes>"
      ]
     },
     "execution_count": 633,
     "metadata": {},
     "output_type": "execute_result"
    },
    {
     "data": {
      "image/png": "[encoded data removed]",
      "text/plain": [
       "<Figure size 576x288 with 1 Axes>"
      ]
     },
     "metadata": {},
     "output_type": "display_data"
    }
   ],
   "source": [
    "import statsmodels.api as sm\n",
    "sm.qqplot(y_valid - y_pred, ylabel = \"Residual Quantiles\" )"
   ]
  },
  {
   "cell_type": "markdown",
   "metadata": {},
   "source": [
    "### Variance Inflation Factor"
   ]
  },
  {
   "cell_type": "code",
   "execution_count": 545,
   "metadata": {},
   "outputs": [
    {
     "data": {
      "text/html": [
       "<div>\n",
       "<style scoped>\n",
       "    .dataframe tbody tr th:only-of-type {\n",
       "        vertical-align: middle;\n",
       "    }\n",
       "\n",
       "    .dataframe tbody tr th {\n",
       "        vertical-align: top;\n",
       "    }\n",
       "\n",
       "    .dataframe thead th {\n",
       "        text-align: right;\n",
       "    }\n",
       "</style>\n",
       "<table border=\"1\" class=\"dataframe\">\n",
       "  <thead>\n",
       "    <tr style=\"text-align: right;\">\n",
       "      <th></th>\n",
       "      <th>feature</th>\n",
       "      <th>VIF</th>\n",
       "      <th>GVIF</th>\n",
       "    </tr>\n",
       "  </thead>\n",
       "  <tbody>\n",
       "    <tr>\n",
       "      <th>0</th>\n",
       "      <td>bedrooms</td>\n",
       "      <td>1.758880</td>\n",
       "      <td>1.326228</td>\n",
       "    </tr>\n",
       "    <tr>\n",
       "      <th>1</th>\n",
       "      <td>bathrooms</td>\n",
       "      <td>3.151095</td>\n",
       "      <td>1.775132</td>\n",
       "    </tr>\n",
       "    <tr>\n",
       "      <th>2</th>\n",
       "      <td>sqft_living</td>\n",
       "      <td>19.612476</td>\n",
       "      <td>4.428597</td>\n",
       "    </tr>\n",
       "    <tr>\n",
       "      <th>3</th>\n",
       "      <td>view</td>\n",
       "      <td>1.277610</td>\n",
       "      <td>1.130314</td>\n",
       "    </tr>\n",
       "    <tr>\n",
       "      <th>4</th>\n",
       "      <td>grade</td>\n",
       "      <td>3.601003</td>\n",
       "      <td>1.897631</td>\n",
       "    </tr>\n",
       "    <tr>\n",
       "      <th>...</th>\n",
       "      <td>...</td>\n",
       "      <td>...</td>\n",
       "      <td>...</td>\n",
       "    </tr>\n",
       "    <tr>\n",
       "      <th>74</th>\n",
       "      <td>zipcode_98177</td>\n",
       "      <td>18.757650</td>\n",
       "      <td>4.331010</td>\n",
       "    </tr>\n",
       "    <tr>\n",
       "      <th>75</th>\n",
       "      <td>zipcode_98178</td>\n",
       "      <td>16.445070</td>\n",
       "      <td>4.055252</td>\n",
       "    </tr>\n",
       "    <tr>\n",
       "      <th>76</th>\n",
       "      <td>zipcode_98188</td>\n",
       "      <td>9.003157</td>\n",
       "      <td>3.000526</td>\n",
       "    </tr>\n",
       "    <tr>\n",
       "      <th>77</th>\n",
       "      <td>zipcode_98198</td>\n",
       "      <td>19.034256</td>\n",
       "      <td>4.362827</td>\n",
       "    </tr>\n",
       "    <tr>\n",
       "      <th>78</th>\n",
       "      <td>zipcode_98199</td>\n",
       "      <td>20.919463</td>\n",
       "      <td>4.573780</td>\n",
       "    </tr>\n",
       "  </tbody>\n",
       "</table>\n",
       "<p>79 rows × 3 columns</p>\n",
       "</div>"
      ],
      "text/plain": [
       "          feature        VIF      GVIF\n",
       "0        bedrooms   1.758880  1.326228\n",
       "1       bathrooms   3.151095  1.775132\n",
       "2     sqft_living  19.612476  4.428597\n",
       "3            view   1.277610  1.130314\n",
       "4           grade   3.601003  1.897631\n",
       "..            ...        ...       ...\n",
       "74  zipcode_98177  18.757650  4.331010\n",
       "75  zipcode_98178  16.445070  4.055252\n",
       "76  zipcode_98188   9.003157  3.000526\n",
       "77  zipcode_98198  19.034256  4.362827\n",
       "78  zipcode_98199  20.919463  4.573780\n",
       "\n",
       "[79 rows x 3 columns]"
      ]
     },
     "execution_count": 545,
     "metadata": {},
     "output_type": "execute_result"
    }
   ],
   "source": [
    "from statsmodels.stats.outliers_influence import variance_inflation_factor\n",
    "# VIF dataframe\n",
    "vif_data = pd.DataFrame()\n",
    "vif_data[\"feature\"] = X.columns\n",
    "\n",
    "vif_data[\"VIF\"] = [variance_inflation_factor(X.values, i)\n",
    "                          for i in range(len(X.columns))]\n",
    "vif_data[\"GVIF\"] = vif_data[\"VIF\"]**(1/2)\n",
    "vif_data"
   ]
  },
  {
   "cell_type": "markdown",
   "metadata": {},
   "source": [
    "There is a presence of Multicollinearity in our set of predictors,as predictor 'sqft_living' and the dummies of 'zipcode' are having VIF > 5"
   ]
  },
  {
   "cell_type": "markdown",
   "metadata": {},
   "source": [
    " So, we are trying different methods to remove the Multicollinearity,by removing each predictor at a time and checking the VIF by keeping dummies of 'zipcode'aside now."
   ]
  },
  {
   "cell_type": "code",
   "execution_count": 636,
   "metadata": {},
   "outputs": [],
   "source": [
    "X1 = X[['bedrooms', 'bathrooms', 'sqft_living', 'view', 'grade', 'sqft_above',\n",
    "       'sqft_basement', 'sqft_living15', 'age of the house']]"
   ]
  },
  {
   "cell_type": "code",
   "execution_count": 637,
   "metadata": {},
   "outputs": [
    {
     "data": {
      "text/html": [
       "<div>\n",
       "<style scoped>\n",
       "    .dataframe tbody tr th:only-of-type {\n",
       "        vertical-align: middle;\n",
       "    }\n",
       "\n",
       "    .dataframe tbody tr th {\n",
       "        vertical-align: top;\n",
       "    }\n",
       "\n",
       "    .dataframe thead th {\n",
       "        text-align: right;\n",
       "    }\n",
       "</style>\n",
       "<table border=\"1\" class=\"dataframe\">\n",
       "  <thead>\n",
       "    <tr style=\"text-align: right;\">\n",
       "      <th></th>\n",
       "      <th>feature</th>\n",
       "      <th>VIF</th>\n",
       "      <th>GVIF</th>\n",
       "    </tr>\n",
       "  </thead>\n",
       "  <tbody>\n",
       "    <tr>\n",
       "      <th>0</th>\n",
       "      <td>bedrooms</td>\n",
       "      <td>21.060271</td>\n",
       "      <td>4.589147</td>\n",
       "    </tr>\n",
       "    <tr>\n",
       "      <th>1</th>\n",
       "      <td>bathrooms</td>\n",
       "      <td>22.855203</td>\n",
       "      <td>4.780712</td>\n",
       "    </tr>\n",
       "    <tr>\n",
       "      <th>2</th>\n",
       "      <td>sqft_living</td>\n",
       "      <td>5832.321281</td>\n",
       "      <td>76.369636</td>\n",
       "    </tr>\n",
       "    <tr>\n",
       "      <th>3</th>\n",
       "      <td>view</td>\n",
       "      <td>1.243063</td>\n",
       "      <td>1.114927</td>\n",
       "    </tr>\n",
       "    <tr>\n",
       "      <th>4</th>\n",
       "      <td>grade</td>\n",
       "      <td>109.935383</td>\n",
       "      <td>10.485008</td>\n",
       "    </tr>\n",
       "    <tr>\n",
       "      <th>5</th>\n",
       "      <td>sqft_above</td>\n",
       "      <td>5157.405116</td>\n",
       "      <td>71.815076</td>\n",
       "    </tr>\n",
       "    <tr>\n",
       "      <th>6</th>\n",
       "      <td>sqft_basement</td>\n",
       "      <td>7.343140</td>\n",
       "      <td>2.709823</td>\n",
       "    </tr>\n",
       "    <tr>\n",
       "      <th>7</th>\n",
       "      <td>sqft_living15</td>\n",
       "      <td>1014.640983</td>\n",
       "      <td>31.853430</td>\n",
       "    </tr>\n",
       "    <tr>\n",
       "      <th>8</th>\n",
       "      <td>age of the house</td>\n",
       "      <td>4.977121</td>\n",
       "      <td>2.230946</td>\n",
       "    </tr>\n",
       "  </tbody>\n",
       "</table>\n",
       "</div>"
      ],
      "text/plain": [
       "            feature          VIF       GVIF\n",
       "0          bedrooms    21.060271   4.589147\n",
       "1         bathrooms    22.855203   4.780712\n",
       "2       sqft_living  5832.321281  76.369636\n",
       "3              view     1.243063   1.114927\n",
       "4             grade   109.935383  10.485008\n",
       "5        sqft_above  5157.405116  71.815076\n",
       "6     sqft_basement     7.343140   2.709823\n",
       "7     sqft_living15  1014.640983  31.853430\n",
       "8  age of the house     4.977121   2.230946"
      ]
     },
     "execution_count": 637,
     "metadata": {},
     "output_type": "execute_result"
    }
   ],
   "source": [
    "from statsmodels.stats.outliers_influence import variance_inflation_factor\n",
    "# VIF dataframe\n",
    "vif_data = pd.DataFrame()\n",
    "vif_data[\"feature\"] = X1.columns\n",
    "\n",
    "vif_data[\"VIF\"] = [variance_inflation_factor(X1.values, i)\n",
    "                          for i in range(len(X1.columns))]\n",
    "vif_data[\"GVIF\"] = vif_data[\"VIF\"]**(1/2)\n",
    "vif_data"
   ]
  },
  {
   "cell_type": "code",
   "execution_count": 638,
   "metadata": {},
   "outputs": [],
   "source": [
    "X2 = X[['bedrooms', 'bathrooms', 'sqft_living', 'view', 'grade', 'sqft_above',\n",
    "       'sqft_basement', 'sqft_living15']]"
   ]
  },
  {
   "cell_type": "code",
   "execution_count": 639,
   "metadata": {},
   "outputs": [
    {
     "data": {
      "text/html": [
       "<div>\n",
       "<style scoped>\n",
       "    .dataframe tbody tr th:only-of-type {\n",
       "        vertical-align: middle;\n",
       "    }\n",
       "\n",
       "    .dataframe tbody tr th {\n",
       "        vertical-align: top;\n",
       "    }\n",
       "\n",
       "    .dataframe thead th {\n",
       "        text-align: right;\n",
       "    }\n",
       "</style>\n",
       "<table border=\"1\" class=\"dataframe\">\n",
       "  <thead>\n",
       "    <tr style=\"text-align: right;\">\n",
       "      <th></th>\n",
       "      <th>feature</th>\n",
       "      <th>VIF</th>\n",
       "      <th>GVIF</th>\n",
       "    </tr>\n",
       "  </thead>\n",
       "  <tbody>\n",
       "    <tr>\n",
       "      <th>0</th>\n",
       "      <td>bedrooms</td>\n",
       "      <td>21.000771</td>\n",
       "      <td>4.582660</td>\n",
       "    </tr>\n",
       "    <tr>\n",
       "      <th>1</th>\n",
       "      <td>bathrooms</td>\n",
       "      <td>18.820970</td>\n",
       "      <td>4.338314</td>\n",
       "    </tr>\n",
       "    <tr>\n",
       "      <th>2</th>\n",
       "      <td>sqft_living</td>\n",
       "      <td>5794.303967</td>\n",
       "      <td>76.120326</td>\n",
       "    </tr>\n",
       "    <tr>\n",
       "      <th>3</th>\n",
       "      <td>view</td>\n",
       "      <td>1.211573</td>\n",
       "      <td>1.100715</td>\n",
       "    </tr>\n",
       "    <tr>\n",
       "      <th>4</th>\n",
       "      <td>grade</td>\n",
       "      <td>103.630279</td>\n",
       "      <td>10.179896</td>\n",
       "    </tr>\n",
       "    <tr>\n",
       "      <th>5</th>\n",
       "      <td>sqft_above</td>\n",
       "      <td>5155.277193</td>\n",
       "      <td>71.800259</td>\n",
       "    </tr>\n",
       "    <tr>\n",
       "      <th>6</th>\n",
       "      <td>sqft_basement</td>\n",
       "      <td>7.280036</td>\n",
       "      <td>2.698154</td>\n",
       "    </tr>\n",
       "    <tr>\n",
       "      <th>7</th>\n",
       "      <td>sqft_living15</td>\n",
       "      <td>1013.491511</td>\n",
       "      <td>31.835381</td>\n",
       "    </tr>\n",
       "  </tbody>\n",
       "</table>\n",
       "</div>"
      ],
      "text/plain": [
       "         feature          VIF       GVIF\n",
       "0       bedrooms    21.000771   4.582660\n",
       "1      bathrooms    18.820970   4.338314\n",
       "2    sqft_living  5794.303967  76.120326\n",
       "3           view     1.211573   1.100715\n",
       "4          grade   103.630279  10.179896\n",
       "5     sqft_above  5155.277193  71.800259\n",
       "6  sqft_basement     7.280036   2.698154\n",
       "7  sqft_living15  1013.491511  31.835381"
      ]
     },
     "execution_count": 639,
     "metadata": {},
     "output_type": "execute_result"
    }
   ],
   "source": [
    "from statsmodels.stats.outliers_influence import variance_inflation_factor\n",
    "# VIF dataframe\n",
    "vif_data = pd.DataFrame()\n",
    "vif_data[\"feature\"] = X2.columns\n",
    "\n",
    "vif_data[\"VIF\"] = [variance_inflation_factor(X2.values, i)\n",
    "                          for i in range(len(X2.columns))]\n",
    "vif_data[\"GVIF\"] = vif_data[\"VIF\"]**(1/2)\n",
    "vif_data"
   ]
  },
  {
   "cell_type": "code",
   "execution_count": 640,
   "metadata": {},
   "outputs": [],
   "source": [
    "X3 = X[['bedrooms', 'bathrooms', 'sqft_living', 'view', 'grade', 'sqft_above',\n",
    "       'sqft_basement', 'age of the house']]"
   ]
  },
  {
   "cell_type": "code",
   "execution_count": 641,
   "metadata": {},
   "outputs": [
    {
     "data": {
      "text/html": [
       "<div>\n",
       "<style scoped>\n",
       "    .dataframe tbody tr th:only-of-type {\n",
       "        vertical-align: middle;\n",
       "    }\n",
       "\n",
       "    .dataframe tbody tr th {\n",
       "        vertical-align: top;\n",
       "    }\n",
       "\n",
       "    .dataframe thead th {\n",
       "        text-align: right;\n",
       "    }\n",
       "</style>\n",
       "<table border=\"1\" class=\"dataframe\">\n",
       "  <thead>\n",
       "    <tr style=\"text-align: right;\">\n",
       "      <th></th>\n",
       "      <th>feature</th>\n",
       "      <th>VIF</th>\n",
       "      <th>GVIF</th>\n",
       "    </tr>\n",
       "  </thead>\n",
       "  <tbody>\n",
       "    <tr>\n",
       "      <th>0</th>\n",
       "      <td>bedrooms</td>\n",
       "      <td>20.076449</td>\n",
       "      <td>4.480675</td>\n",
       "    </tr>\n",
       "    <tr>\n",
       "      <th>1</th>\n",
       "      <td>bathrooms</td>\n",
       "      <td>20.812504</td>\n",
       "      <td>4.562072</td>\n",
       "    </tr>\n",
       "    <tr>\n",
       "      <th>2</th>\n",
       "      <td>sqft_living</td>\n",
       "      <td>5241.721294</td>\n",
       "      <td>72.399733</td>\n",
       "    </tr>\n",
       "    <tr>\n",
       "      <th>3</th>\n",
       "      <td>view</td>\n",
       "      <td>1.240656</td>\n",
       "      <td>1.113847</td>\n",
       "    </tr>\n",
       "    <tr>\n",
       "      <th>4</th>\n",
       "      <td>grade</td>\n",
       "      <td>109.704612</td>\n",
       "      <td>10.473997</td>\n",
       "    </tr>\n",
       "    <tr>\n",
       "      <th>5</th>\n",
       "      <td>sqft_above</td>\n",
       "      <td>5070.892405</td>\n",
       "      <td>71.210199</td>\n",
       "    </tr>\n",
       "    <tr>\n",
       "      <th>6</th>\n",
       "      <td>sqft_basement</td>\n",
       "      <td>7.343137</td>\n",
       "      <td>2.709822</td>\n",
       "    </tr>\n",
       "    <tr>\n",
       "      <th>7</th>\n",
       "      <td>age of the house</td>\n",
       "      <td>4.971483</td>\n",
       "      <td>2.229682</td>\n",
       "    </tr>\n",
       "  </tbody>\n",
       "</table>\n",
       "</div>"
      ],
      "text/plain": [
       "            feature          VIF       GVIF\n",
       "0          bedrooms    20.076449   4.480675\n",
       "1         bathrooms    20.812504   4.562072\n",
       "2       sqft_living  5241.721294  72.399733\n",
       "3              view     1.240656   1.113847\n",
       "4             grade   109.704612  10.473997\n",
       "5        sqft_above  5070.892405  71.210199\n",
       "6     sqft_basement     7.343137   2.709822\n",
       "7  age of the house     4.971483   2.229682"
      ]
     },
     "execution_count": 641,
     "metadata": {},
     "output_type": "execute_result"
    }
   ],
   "source": [
    "from statsmodels.stats.outliers_influence import variance_inflation_factor\n",
    "# VIF dataframe\n",
    "vif_data = pd.DataFrame()\n",
    "vif_data[\"feature\"] = X3.columns\n",
    "\n",
    "vif_data[\"VIF\"] = [variance_inflation_factor(X3.values, i)\n",
    "                          for i in range(len(X3.columns))]\n",
    "vif_data[\"GVIF\"] = vif_data[\"VIF\"]**(1/2)\n",
    "vif_data"
   ]
  },
  {
   "cell_type": "code",
   "execution_count": 642,
   "metadata": {},
   "outputs": [],
   "source": [
    "X4 = X[['bedrooms', 'bathrooms', 'sqft_living', 'view', 'grade', 'sqft_above', 'sqft_living15', 'age of the house']]"
   ]
  },
  {
   "cell_type": "code",
   "execution_count": 643,
   "metadata": {},
   "outputs": [
    {
     "data": {
      "text/html": [
       "<div>\n",
       "<style scoped>\n",
       "    .dataframe tbody tr th:only-of-type {\n",
       "        vertical-align: middle;\n",
       "    }\n",
       "\n",
       "    .dataframe tbody tr th {\n",
       "        vertical-align: top;\n",
       "    }\n",
       "\n",
       "    .dataframe thead th {\n",
       "        text-align: right;\n",
       "    }\n",
       "</style>\n",
       "<table border=\"1\" class=\"dataframe\">\n",
       "  <thead>\n",
       "    <tr style=\"text-align: right;\">\n",
       "      <th></th>\n",
       "      <th>feature</th>\n",
       "      <th>VIF</th>\n",
       "      <th>GVIF</th>\n",
       "    </tr>\n",
       "  </thead>\n",
       "  <tbody>\n",
       "    <tr>\n",
       "      <th>0</th>\n",
       "      <td>bedrooms</td>\n",
       "      <td>20.954888</td>\n",
       "      <td>4.577651</td>\n",
       "    </tr>\n",
       "    <tr>\n",
       "      <th>1</th>\n",
       "      <td>bathrooms</td>\n",
       "      <td>22.554722</td>\n",
       "      <td>4.749181</td>\n",
       "    </tr>\n",
       "    <tr>\n",
       "      <th>2</th>\n",
       "      <td>sqft_living</td>\n",
       "      <td>2013.891608</td>\n",
       "      <td>44.876404</td>\n",
       "    </tr>\n",
       "    <tr>\n",
       "      <th>3</th>\n",
       "      <td>view</td>\n",
       "      <td>1.242574</td>\n",
       "      <td>1.114708</td>\n",
       "    </tr>\n",
       "    <tr>\n",
       "      <th>4</th>\n",
       "      <td>grade</td>\n",
       "      <td>109.096490</td>\n",
       "      <td>10.444927</td>\n",
       "    </tr>\n",
       "    <tr>\n",
       "      <th>5</th>\n",
       "      <td>sqft_above</td>\n",
       "      <td>1386.390386</td>\n",
       "      <td>37.234264</td>\n",
       "    </tr>\n",
       "    <tr>\n",
       "      <th>6</th>\n",
       "      <td>sqft_living15</td>\n",
       "      <td>1014.640682</td>\n",
       "      <td>31.853425</td>\n",
       "    </tr>\n",
       "    <tr>\n",
       "      <th>7</th>\n",
       "      <td>age of the house</td>\n",
       "      <td>4.934350</td>\n",
       "      <td>2.221340</td>\n",
       "    </tr>\n",
       "  </tbody>\n",
       "</table>\n",
       "</div>"
      ],
      "text/plain": [
       "            feature          VIF       GVIF\n",
       "0          bedrooms    20.954888   4.577651\n",
       "1         bathrooms    22.554722   4.749181\n",
       "2       sqft_living  2013.891608  44.876404\n",
       "3              view     1.242574   1.114708\n",
       "4             grade   109.096490  10.444927\n",
       "5        sqft_above  1386.390386  37.234264\n",
       "6     sqft_living15  1014.640682  31.853425\n",
       "7  age of the house     4.934350   2.221340"
      ]
     },
     "execution_count": 643,
     "metadata": {},
     "output_type": "execute_result"
    }
   ],
   "source": [
    "from statsmodels.stats.outliers_influence import variance_inflation_factor\n",
    "# VIF dataframe\n",
    "vif_data = pd.DataFrame()\n",
    "vif_data[\"feature\"] = X4.columns\n",
    "\n",
    "vif_data[\"VIF\"] = [variance_inflation_factor(X4.values, i)\n",
    "                          for i in range(len(X4.columns))]\n",
    "vif_data[\"GVIF\"] = vif_data[\"VIF\"]**(1/2)\n",
    "vif_data"
   ]
  },
  {
   "cell_type": "code",
   "execution_count": 644,
   "metadata": {},
   "outputs": [],
   "source": [
    "X5 = X[['bedrooms', 'bathrooms', 'sqft_living', 'view', 'grade',\n",
    "       'sqft_basement', 'sqft_living15', 'age of the house']]"
   ]
  },
  {
   "cell_type": "code",
   "execution_count": 645,
   "metadata": {},
   "outputs": [
    {
     "data": {
      "text/html": [
       "<div>\n",
       "<style scoped>\n",
       "    .dataframe tbody tr th:only-of-type {\n",
       "        vertical-align: middle;\n",
       "    }\n",
       "\n",
       "    .dataframe tbody tr th {\n",
       "        vertical-align: top;\n",
       "    }\n",
       "\n",
       "    .dataframe thead th {\n",
       "        text-align: right;\n",
       "    }\n",
       "</style>\n",
       "<table border=\"1\" class=\"dataframe\">\n",
       "  <thead>\n",
       "    <tr style=\"text-align: right;\">\n",
       "      <th></th>\n",
       "      <th>feature</th>\n",
       "      <th>VIF</th>\n",
       "      <th>GVIF</th>\n",
       "    </tr>\n",
       "  </thead>\n",
       "  <tbody>\n",
       "    <tr>\n",
       "      <th>0</th>\n",
       "      <td>bedrooms</td>\n",
       "      <td>20.903567</td>\n",
       "      <td>4.572042</td>\n",
       "    </tr>\n",
       "    <tr>\n",
       "      <th>1</th>\n",
       "      <td>bathrooms</td>\n",
       "      <td>22.775150</td>\n",
       "      <td>4.772332</td>\n",
       "    </tr>\n",
       "    <tr>\n",
       "      <th>2</th>\n",
       "      <td>sqft_living</td>\n",
       "      <td>1242.260794</td>\n",
       "      <td>35.245720</td>\n",
       "    </tr>\n",
       "    <tr>\n",
       "      <th>3</th>\n",
       "      <td>view</td>\n",
       "      <td>1.237825</td>\n",
       "      <td>1.112576</td>\n",
       "    </tr>\n",
       "    <tr>\n",
       "      <th>4</th>\n",
       "      <td>grade</td>\n",
       "      <td>107.475632</td>\n",
       "      <td>10.367045</td>\n",
       "    </tr>\n",
       "    <tr>\n",
       "      <th>5</th>\n",
       "      <td>sqft_basement</td>\n",
       "      <td>1.973950</td>\n",
       "      <td>1.404973</td>\n",
       "    </tr>\n",
       "    <tr>\n",
       "      <th>6</th>\n",
       "      <td>sqft_living15</td>\n",
       "      <td>997.620924</td>\n",
       "      <td>31.585138</td>\n",
       "    </tr>\n",
       "    <tr>\n",
       "      <th>7</th>\n",
       "      <td>age of the house</td>\n",
       "      <td>4.975068</td>\n",
       "      <td>2.230486</td>\n",
       "    </tr>\n",
       "  </tbody>\n",
       "</table>\n",
       "</div>"
      ],
      "text/plain": [
       "            feature          VIF       GVIF\n",
       "0          bedrooms    20.903567   4.572042\n",
       "1         bathrooms    22.775150   4.772332\n",
       "2       sqft_living  1242.260794  35.245720\n",
       "3              view     1.237825   1.112576\n",
       "4             grade   107.475632  10.367045\n",
       "5     sqft_basement     1.973950   1.404973\n",
       "6     sqft_living15   997.620924  31.585138\n",
       "7  age of the house     4.975068   2.230486"
      ]
     },
     "execution_count": 645,
     "metadata": {},
     "output_type": "execute_result"
    }
   ],
   "source": [
    "from statsmodels.stats.outliers_influence import variance_inflation_factor\n",
    "# VIF dataframe\n",
    "vif_data = pd.DataFrame()\n",
    "vif_data[\"feature\"] = X5.columns\n",
    "\n",
    "vif_data[\"VIF\"] = [variance_inflation_factor(X5.values, i)\n",
    "                          for i in range(len(X5.columns))]\n",
    "vif_data[\"GVIF\"] = vif_data[\"VIF\"]**(1/2)\n",
    "vif_data"
   ]
  },
  {
   "cell_type": "code",
   "execution_count": 646,
   "metadata": {},
   "outputs": [],
   "source": [
    "X6 = X[['bedrooms', 'bathrooms', 'sqft_living', 'view', 'sqft_above',\n",
    "       'sqft_basement', 'sqft_living15', 'age of the house']]"
   ]
  },
  {
   "cell_type": "code",
   "execution_count": 647,
   "metadata": {},
   "outputs": [
    {
     "data": {
      "text/html": [
       "<div>\n",
       "<style scoped>\n",
       "    .dataframe tbody tr th:only-of-type {\n",
       "        vertical-align: middle;\n",
       "    }\n",
       "\n",
       "    .dataframe tbody tr th {\n",
       "        vertical-align: top;\n",
       "    }\n",
       "\n",
       "    .dataframe thead th {\n",
       "        text-align: right;\n",
       "    }\n",
       "</style>\n",
       "<table border=\"1\" class=\"dataframe\">\n",
       "  <thead>\n",
       "    <tr style=\"text-align: right;\">\n",
       "      <th></th>\n",
       "      <th>feature</th>\n",
       "      <th>VIF</th>\n",
       "      <th>GVIF</th>\n",
       "    </tr>\n",
       "  </thead>\n",
       "  <tbody>\n",
       "    <tr>\n",
       "      <th>0</th>\n",
       "      <td>bedrooms</td>\n",
       "      <td>20.965088</td>\n",
       "      <td>4.578765</td>\n",
       "    </tr>\n",
       "    <tr>\n",
       "      <th>1</th>\n",
       "      <td>bathrooms</td>\n",
       "      <td>20.870659</td>\n",
       "      <td>4.568442</td>\n",
       "    </tr>\n",
       "    <tr>\n",
       "      <th>2</th>\n",
       "      <td>sqft_living</td>\n",
       "      <td>5825.486840</td>\n",
       "      <td>76.324877</td>\n",
       "    </tr>\n",
       "    <tr>\n",
       "      <th>3</th>\n",
       "      <td>view</td>\n",
       "      <td>1.185589</td>\n",
       "      <td>1.088848</td>\n",
       "    </tr>\n",
       "    <tr>\n",
       "      <th>4</th>\n",
       "      <td>sqft_above</td>\n",
       "      <td>5042.010666</td>\n",
       "      <td>71.007117</td>\n",
       "    </tr>\n",
       "    <tr>\n",
       "      <th>5</th>\n",
       "      <td>sqft_basement</td>\n",
       "      <td>7.287106</td>\n",
       "      <td>2.699464</td>\n",
       "    </tr>\n",
       "    <tr>\n",
       "      <th>6</th>\n",
       "      <td>sqft_living15</td>\n",
       "      <td>1012.511092</td>\n",
       "      <td>31.819979</td>\n",
       "    </tr>\n",
       "    <tr>\n",
       "      <th>7</th>\n",
       "      <td>age of the house</td>\n",
       "      <td>4.691669</td>\n",
       "      <td>2.166026</td>\n",
       "    </tr>\n",
       "  </tbody>\n",
       "</table>\n",
       "</div>"
      ],
      "text/plain": [
       "            feature          VIF       GVIF\n",
       "0          bedrooms    20.965088   4.578765\n",
       "1         bathrooms    20.870659   4.568442\n",
       "2       sqft_living  5825.486840  76.324877\n",
       "3              view     1.185589   1.088848\n",
       "4        sqft_above  5042.010666  71.007117\n",
       "5     sqft_basement     7.287106   2.699464\n",
       "6     sqft_living15  1012.511092  31.819979\n",
       "7  age of the house     4.691669   2.166026"
      ]
     },
     "execution_count": 647,
     "metadata": {},
     "output_type": "execute_result"
    }
   ],
   "source": [
    "from statsmodels.stats.outliers_influence import variance_inflation_factor\n",
    "# VIF dataframe\n",
    "vif_data = pd.DataFrame()\n",
    "vif_data[\"feature\"] = X6.columns\n",
    "\n",
    "vif_data[\"VIF\"] = [variance_inflation_factor(X6.values, i)\n",
    "                          for i in range(len(X6.columns))]\n",
    "vif_data[\"GVIF\"] = vif_data[\"VIF\"]**(1/2)\n",
    "vif_data"
   ]
  },
  {
   "cell_type": "code",
   "execution_count": 648,
   "metadata": {},
   "outputs": [],
   "source": [
    "X7 = X[['bedrooms', 'bathrooms', 'sqft_living', 'grade', 'sqft_above',\n",
    "       'sqft_basement', 'sqft_living15', 'age of the house']]"
   ]
  },
  {
   "cell_type": "code",
   "execution_count": 649,
   "metadata": {},
   "outputs": [
    {
     "data": {
      "text/html": [
       "<div>\n",
       "<style scoped>\n",
       "    .dataframe tbody tr th:only-of-type {\n",
       "        vertical-align: middle;\n",
       "    }\n",
       "\n",
       "    .dataframe tbody tr th {\n",
       "        vertical-align: top;\n",
       "    }\n",
       "\n",
       "    .dataframe thead th {\n",
       "        text-align: right;\n",
       "    }\n",
       "</style>\n",
       "<table border=\"1\" class=\"dataframe\">\n",
       "  <thead>\n",
       "    <tr style=\"text-align: right;\">\n",
       "      <th></th>\n",
       "      <th>feature</th>\n",
       "      <th>VIF</th>\n",
       "      <th>GVIF</th>\n",
       "    </tr>\n",
       "  </thead>\n",
       "  <tbody>\n",
       "    <tr>\n",
       "      <th>0</th>\n",
       "      <td>bedrooms</td>\n",
       "      <td>21.043458</td>\n",
       "      <td>4.587315</td>\n",
       "    </tr>\n",
       "    <tr>\n",
       "      <th>1</th>\n",
       "      <td>bathrooms</td>\n",
       "      <td>22.553101</td>\n",
       "      <td>4.749010</td>\n",
       "    </tr>\n",
       "    <tr>\n",
       "      <th>2</th>\n",
       "      <td>sqft_living</td>\n",
       "      <td>5831.903137</td>\n",
       "      <td>76.366898</td>\n",
       "    </tr>\n",
       "    <tr>\n",
       "      <th>3</th>\n",
       "      <td>grade</td>\n",
       "      <td>104.852471</td>\n",
       "      <td>10.239750</td>\n",
       "    </tr>\n",
       "    <tr>\n",
       "      <th>4</th>\n",
       "      <td>sqft_above</td>\n",
       "      <td>5135.675127</td>\n",
       "      <td>71.663625</td>\n",
       "    </tr>\n",
       "    <tr>\n",
       "      <th>5</th>\n",
       "      <td>sqft_basement</td>\n",
       "      <td>7.340250</td>\n",
       "      <td>2.709290</td>\n",
       "    </tr>\n",
       "    <tr>\n",
       "      <th>6</th>\n",
       "      <td>sqft_living15</td>\n",
       "      <td>1012.676051</td>\n",
       "      <td>31.822571</td>\n",
       "    </tr>\n",
       "    <tr>\n",
       "      <th>7</th>\n",
       "      <td>age of the house</td>\n",
       "      <td>4.851039</td>\n",
       "      <td>2.202507</td>\n",
       "    </tr>\n",
       "  </tbody>\n",
       "</table>\n",
       "</div>"
      ],
      "text/plain": [
       "            feature          VIF       GVIF\n",
       "0          bedrooms    21.043458   4.587315\n",
       "1         bathrooms    22.553101   4.749010\n",
       "2       sqft_living  5831.903137  76.366898\n",
       "3             grade   104.852471  10.239750\n",
       "4        sqft_above  5135.675127  71.663625\n",
       "5     sqft_basement     7.340250   2.709290\n",
       "6     sqft_living15  1012.676051  31.822571\n",
       "7  age of the house     4.851039   2.202507"
      ]
     },
     "execution_count": 649,
     "metadata": {},
     "output_type": "execute_result"
    }
   ],
   "source": [
    "from statsmodels.stats.outliers_influence import variance_inflation_factor\n",
    "# VIF dataframe\n",
    "vif_data = pd.DataFrame()\n",
    "vif_data[\"feature\"] = X7.columns\n",
    "\n",
    "vif_data[\"VIF\"] = [variance_inflation_factor(X7.values, i)\n",
    "                          for i in range(len(X7.columns))]\n",
    "vif_data[\"GVIF\"] = vif_data[\"VIF\"]**(1/2)\n",
    "vif_data"
   ]
  },
  {
   "cell_type": "code",
   "execution_count": 650,
   "metadata": {},
   "outputs": [],
   "source": [
    "X8 = X[['bedrooms', 'bathrooms', 'view', 'grade', 'sqft_above',\n",
    "       'sqft_basement','sqft_living15', 'age of the house']]"
   ]
  },
  {
   "cell_type": "code",
   "execution_count": 651,
   "metadata": {},
   "outputs": [
    {
     "data": {
      "text/html": [
       "<div>\n",
       "<style scoped>\n",
       "    .dataframe tbody tr th:only-of-type {\n",
       "        vertical-align: middle;\n",
       "    }\n",
       "\n",
       "    .dataframe tbody tr th {\n",
       "        vertical-align: top;\n",
       "    }\n",
       "\n",
       "    .dataframe thead th {\n",
       "        text-align: right;\n",
       "    }\n",
       "</style>\n",
       "<table border=\"1\" class=\"dataframe\">\n",
       "  <thead>\n",
       "    <tr style=\"text-align: right;\">\n",
       "      <th></th>\n",
       "      <th>feature</th>\n",
       "      <th>VIF</th>\n",
       "      <th>GVIF</th>\n",
       "    </tr>\n",
       "  </thead>\n",
       "  <tbody>\n",
       "    <tr>\n",
       "      <th>0</th>\n",
       "      <td>bedrooms</td>\n",
       "      <td>20.009297</td>\n",
       "      <td>4.473175</td>\n",
       "    </tr>\n",
       "    <tr>\n",
       "      <th>1</th>\n",
       "      <td>bathrooms</td>\n",
       "      <td>22.708762</td>\n",
       "      <td>4.765371</td>\n",
       "    </tr>\n",
       "    <tr>\n",
       "      <th>2</th>\n",
       "      <td>view</td>\n",
       "      <td>1.242974</td>\n",
       "      <td>1.114887</td>\n",
       "    </tr>\n",
       "    <tr>\n",
       "      <th>3</th>\n",
       "      <td>grade</td>\n",
       "      <td>109.806559</td>\n",
       "      <td>10.478862</td>\n",
       "    </tr>\n",
       "    <tr>\n",
       "      <th>4</th>\n",
       "      <td>sqft_above</td>\n",
       "      <td>1098.506386</td>\n",
       "      <td>33.143723</td>\n",
       "    </tr>\n",
       "    <tr>\n",
       "      <th>5</th>\n",
       "      <td>sqft_basement</td>\n",
       "      <td>2.535575</td>\n",
       "      <td>1.592349</td>\n",
       "    </tr>\n",
       "    <tr>\n",
       "      <th>6</th>\n",
       "      <td>sqft_living15</td>\n",
       "      <td>911.895109</td>\n",
       "      <td>30.197601</td>\n",
       "    </tr>\n",
       "    <tr>\n",
       "      <th>7</th>\n",
       "      <td>age of the house</td>\n",
       "      <td>4.944678</td>\n",
       "      <td>2.223663</td>\n",
       "    </tr>\n",
       "  </tbody>\n",
       "</table>\n",
       "</div>"
      ],
      "text/plain": [
       "            feature          VIF       GVIF\n",
       "0          bedrooms    20.009297   4.473175\n",
       "1         bathrooms    22.708762   4.765371\n",
       "2              view     1.242974   1.114887\n",
       "3             grade   109.806559  10.478862\n",
       "4        sqft_above  1098.506386  33.143723\n",
       "5     sqft_basement     2.535575   1.592349\n",
       "6     sqft_living15   911.895109  30.197601\n",
       "7  age of the house     4.944678   2.223663"
      ]
     },
     "execution_count": 651,
     "metadata": {},
     "output_type": "execute_result"
    }
   ],
   "source": [
    "from statsmodels.stats.outliers_influence import variance_inflation_factor\n",
    "# VIF dataframe\n",
    "vif_data = pd.DataFrame()\n",
    "vif_data[\"feature\"] = X8.columns\n",
    "\n",
    "vif_data[\"VIF\"] = [variance_inflation_factor(X8.values, i)\n",
    "                          for i in range(len(X8.columns))]\n",
    "vif_data[\"GVIF\"] = vif_data[\"VIF\"]**(1/2)\n",
    "vif_data"
   ]
  },
  {
   "cell_type": "code",
   "execution_count": 652,
   "metadata": {},
   "outputs": [],
   "source": [
    "X9 = X[['bedrooms', 'sqft_living', 'view', 'grade', 'sqft_above',\n",
    "       'sqft_basement','sqft_living15', 'age of the house']]"
   ]
  },
  {
   "cell_type": "code",
   "execution_count": 653,
   "metadata": {},
   "outputs": [
    {
     "data": {
      "text/html": [
       "<div>\n",
       "<style scoped>\n",
       "    .dataframe tbody tr th:only-of-type {\n",
       "        vertical-align: middle;\n",
       "    }\n",
       "\n",
       "    .dataframe tbody tr th {\n",
       "        vertical-align: top;\n",
       "    }\n",
       "\n",
       "    .dataframe thead th {\n",
       "        text-align: right;\n",
       "    }\n",
       "</style>\n",
       "<table border=\"1\" class=\"dataframe\">\n",
       "  <thead>\n",
       "    <tr style=\"text-align: right;\">\n",
       "      <th></th>\n",
       "      <th>feature</th>\n",
       "      <th>VIF</th>\n",
       "      <th>GVIF</th>\n",
       "    </tr>\n",
       "  </thead>\n",
       "  <tbody>\n",
       "    <tr>\n",
       "      <th>0</th>\n",
       "      <td>bedrooms</td>\n",
       "      <td>19.607203</td>\n",
       "      <td>4.428002</td>\n",
       "    </tr>\n",
       "    <tr>\n",
       "      <th>1</th>\n",
       "      <td>sqft_living</td>\n",
       "      <td>5794.951556</td>\n",
       "      <td>76.124579</td>\n",
       "    </tr>\n",
       "    <tr>\n",
       "      <th>2</th>\n",
       "      <td>view</td>\n",
       "      <td>1.226632</td>\n",
       "      <td>1.107534</td>\n",
       "    </tr>\n",
       "    <tr>\n",
       "      <th>3</th>\n",
       "      <td>grade</td>\n",
       "      <td>100.389565</td>\n",
       "      <td>10.019459</td>\n",
       "    </tr>\n",
       "    <tr>\n",
       "      <th>4</th>\n",
       "      <td>sqft_above</td>\n",
       "      <td>5139.340674</td>\n",
       "      <td>71.689195</td>\n",
       "    </tr>\n",
       "    <tr>\n",
       "      <th>5</th>\n",
       "      <td>sqft_basement</td>\n",
       "      <td>7.246598</td>\n",
       "      <td>2.691951</td>\n",
       "    </tr>\n",
       "    <tr>\n",
       "      <th>6</th>\n",
       "      <td>sqft_living15</td>\n",
       "      <td>923.956747</td>\n",
       "      <td>30.396657</td>\n",
       "    </tr>\n",
       "    <tr>\n",
       "      <th>7</th>\n",
       "      <td>age of the house</td>\n",
       "      <td>4.098596</td>\n",
       "      <td>2.024499</td>\n",
       "    </tr>\n",
       "  </tbody>\n",
       "</table>\n",
       "</div>"
      ],
      "text/plain": [
       "            feature          VIF       GVIF\n",
       "0          bedrooms    19.607203   4.428002\n",
       "1       sqft_living  5794.951556  76.124579\n",
       "2              view     1.226632   1.107534\n",
       "3             grade   100.389565  10.019459\n",
       "4        sqft_above  5139.340674  71.689195\n",
       "5     sqft_basement     7.246598   2.691951\n",
       "6     sqft_living15   923.956747  30.396657\n",
       "7  age of the house     4.098596   2.024499"
      ]
     },
     "execution_count": 653,
     "metadata": {},
     "output_type": "execute_result"
    }
   ],
   "source": [
    "from statsmodels.stats.outliers_influence import variance_inflation_factor\n",
    "# VIF dataframe\n",
    "vif_data = pd.DataFrame()\n",
    "vif_data[\"feature\"] = X9.columns\n",
    "\n",
    "vif_data[\"VIF\"] = [variance_inflation_factor(X9.values, i)\n",
    "                          for i in range(len(X9.columns))]\n",
    "vif_data[\"GVIF\"] = vif_data[\"VIF\"]**(1/2)\n",
    "vif_data"
   ]
  },
  {
   "cell_type": "code",
   "execution_count": 654,
   "metadata": {},
   "outputs": [],
   "source": [
    "X10 = X[[ 'bathrooms', 'sqft_living', 'view', 'grade', 'sqft_above',\n",
    "       'sqft_basement', 'sqft_living15', 'age of the house']]"
   ]
  },
  {
   "cell_type": "code",
   "execution_count": 655,
   "metadata": {},
   "outputs": [
    {
     "data": {
      "text/html": [
       "<div>\n",
       "<style scoped>\n",
       "    .dataframe tbody tr th:only-of-type {\n",
       "        vertical-align: middle;\n",
       "    }\n",
       "\n",
       "    .dataframe tbody tr th {\n",
       "        vertical-align: top;\n",
       "    }\n",
       "\n",
       "    .dataframe thead th {\n",
       "        text-align: right;\n",
       "    }\n",
       "</style>\n",
       "<table border=\"1\" class=\"dataframe\">\n",
       "  <thead>\n",
       "    <tr style=\"text-align: right;\">\n",
       "      <th></th>\n",
       "      <th>feature</th>\n",
       "      <th>VIF</th>\n",
       "      <th>GVIF</th>\n",
       "    </tr>\n",
       "  </thead>\n",
       "  <tbody>\n",
       "    <tr>\n",
       "      <th>0</th>\n",
       "      <td>bathrooms</td>\n",
       "      <td>21.278293</td>\n",
       "      <td>4.612840</td>\n",
       "    </tr>\n",
       "    <tr>\n",
       "      <th>1</th>\n",
       "      <td>sqft_living</td>\n",
       "      <td>5541.270187</td>\n",
       "      <td>74.439708</td>\n",
       "    </tr>\n",
       "    <tr>\n",
       "      <th>2</th>\n",
       "      <td>view</td>\n",
       "      <td>1.242071</td>\n",
       "      <td>1.114482</td>\n",
       "    </tr>\n",
       "    <tr>\n",
       "      <th>3</th>\n",
       "      <td>grade</td>\n",
       "      <td>109.438527</td>\n",
       "      <td>10.461287</td>\n",
       "    </tr>\n",
       "    <tr>\n",
       "      <th>4</th>\n",
       "      <td>sqft_above</td>\n",
       "      <td>5119.030389</td>\n",
       "      <td>71.547400</td>\n",
       "    </tr>\n",
       "    <tr>\n",
       "      <th>5</th>\n",
       "      <td>sqft_basement</td>\n",
       "      <td>7.306396</td>\n",
       "      <td>2.703035</td>\n",
       "    </tr>\n",
       "    <tr>\n",
       "      <th>6</th>\n",
       "      <td>sqft_living15</td>\n",
       "      <td>967.242482</td>\n",
       "      <td>31.100522</td>\n",
       "    </tr>\n",
       "    <tr>\n",
       "      <th>7</th>\n",
       "      <td>age of the house</td>\n",
       "      <td>4.963060</td>\n",
       "      <td>2.227793</td>\n",
       "    </tr>\n",
       "  </tbody>\n",
       "</table>\n",
       "</div>"
      ],
      "text/plain": [
       "            feature          VIF       GVIF\n",
       "0         bathrooms    21.278293   4.612840\n",
       "1       sqft_living  5541.270187  74.439708\n",
       "2              view     1.242071   1.114482\n",
       "3             grade   109.438527  10.461287\n",
       "4        sqft_above  5119.030389  71.547400\n",
       "5     sqft_basement     7.306396   2.703035\n",
       "6     sqft_living15   967.242482  31.100522\n",
       "7  age of the house     4.963060   2.227793"
      ]
     },
     "execution_count": 655,
     "metadata": {},
     "output_type": "execute_result"
    }
   ],
   "source": [
    "from statsmodels.stats.outliers_influence import variance_inflation_factor\n",
    "# VIF dataframe\n",
    "vif_data = pd.DataFrame()\n",
    "vif_data[\"feature\"] = X10.columns\n",
    "\n",
    "vif_data[\"VIF\"] = [variance_inflation_factor(X10.values, i)\n",
    "                          for i in range(len(X10.columns))]\n",
    "vif_data[\"GVIF\"] = vif_data[\"VIF\"]**(1/2)\n",
    "vif_data"
   ]
  },
  {
   "cell_type": "markdown",
   "metadata": {},
   "source": [
    "So, in step 8 we got comparitively lesser value of VIF ,when we remove the column 'sqft_lving'"
   ]
  },
  {
   "cell_type": "code",
   "execution_count": 673,
   "metadata": {},
   "outputs": [
    {
     "data": {
      "text/html": [
       "<div>\n",
       "<style scoped>\n",
       "    .dataframe tbody tr th:only-of-type {\n",
       "        vertical-align: middle;\n",
       "    }\n",
       "\n",
       "    .dataframe tbody tr th {\n",
       "        vertical-align: top;\n",
       "    }\n",
       "\n",
       "    .dataframe thead th {\n",
       "        text-align: right;\n",
       "    }\n",
       "</style>\n",
       "<table border=\"1\" class=\"dataframe\">\n",
       "  <thead>\n",
       "    <tr style=\"text-align: right;\">\n",
       "      <th></th>\n",
       "      <th>bedrooms</th>\n",
       "      <th>bathrooms</th>\n",
       "      <th>sqft_living</th>\n",
       "      <th>view</th>\n",
       "      <th>grade</th>\n",
       "      <th>sqft_above</th>\n",
       "      <th>sqft_basement</th>\n",
       "      <th>sqft_living15</th>\n",
       "      <th>age of the house</th>\n",
       "      <th>zipcode_98001</th>\n",
       "      <th>...</th>\n",
       "      <th>zipcode_98148</th>\n",
       "      <th>zipcode_98155</th>\n",
       "      <th>zipcode_98166</th>\n",
       "      <th>zipcode_98168</th>\n",
       "      <th>zipcode_98177</th>\n",
       "      <th>zipcode_98178</th>\n",
       "      <th>zipcode_98188</th>\n",
       "      <th>zipcode_98198</th>\n",
       "      <th>zipcode_98199</th>\n",
       "      <th>new</th>\n",
       "    </tr>\n",
       "  </thead>\n",
       "  <tbody>\n",
       "    <tr>\n",
       "      <th>0</th>\n",
       "      <td>4</td>\n",
       "      <td>3.00</td>\n",
       "      <td>7.581210</td>\n",
       "      <td>0</td>\n",
       "      <td>7</td>\n",
       "      <td>6.957497</td>\n",
       "      <td>1</td>\n",
       "      <td>7.215975</td>\n",
       "      <td>49</td>\n",
       "      <td>0</td>\n",
       "      <td>...</td>\n",
       "      <td>0</td>\n",
       "      <td>0</td>\n",
       "      <td>0</td>\n",
       "      <td>0</td>\n",
       "      <td>0</td>\n",
       "      <td>0</td>\n",
       "      <td>0</td>\n",
       "      <td>0</td>\n",
       "      <td>0</td>\n",
       "      <td>351.435890</td>\n",
       "    </tr>\n",
       "    <tr>\n",
       "      <th>1</th>\n",
       "      <td>4</td>\n",
       "      <td>4.50</td>\n",
       "      <td>8.598036</td>\n",
       "      <td>0</td>\n",
       "      <td>11</td>\n",
       "      <td>8.266421</td>\n",
       "      <td>1</td>\n",
       "      <td>8.468213</td>\n",
       "      <td>13</td>\n",
       "      <td>0</td>\n",
       "      <td>...</td>\n",
       "      <td>0</td>\n",
       "      <td>0</td>\n",
       "      <td>0</td>\n",
       "      <td>0</td>\n",
       "      <td>0</td>\n",
       "      <td>0</td>\n",
       "      <td>0</td>\n",
       "      <td>0</td>\n",
       "      <td>0</td>\n",
       "      <td>770.019996</td>\n",
       "    </tr>\n",
       "    <tr>\n",
       "      <th>2</th>\n",
       "      <td>2</td>\n",
       "      <td>1.00</td>\n",
       "      <td>7.057037</td>\n",
       "      <td>0</td>\n",
       "      <td>7</td>\n",
       "      <td>6.758095</td>\n",
       "      <td>1</td>\n",
       "      <td>7.193686</td>\n",
       "      <td>72</td>\n",
       "      <td>0</td>\n",
       "      <td>...</td>\n",
       "      <td>0</td>\n",
       "      <td>0</td>\n",
       "      <td>0</td>\n",
       "      <td>0</td>\n",
       "      <td>0</td>\n",
       "      <td>0</td>\n",
       "      <td>0</td>\n",
       "      <td>0</td>\n",
       "      <td>0</td>\n",
       "      <td>340.309260</td>\n",
       "    </tr>\n",
       "    <tr>\n",
       "      <th>3</th>\n",
       "      <td>3</td>\n",
       "      <td>1.00</td>\n",
       "      <td>7.266129</td>\n",
       "      <td>0</td>\n",
       "      <td>7</td>\n",
       "      <td>7.266129</td>\n",
       "      <td>0</td>\n",
       "      <td>7.484930</td>\n",
       "      <td>87</td>\n",
       "      <td>0</td>\n",
       "      <td>...</td>\n",
       "      <td>0</td>\n",
       "      <td>0</td>\n",
       "      <td>0</td>\n",
       "      <td>0</td>\n",
       "      <td>0</td>\n",
       "      <td>0</td>\n",
       "      <td>0</td>\n",
       "      <td>0</td>\n",
       "      <td>0</td>\n",
       "      <td>380.705271</td>\n",
       "    </tr>\n",
       "    <tr>\n",
       "      <th>4</th>\n",
       "      <td>3</td>\n",
       "      <td>1.75</td>\n",
       "      <td>7.223296</td>\n",
       "      <td>0</td>\n",
       "      <td>7</td>\n",
       "      <td>7.223296</td>\n",
       "      <td>0</td>\n",
       "      <td>7.223296</td>\n",
       "      <td>37</td>\n",
       "      <td>0</td>\n",
       "      <td>...</td>\n",
       "      <td>0</td>\n",
       "      <td>0</td>\n",
       "      <td>0</td>\n",
       "      <td>0</td>\n",
       "      <td>0</td>\n",
       "      <td>0</td>\n",
       "      <td>0</td>\n",
       "      <td>0</td>\n",
       "      <td>0</td>\n",
       "      <td>365.232003</td>\n",
       "    </tr>\n",
       "  </tbody>\n",
       "</table>\n",
       "<p>5 rows × 80 columns</p>\n",
       "</div>"
      ],
      "text/plain": [
       "   bedrooms  bathrooms  sqft_living  view  grade  sqft_above  sqft_basement  \\\n",
       "0         4       3.00     7.581210     0      7    6.957497              1   \n",
       "1         4       4.50     8.598036     0     11    8.266421              1   \n",
       "2         2       1.00     7.057037     0      7    6.758095              1   \n",
       "3         3       1.00     7.266129     0      7    7.266129              0   \n",
       "4         3       1.75     7.223296     0      7    7.223296              0   \n",
       "\n",
       "   sqft_living15  age of the house  zipcode_98001  ...  zipcode_98148  \\\n",
       "0       7.215975                49              0  ...              0   \n",
       "1       8.468213                13              0  ...              0   \n",
       "2       7.193686                72              0  ...              0   \n",
       "3       7.484930                87              0  ...              0   \n",
       "4       7.223296                37              0  ...              0   \n",
       "\n",
       "   zipcode_98155  zipcode_98166  zipcode_98168  zipcode_98177  zipcode_98178  \\\n",
       "0              0              0              0              0              0   \n",
       "1              0              0              0              0              0   \n",
       "2              0              0              0              0              0   \n",
       "3              0              0              0              0              0   \n",
       "4              0              0              0              0              0   \n",
       "\n",
       "   zipcode_98188  zipcode_98198  zipcode_98199         new  \n",
       "0              0              0              0  351.435890  \n",
       "1              0              0              0  770.019996  \n",
       "2              0              0              0  340.309260  \n",
       "3              0              0              0  380.705271  \n",
       "4              0              0              0  365.232003  \n",
       "\n",
       "[5 rows x 80 columns]"
      ]
     },
     "execution_count": 673,
     "metadata": {},
     "output_type": "execute_result"
    }
   ],
   "source": [
    "X_final = X\n",
    "X_final.head()         # final set of predictors"
   ]
  },
  {
   "cell_type": "markdown",
   "metadata": {},
   "source": [
    "###### Here, we are adding a new column which is the product of columns  'sqft_above',' grade',' sqft_living15'"
   ]
  },
  {
   "cell_type": "code",
   "execution_count": 658,
   "metadata": {},
   "outputs": [
    {
     "name": "stderr",
     "output_type": "stream",
     "text": [
      "C:\\Users\\91703\\AppData\\Local\\Temp/ipykernel_25636/2734437796.py:1: SettingWithCopyWarning: \n",
      "A value is trying to be set on a copy of a slice from a DataFrame.\n",
      "Try using .loc[row_indexer,col_indexer] = value instead\n",
      "\n",
      "See the caveats in the documentation: https://pandas.pydata.org/pandas-docs/stable/user_guide/indexing.html#returning-a-view-versus-a-copy\n",
      "  X_final['new'] = X_final['sqft_above']*(X_final['grade'])*X_final['sqft_living15']\n"
     ]
    }
   ],
   "source": [
    "X_final['new'] = X_final['sqft_above']*(X_final['grade'])*X_final['sqft_living15']\n"
   ]
  },
  {
   "cell_type": "code",
   "execution_count": 659,
   "metadata": {},
   "outputs": [
    {
     "data": {
      "text/html": [
       "<div>\n",
       "<style scoped>\n",
       "    .dataframe tbody tr th:only-of-type {\n",
       "        vertical-align: middle;\n",
       "    }\n",
       "\n",
       "    .dataframe tbody tr th {\n",
       "        vertical-align: top;\n",
       "    }\n",
       "\n",
       "    .dataframe thead th {\n",
       "        text-align: right;\n",
       "    }\n",
       "</style>\n",
       "<table border=\"1\" class=\"dataframe\">\n",
       "  <thead>\n",
       "    <tr style=\"text-align: right;\">\n",
       "      <th></th>\n",
       "      <th>bedrooms</th>\n",
       "      <th>bathrooms</th>\n",
       "      <th>view</th>\n",
       "      <th>sqft_basement</th>\n",
       "      <th>age of the house</th>\n",
       "      <th>zipcode_98001</th>\n",
       "      <th>zipcode_98002</th>\n",
       "      <th>zipcode_98003</th>\n",
       "      <th>zipcode_98004</th>\n",
       "      <th>zipcode_98005</th>\n",
       "      <th>...</th>\n",
       "      <th>zipcode_98148</th>\n",
       "      <th>zipcode_98155</th>\n",
       "      <th>zipcode_98166</th>\n",
       "      <th>zipcode_98168</th>\n",
       "      <th>zipcode_98177</th>\n",
       "      <th>zipcode_98178</th>\n",
       "      <th>zipcode_98188</th>\n",
       "      <th>zipcode_98198</th>\n",
       "      <th>zipcode_98199</th>\n",
       "      <th>new</th>\n",
       "    </tr>\n",
       "  </thead>\n",
       "  <tbody>\n",
       "    <tr>\n",
       "      <th>0</th>\n",
       "      <td>4</td>\n",
       "      <td>3.00</td>\n",
       "      <td>0</td>\n",
       "      <td>1</td>\n",
       "      <td>49</td>\n",
       "      <td>0</td>\n",
       "      <td>0</td>\n",
       "      <td>0</td>\n",
       "      <td>0</td>\n",
       "      <td>0</td>\n",
       "      <td>...</td>\n",
       "      <td>0</td>\n",
       "      <td>0</td>\n",
       "      <td>0</td>\n",
       "      <td>0</td>\n",
       "      <td>0</td>\n",
       "      <td>0</td>\n",
       "      <td>0</td>\n",
       "      <td>0</td>\n",
       "      <td>0</td>\n",
       "      <td>351.435890</td>\n",
       "    </tr>\n",
       "    <tr>\n",
       "      <th>1</th>\n",
       "      <td>4</td>\n",
       "      <td>4.50</td>\n",
       "      <td>0</td>\n",
       "      <td>1</td>\n",
       "      <td>13</td>\n",
       "      <td>0</td>\n",
       "      <td>0</td>\n",
       "      <td>0</td>\n",
       "      <td>0</td>\n",
       "      <td>0</td>\n",
       "      <td>...</td>\n",
       "      <td>0</td>\n",
       "      <td>0</td>\n",
       "      <td>0</td>\n",
       "      <td>0</td>\n",
       "      <td>0</td>\n",
       "      <td>0</td>\n",
       "      <td>0</td>\n",
       "      <td>0</td>\n",
       "      <td>0</td>\n",
       "      <td>770.019996</td>\n",
       "    </tr>\n",
       "    <tr>\n",
       "      <th>2</th>\n",
       "      <td>2</td>\n",
       "      <td>1.00</td>\n",
       "      <td>0</td>\n",
       "      <td>1</td>\n",
       "      <td>72</td>\n",
       "      <td>0</td>\n",
       "      <td>0</td>\n",
       "      <td>0</td>\n",
       "      <td>0</td>\n",
       "      <td>0</td>\n",
       "      <td>...</td>\n",
       "      <td>0</td>\n",
       "      <td>0</td>\n",
       "      <td>0</td>\n",
       "      <td>0</td>\n",
       "      <td>0</td>\n",
       "      <td>0</td>\n",
       "      <td>0</td>\n",
       "      <td>0</td>\n",
       "      <td>0</td>\n",
       "      <td>340.309260</td>\n",
       "    </tr>\n",
       "    <tr>\n",
       "      <th>3</th>\n",
       "      <td>3</td>\n",
       "      <td>1.00</td>\n",
       "      <td>0</td>\n",
       "      <td>0</td>\n",
       "      <td>87</td>\n",
       "      <td>0</td>\n",
       "      <td>0</td>\n",
       "      <td>0</td>\n",
       "      <td>0</td>\n",
       "      <td>0</td>\n",
       "      <td>...</td>\n",
       "      <td>0</td>\n",
       "      <td>0</td>\n",
       "      <td>0</td>\n",
       "      <td>0</td>\n",
       "      <td>0</td>\n",
       "      <td>0</td>\n",
       "      <td>0</td>\n",
       "      <td>0</td>\n",
       "      <td>0</td>\n",
       "      <td>380.705271</td>\n",
       "    </tr>\n",
       "    <tr>\n",
       "      <th>4</th>\n",
       "      <td>3</td>\n",
       "      <td>1.75</td>\n",
       "      <td>0</td>\n",
       "      <td>0</td>\n",
       "      <td>37</td>\n",
       "      <td>0</td>\n",
       "      <td>0</td>\n",
       "      <td>0</td>\n",
       "      <td>0</td>\n",
       "      <td>0</td>\n",
       "      <td>...</td>\n",
       "      <td>0</td>\n",
       "      <td>0</td>\n",
       "      <td>0</td>\n",
       "      <td>0</td>\n",
       "      <td>0</td>\n",
       "      <td>0</td>\n",
       "      <td>0</td>\n",
       "      <td>0</td>\n",
       "      <td>0</td>\n",
       "      <td>365.232003</td>\n",
       "    </tr>\n",
       "  </tbody>\n",
       "</table>\n",
       "<p>5 rows × 76 columns</p>\n",
       "</div>"
      ],
      "text/plain": [
       "   bedrooms  bathrooms  view  sqft_basement  age of the house  zipcode_98001  \\\n",
       "0         4       3.00     0              1                49              0   \n",
       "1         4       4.50     0              1                13              0   \n",
       "2         2       1.00     0              1                72              0   \n",
       "3         3       1.00     0              0                87              0   \n",
       "4         3       1.75     0              0                37              0   \n",
       "\n",
       "   zipcode_98002  zipcode_98003  zipcode_98004  zipcode_98005  ...  \\\n",
       "0              0              0              0              0  ...   \n",
       "1              0              0              0              0  ...   \n",
       "2              0              0              0              0  ...   \n",
       "3              0              0              0              0  ...   \n",
       "4              0              0              0              0  ...   \n",
       "\n",
       "   zipcode_98148  zipcode_98155  zipcode_98166  zipcode_98168  zipcode_98177  \\\n",
       "0              0              0              0              0              0   \n",
       "1              0              0              0              0              0   \n",
       "2              0              0              0              0              0   \n",
       "3              0              0              0              0              0   \n",
       "4              0              0              0              0              0   \n",
       "\n",
       "   zipcode_98178  zipcode_98188  zipcode_98198  zipcode_98199         new  \n",
       "0              0              0              0              0  351.435890  \n",
       "1              0              0              0              0  770.019996  \n",
       "2              0              0              0              0  340.309260  \n",
       "3              0              0              0              0  380.705271  \n",
       "4              0              0              0              0  365.232003  \n",
       "\n",
       "[5 rows x 76 columns]"
      ]
     },
     "execution_count": 659,
     "metadata": {},
     "output_type": "execute_result"
    }
   ],
   "source": [
    "X_final = X.drop(['grade','sqft_above','sqft_living15','sqft_living'],axis=1)\n",
    "X_final.head()"
   ]
  },
  {
   "cell_type": "code",
   "execution_count": 661,
   "metadata": {},
   "outputs": [
    {
     "data": {
      "text/html": [
       "<div>\n",
       "<style scoped>\n",
       "    .dataframe tbody tr th:only-of-type {\n",
       "        vertical-align: middle;\n",
       "    }\n",
       "\n",
       "    .dataframe tbody tr th {\n",
       "        vertical-align: top;\n",
       "    }\n",
       "\n",
       "    .dataframe thead th {\n",
       "        text-align: right;\n",
       "    }\n",
       "</style>\n",
       "<table border=\"1\" class=\"dataframe\">\n",
       "  <thead>\n",
       "    <tr style=\"text-align: right;\">\n",
       "      <th></th>\n",
       "      <th>feature</th>\n",
       "      <th>VIF</th>\n",
       "      <th>GVIF</th>\n",
       "    </tr>\n",
       "  </thead>\n",
       "  <tbody>\n",
       "    <tr>\n",
       "      <th>0</th>\n",
       "      <td>bedrooms</td>\n",
       "      <td>1.484216</td>\n",
       "      <td>1.218284</td>\n",
       "    </tr>\n",
       "    <tr>\n",
       "      <th>1</th>\n",
       "      <td>bathrooms</td>\n",
       "      <td>2.775252</td>\n",
       "      <td>1.665909</td>\n",
       "    </tr>\n",
       "    <tr>\n",
       "      <th>2</th>\n",
       "      <td>view</td>\n",
       "      <td>1.257474</td>\n",
       "      <td>1.121371</td>\n",
       "    </tr>\n",
       "    <tr>\n",
       "      <th>3</th>\n",
       "      <td>sqft_basement</td>\n",
       "      <td>1.292271</td>\n",
       "      <td>1.136781</td>\n",
       "    </tr>\n",
       "    <tr>\n",
       "      <th>4</th>\n",
       "      <td>age of the house</td>\n",
       "      <td>1.990659</td>\n",
       "      <td>1.410907</td>\n",
       "    </tr>\n",
       "    <tr>\n",
       "      <th>...</th>\n",
       "      <td>...</td>\n",
       "      <td>...</td>\n",
       "      <td>...</td>\n",
       "    </tr>\n",
       "    <tr>\n",
       "      <th>71</th>\n",
       "      <td>zipcode_98178</td>\n",
       "      <td>1.469023</td>\n",
       "      <td>1.212032</td>\n",
       "    </tr>\n",
       "    <tr>\n",
       "      <th>72</th>\n",
       "      <td>zipcode_98188</td>\n",
       "      <td>1.246051</td>\n",
       "      <td>1.116266</td>\n",
       "    </tr>\n",
       "    <tr>\n",
       "      <th>73</th>\n",
       "      <td>zipcode_98198</td>\n",
       "      <td>1.506392</td>\n",
       "      <td>1.227352</td>\n",
       "    </tr>\n",
       "    <tr>\n",
       "      <th>74</th>\n",
       "      <td>zipcode_98199</td>\n",
       "      <td>1.817866</td>\n",
       "      <td>1.348282</td>\n",
       "    </tr>\n",
       "    <tr>\n",
       "      <th>75</th>\n",
       "      <td>new</td>\n",
       "      <td>2.811013</td>\n",
       "      <td>1.676608</td>\n",
       "    </tr>\n",
       "  </tbody>\n",
       "</table>\n",
       "<p>76 rows × 3 columns</p>\n",
       "</div>"
      ],
      "text/plain": [
       "             feature       VIF      GVIF\n",
       "0           bedrooms  1.484216  1.218284\n",
       "1          bathrooms  2.775252  1.665909\n",
       "2               view  1.257474  1.121371\n",
       "3      sqft_basement  1.292271  1.136781\n",
       "4   age of the house  1.990659  1.410907\n",
       "..               ...       ...       ...\n",
       "71     zipcode_98178  1.469023  1.212032\n",
       "72     zipcode_98188  1.246051  1.116266\n",
       "73     zipcode_98198  1.506392  1.227352\n",
       "74     zipcode_98199  1.817866  1.348282\n",
       "75               new  2.811013  1.676608\n",
       "\n",
       "[76 rows x 3 columns]"
      ]
     },
     "execution_count": 661,
     "metadata": {},
     "output_type": "execute_result"
    }
   ],
   "source": [
    "from statsmodels.stats.outliers_influence import variance_inflation_factor\n",
    "# VIF dataframe\n",
    "vif_data = pd.DataFrame()\n",
    "vif_data[\"feature\"] = X_final.columns\n",
    "\n",
    "vif_data[\"VIF\"] = [variance_inflation_factor(X_final.values, i)\n",
    "                          for i in range(len(X_final.columns))]\n",
    "vif_data[\"GVIF\"] = vif_data[\"VIF\"]**(1/2)\n",
    "vif_data"
   ]
  },
  {
   "cell_type": "markdown",
   "metadata": {},
   "source": [
    "##### Here, the multicollinearity present in our dataset is removed by introducing a new column and grade.We also removed the predictor 'sqft_living' since it has high value of VIF"
   ]
  },
  {
   "cell_type": "markdown",
   "metadata": {},
   "source": [
    "------ Fitting a Linear Regressor model on the new set of predictors"
   ]
  },
  {
   "cell_type": "code",
   "execution_count": 662,
   "metadata": {},
   "outputs": [
    {
     "data": {
      "text/plain": [
       "(7320, 2441)"
      ]
     },
     "execution_count": 662,
     "metadata": {},
     "output_type": "execute_result"
    }
   ],
   "source": [
    "X_train, X_valid, y_train, y_valid = train_test_split(X_final, y, test_size=0.25,\n",
    "                                                    random_state=1)\n",
    "len(X_train),len(X_valid)"
   ]
  },
  {
   "cell_type": "code",
   "execution_count": 663,
   "metadata": {},
   "outputs": [],
   "source": [
    "# create linear regression object\n",
    "reg = linear_model.LinearRegression()"
   ]
  },
  {
   "cell_type": "code",
   "execution_count": 664,
   "metadata": {},
   "outputs": [
    {
     "data": {
      "text/html": [
       "<style>#sk-container-id-23 {color: black;background-color: white;}#sk-container-id-23 pre{padding: 0;}#sk-container-id-23 div.sk-toggleable {background-color: white;}#sk-container-id-23 label.sk-toggleable__label {cursor: pointer;display: block;width: 100%;margin-bottom: 0;padding: 0.3em;box-sizing: border-box;text-align: center;}#sk-container-id-23 label.sk-toggleable__label-arrow:before {content: \"▸\";float: left;margin-right: 0.25em;color: #696969;}#sk-container-id-23 label.sk-toggleable__label-arrow:hover:before {color: black;}#sk-container-id-23 div.sk-estimator:hover label.sk-toggleable__label-arrow:before {color: black;}#sk-container-id-23 div.sk-toggleable__content {max-height: 0;max-width: 0;overflow: hidden;text-align: left;background-color: #f0f8ff;}#sk-container-id-23 div.sk-toggleable__content pre {margin: 0.2em;color: black;border-radius: 0.25em;background-color: #f0f8ff;}#sk-container-id-23 input.sk-toggleable__control:checked~div.sk-toggleable__content {max-height: 200px;max-width: 100%;overflow: auto;}#sk-container-id-23 input.sk-toggleable__control:checked~label.sk-toggleable__label-arrow:before {content: \"▾\";}#sk-container-id-23 div.sk-estimator input.sk-toggleable__control:checked~label.sk-toggleable__label {background-color: #d4ebff;}#sk-container-id-23 div.sk-label input.sk-toggleable__control:checked~label.sk-toggleable__label {background-color: #d4ebff;}#sk-container-id-23 input.sk-hidden--visually {border: 0;clip: rect(1px 1px 1px 1px);clip: rect(1px, 1px, 1px, 1px);height: 1px;margin: -1px;overflow: hidden;padding: 0;position: absolute;width: 1px;}#sk-container-id-23 div.sk-estimator {font-family: monospace;background-color: #f0f8ff;border: 1px dotted black;border-radius: 0.25em;box-sizing: border-box;margin-bottom: 0.5em;}#sk-container-id-23 div.sk-estimator:hover {background-color: #d4ebff;}#sk-container-id-23 div.sk-parallel-item::after {content: \"\";width: 100%;border-bottom: 1px solid gray;flex-grow: 1;}#sk-container-id-23 div.sk-label:hover label.sk-toggleable__label {background-color: #d4ebff;}#sk-container-id-23 div.sk-serial::before {content: \"\";position: absolute;border-left: 1px solid gray;box-sizing: border-box;top: 0;bottom: 0;left: 50%;z-index: 0;}#sk-container-id-23 div.sk-serial {display: flex;flex-direction: column;align-items: center;background-color: white;padding-right: 0.2em;padding-left: 0.2em;position: relative;}#sk-container-id-23 div.sk-item {position: relative;z-index: 1;}#sk-container-id-23 div.sk-parallel {display: flex;align-items: stretch;justify-content: center;background-color: white;position: relative;}#sk-container-id-23 div.sk-item::before, #sk-container-id-23 div.sk-parallel-item::before {content: \"\";position: absolute;border-left: 1px solid gray;box-sizing: border-box;top: 0;bottom: 0;left: 50%;z-index: -1;}#sk-container-id-23 div.sk-parallel-item {display: flex;flex-direction: column;z-index: 1;position: relative;background-color: white;}#sk-container-id-23 div.sk-parallel-item:first-child::after {align-self: flex-end;width: 50%;}#sk-container-id-23 div.sk-parallel-item:last-child::after {align-self: flex-start;width: 50%;}#sk-container-id-23 div.sk-parallel-item:only-child::after {width: 0;}#sk-container-id-23 div.sk-dashed-wrapped {border: 1px dashed gray;margin: 0 0.4em 0.5em 0.4em;box-sizing: border-box;padding-bottom: 0.4em;background-color: white;}#sk-container-id-23 div.sk-label label {font-family: monospace;font-weight: bold;display: inline-block;line-height: 1.2em;}#sk-container-id-23 div.sk-label-container {text-align: center;}#sk-container-id-23 div.sk-container {/* jupyter's `normalize.less` sets `[hidden] { display: none; }` but bootstrap.min.css set `[hidden] { display: none !important; }` so we also need the `!important` here to be able to override the default hidden behavior on the sphinx rendered scikit-learn.org. See: https://github.com/scikit-learn/scikit-learn/issues/21755 */display: inline-block !important;position: relative;}#sk-container-id-23 div.sk-text-repr-fallback {display: none;}</style><div id=\"sk-container-id-23\" class=\"sk-top-container\"><div class=\"sk-text-repr-fallback\"><pre>LinearRegression()</pre><b>In a Jupyter environment, please rerun this cell to show the HTML representation or trust the notebook. <br />On GitHub, the HTML representation is unable to render, please try loading this page with nbviewer.org.</b></div><div class=\"sk-container\" hidden><div class=\"sk-item\"><div class=\"sk-estimator sk-toggleable\"><input class=\"sk-toggleable__control sk-hidden--visually\" id=\"sk-estimator-id-23\" type=\"checkbox\" checked><label for=\"sk-estimator-id-23\" class=\"sk-toggleable__label sk-toggleable__label-arrow\">LinearRegression</label><div class=\"sk-toggleable__content\"><pre>LinearRegression()</pre></div></div></div></div></div>"
      ],
      "text/plain": [
       "LinearRegression()"
      ]
     },
     "execution_count": 664,
     "metadata": {},
     "output_type": "execute_result"
    }
   ],
   "source": [
    "# train the model using the training sets\n",
    "reg.fit(X_train, y_train)"
   ]
  },
  {
   "cell_type": "code",
   "execution_count": 665,
   "metadata": {},
   "outputs": [
    {
     "data": {
      "text/plain": [
       "array([12.41363439, 13.73185855, 12.48707324, ..., 13.22865811,\n",
       "       13.71843021, 13.22365311])"
      ]
     },
     "execution_count": 665,
     "metadata": {},
     "output_type": "execute_result"
    }
   ],
   "source": [
    "y_pred = reg.predict(X_valid)\n",
    "y_pred"
   ]
  },
  {
   "cell_type": "code",
   "execution_count": 666,
   "metadata": {},
   "outputs": [
    {
     "data": {
      "text/plain": [
       "0.859821798515955"
      ]
     },
     "execution_count": 666,
     "metadata": {},
     "output_type": "execute_result"
    }
   ],
   "source": [
    "from sklearn.metrics import r2_score\n",
    "r2_score(y_valid,y_pred)"
   ]
  },
  {
   "cell_type": "code",
   "execution_count": 667,
   "metadata": {},
   "outputs": [
    {
     "data": {
      "text/plain": [
       "0.860794643655159"
      ]
     },
     "execution_count": 667,
     "metadata": {},
     "output_type": "execute_result"
    }
   ],
   "source": [
    "adj_r6 = 1 - (1-reg.score(X_train, y_train))*(len(y_train)-1)/(len(y_train)-X_train.shape[1]-1)\n",
    "adj_r6"
   ]
  },
  {
   "cell_type": "code",
   "execution_count": 668,
   "metadata": {},
   "outputs": [
    {
     "name": "stdout",
     "output_type": "stream",
     "text": [
      "                            OLS Regression Results                            \n",
      "==============================================================================\n",
      "Dep. Variable:                  price   R-squared:                       0.862\n",
      "Model:                            OLS   Adj. R-squared:                  0.861\n",
      "Method:                 Least Squares   F-statistic:                     806.7\n",
      "Date:                Sat, 25 Jun 2022   Prob (F-statistic):               0.00\n",
      "Time:                        22:55:49   Log-Likelihood:                 1979.8\n",
      "No. Observations:                9761   AIC:                            -3808.\n",
      "Df Residuals:                    9685   BIC:                            -3261.\n",
      "Df Model:                          75                                         \n",
      "Covariance Type:            nonrobust                                         \n",
      "====================================================================================\n",
      "                       coef    std err          t      P>|t|      [0.025      0.975]\n",
      "------------------------------------------------------------------------------------\n",
      "const               11.3233      0.014    817.216      0.000      11.296      11.350\n",
      "bedrooms             0.0245      0.003      9.632      0.000       0.020       0.030\n",
      "bathrooms            0.0768      0.004     17.783      0.000       0.068       0.085\n",
      "view                 0.0835      0.003     29.242      0.000       0.078       0.089\n",
      "sqft_basement        0.0702      0.005     15.009      0.000       0.061       0.079\n",
      "age of the house     0.0021   9.69e-05     21.713      0.000       0.002       0.002\n",
      "zipcode_98001       -0.2654      0.016    -16.777      0.000      -0.296      -0.234\n",
      "zipcode_98002       -0.3108      0.022    -13.892      0.000      -0.355      -0.267\n",
      "zipcode_98003       -0.2870      0.018    -16.119      0.000      -0.322      -0.252\n",
      "zipcode_98004        0.8116      0.017     47.518      0.000       0.778       0.845\n",
      "zipcode_98005        0.4174      0.023     18.419      0.000       0.373       0.462\n",
      "zipcode_98006        0.3304      0.014     23.859      0.000       0.303       0.358\n",
      "zipcode_98007        0.3418      0.025     13.565      0.000       0.292       0.391\n",
      "zipcode_98008        0.3599      0.017     20.956      0.000       0.326       0.394\n",
      "zipcode_98010       -0.0058      0.028     -0.206      0.837      -0.061       0.050\n",
      "zipcode_98011        0.1316      0.022      6.086      0.000       0.089       0.174\n",
      "zipcode_98014        0.1257      0.026      4.868      0.000       0.075       0.176\n",
      "zipcode_98019        0.0669      0.022      2.977      0.003       0.023       0.111\n",
      "zipcode_98022       -0.1764      0.019     -9.128      0.000      -0.214      -0.139\n",
      "zipcode_98023       -0.3309      0.013    -26.205      0.000      -0.356      -0.306\n",
      "zipcode_98024        0.2078      0.032      6.441      0.000       0.145       0.271\n",
      "zipcode_98027        0.2151      0.015     14.671      0.000       0.186       0.244\n",
      "zipcode_98028        0.1171      0.017      6.862      0.000       0.084       0.151\n",
      "zipcode_98029        0.2763      0.017     16.127      0.000       0.243       0.310\n",
      "zipcode_98030       -0.2339      0.019    -12.618      0.000      -0.270      -0.198\n",
      "zipcode_98031       -0.2030      0.017    -11.866      0.000      -0.236      -0.169\n",
      "zipcode_98032       -0.3190      0.027    -12.031      0.000      -0.371      -0.267\n",
      "zipcode_98033        0.4858      0.014     34.073      0.000       0.458       0.514\n",
      "zipcode_98034        0.2351      0.012     18.893      0.000       0.211       0.259\n",
      "zipcode_98038       -0.0806      0.013     -6.353      0.000      -0.105      -0.056\n",
      "zipcode_98039        0.9217      0.044     20.894      0.000       0.835       1.008\n",
      "zipcode_98040        0.5673      0.018     32.122      0.000       0.533       0.602\n",
      "zipcode_98042       -0.2043      0.013    -16.250      0.000      -0.229      -0.180\n",
      "zipcode_98045        0.0515      0.019      2.660      0.008       0.014       0.089\n",
      "zipcode_98052        0.3197      0.012     25.806      0.000       0.295       0.344\n",
      "zipcode_98053        0.3397      0.015     23.165      0.000       0.311       0.368\n",
      "zipcode_98055       -0.1626      0.018     -8.941      0.000      -0.198      -0.127\n",
      "zipcode_98056        0.0343      0.015      2.354      0.019       0.006       0.063\n",
      "zipcode_98058       -0.1241      0.014     -9.011      0.000      -0.151      -0.097\n",
      "zipcode_98059        0.0742      0.013      5.535      0.000       0.048       0.100\n",
      "zipcode_98065        0.1300      0.018      7.377      0.000       0.095       0.165\n",
      "zipcode_98070        0.1989      0.026      7.534      0.000       0.147       0.251\n",
      "zipcode_98072        0.2150      0.017     12.746      0.000       0.182       0.248\n",
      "zipcode_98074        0.2539      0.015     17.041      0.000       0.225       0.283\n",
      "zipcode_98075        0.2484      0.016     15.624      0.000       0.217       0.280\n",
      "zipcode_98077        0.1945      0.020      9.542      0.000       0.155       0.234\n",
      "zipcode_98092       -0.2314      0.015    -15.722      0.000      -0.260      -0.203\n",
      "zipcode_98102        0.5358      0.027     19.767      0.000       0.483       0.589\n",
      "zipcode_98103        0.4534      0.013     36.122      0.000       0.429       0.478\n",
      "zipcode_98105        0.5692      0.021     27.464      0.000       0.529       0.610\n",
      "zipcode_98106       -0.0258      0.017     -1.559      0.119      -0.058       0.007\n",
      "zipcode_98107        0.4548      0.020     22.791      0.000       0.416       0.494\n",
      "zipcode_98108        0.0361      0.021      1.754      0.079      -0.004       0.077\n",
      "zipcode_98109        0.5935      0.030     19.937      0.000       0.535       0.652\n",
      "zipcode_98112        0.6330      0.018     34.581      0.000       0.597       0.669\n",
      "zipcode_98115        0.4647      0.012     38.320      0.000       0.441       0.488\n",
      "zipcode_98116        0.3719      0.017     22.280      0.000       0.339       0.405\n",
      "zipcode_98117        0.4402      0.013     34.936      0.000       0.416       0.465\n",
      "zipcode_98118        0.0982      0.013      7.433      0.000       0.072       0.124\n",
      "zipcode_98119        0.5461      0.023     24.056      0.000       0.502       0.591\n",
      "zipcode_98122        0.4055      0.018     22.732      0.000       0.371       0.441\n",
      "zipcode_98125        0.2363      0.015     16.094      0.000       0.208       0.265\n",
      "zipcode_98126        0.1831      0.016     11.263      0.000       0.151       0.215\n",
      "zipcode_98133        0.1323      0.013     10.459      0.000       0.107       0.157\n",
      "zipcode_98136        0.3232      0.017     18.475      0.000       0.289       0.358\n",
      "zipcode_98144        0.2982      0.016     18.436      0.000       0.266       0.330\n",
      "zipcode_98146       -0.0624      0.018     -3.521      0.000      -0.097      -0.028\n",
      "zipcode_98148       -0.1283      0.038     -3.338      0.001      -0.204      -0.053\n",
      "zipcode_98155        0.1180      0.014      8.549      0.000       0.091       0.145\n",
      "zipcode_98166        0.0587      0.020      2.987      0.003       0.020       0.097\n",
      "zipcode_98168       -0.2440      0.018    -13.223      0.000      -0.280      -0.208\n",
      "zipcode_98177        0.2456      0.018     13.680      0.000       0.210       0.281\n",
      "zipcode_98178       -0.1812      0.019     -9.591      0.000      -0.218      -0.144\n",
      "zipcode_98188       -0.2097      0.026     -8.052      0.000      -0.261      -0.159\n",
      "zipcode_98198       -0.2209      0.018    -12.553      0.000      -0.255      -0.186\n",
      "zipcode_98199        0.4613      0.017     27.332      0.000       0.428       0.494\n",
      "new                  0.0027    3.2e-05     85.343      0.000       0.003       0.003\n",
      "==============================================================================\n",
      "Omnibus:                      520.097   Durbin-Watson:                   2.016\n",
      "Prob(Omnibus):                  0.000   Jarque-Bera (JB):             2049.612\n",
      "Skew:                          -0.056   Prob(JB):                         0.00\n",
      "Kurtosis:                       5.242   Cond. No.                     3.23e+18\n",
      "==============================================================================\n",
      "\n",
      "Notes:\n",
      "[1] Standard Errors assume that the covariance matrix of the errors is correctly specified.\n",
      "[2] The smallest eigenvalue is 1.88e-28. This might indicate that there are\n",
      "strong multicollinearity problems or that the design matrix is singular.\n"
     ]
    },
    {
     "name": "stderr",
     "output_type": "stream",
     "text": [
      "C:\\Users\\91703\\anaconda3\\lib\\site-packages\\statsmodels\\tsa\\tsatools.py:142: FutureWarning: In a future version of pandas all arguments of concat except for the argument 'objs' will be keyword-only\n",
      "  x = pd.concat(x[::order], 1)\n"
     ]
    }
   ],
   "source": [
    "import statsmodels.api as sm\n",
    "import pandas as pd\n",
    "# adding the constant term\n",
    "x = sm.add_constant(X_)\n",
    " \n",
    "# performing the regression\n",
    "# and fitting the model\n",
    "result = sm.OLS(y, x).fit()\n",
    " \n",
    "# printing the summary table\n",
    "print(result.summary())"
   ]
  },
  {
   "cell_type": "code",
   "execution_count": 669,
   "metadata": {},
   "outputs": [
    {
     "data": {
      "text/plain": [
       "<AxesSubplot:xlabel='price'>"
      ]
     },
     "execution_count": 669,
     "metadata": {},
     "output_type": "execute_result"
    },
    {
     "data": {
      "image/png": "[encoded data removed]",
      "text/plain": [
       "<Figure size 576x288 with 1 Axes>"
      ]
     },
     "metadata": {},
     "output_type": "display_data"
    }
   ],
   "source": [
    "# importing libraries\n",
    "import seaborn as sb\n",
    "# use regplot\n",
    "sb.regplot(x = y_valid,\n",
    "            y = y_pred, \n",
    "            ci = None,\n",
    "            data = X_)"
   ]
  },
  {
   "cell_type": "code",
   "execution_count": 670,
   "metadata": {},
   "outputs": [
    {
     "data": {
      "image/png": "[encoded data removed]",
      "text/plain": [
       "<Figure size 504x288 with 1 Axes>"
      ]
     },
     "metadata": {},
     "output_type": "display_data"
    }
   ],
   "source": [
    "fig, axs = plt.subplots(1, 1,\n",
    "                        figsize =(7, 4),\n",
    "                        tight_layout = True)\n",
    " \n",
    "axs.hist(y_valid-y_pred, bins = 10)\n",
    "plt.show()"
   ]
  },
  {
   "cell_type": "code",
   "execution_count": 671,
   "metadata": {},
   "outputs": [
    {
     "name": "stderr",
     "output_type": "stream",
     "text": [
      "C:\\Users\\91703\\anaconda3\\lib\\site-packages\\statsmodels\\graphics\\gofplots.py:993: UserWarning: marker is redundantly defined by the 'marker' keyword argument and the fmt string \"bo\" (-> marker='o'). The keyword argument will take precedence.\n",
      "  ax.plot(x, y, fmt, **plot_style)\n"
     ]
    },
    {
     "data": {
      "image/png": "[encoded data removed]",
      "text/plain": [
       "<Figure size 576x288 with 1 Axes>"
      ]
     },
     "execution_count": 671,
     "metadata": {},
     "output_type": "execute_result"
    },
    {
     "data": {
      "image/png": "[encoded data removed]",
      "text/plain": [
       "<Figure size 576x288 with 1 Axes>"
      ]
     },
     "metadata": {},
     "output_type": "display_data"
    }
   ],
   "source": [
    "import statsmodels.api as sm\n",
    "sm.qqplot(y_valid - y_pred, ylabel = \"Residual Quantiles\" )"
   ]
  },
  {
   "cell_type": "code",
   "execution_count": null,
   "metadata": {},
   "outputs": [],
   "source": []
  },
  {
   "cell_type": "code",
   "execution_count": null,
   "metadata": {},
   "outputs": [],
   "source": []
  }
 ],
 "metadata": {
  "kernelspec": {
   "display_name": "Python 3 (ipykernel)",
   "language": "python",
   "name": "python3"
  },
  "language_info": {
   "codemirror_mode": {
    "name": "ipython",
    "version": 3
   },
   "file_extension": ".py",
   "mimetype": "text/x-python",
   "name": "python",
   "nbconvert_exporter": "python",
   "pygments_lexer": "ipython3",
   "version": "3.9.7"
  }
 },
 "nbformat": 4,
 "nbformat_minor": 4
}
